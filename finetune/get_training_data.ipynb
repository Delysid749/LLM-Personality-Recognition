{
 "cells": [
  {
   "metadata": {
    "ExecuteTime": {
     "end_time": "2025-04-15T15:20:44.457653Z",
     "start_time": "2025-04-15T15:20:40.201708Z"
    }
   },
   "cell_type": "code",
   "source": "!pip install -U funasr",
   "id": "d756fbe74d240cea",
   "outputs": [
    {
     "name": "stdout",
     "output_type": "stream",
     "text": [
      "Requirement already satisfied: funasr in e:\\environment\\miniconda\\envs\\voice\\lib\\site-packages (1.0.27)\n",
      "Collecting funasr\n",
      "  Using cached funasr-1.2.6-py3-none-any.whl.metadata (32 kB)\n",
      "Requirement already satisfied: scipy>=1.4.1 in e:\\environment\\miniconda\\envs\\voice\\lib\\site-packages (from funasr) (1.15.2)\n",
      "Requirement already satisfied: librosa in e:\\environment\\miniconda\\envs\\voice\\lib\\site-packages (from funasr) (0.10.2.post1)\n",
      "Requirement already satisfied: jamo in e:\\environment\\miniconda\\envs\\voice\\lib\\site-packages (from funasr) (0.4.1)\n",
      "Requirement already satisfied: PyYAML>=5.1.2 in e:\\environment\\miniconda\\envs\\voice\\lib\\site-packages (from funasr) (6.0.2)\n",
      "Requirement already satisfied: soundfile>=0.12.1 in e:\\environment\\miniconda\\envs\\voice\\lib\\site-packages (from funasr) (0.13.1)\n",
      "Requirement already satisfied: kaldiio>=2.17.0 in e:\\environment\\miniconda\\envs\\voice\\lib\\site-packages (from funasr) (2.18.0)\n",
      "Requirement already satisfied: torch-complex in e:\\environment\\miniconda\\envs\\voice\\lib\\site-packages (from funasr) (0.4.4)\n",
      "Requirement already satisfied: sentencepiece in e:\\environment\\miniconda\\envs\\voice\\lib\\site-packages (from funasr) (0.2.0)\n",
      "Requirement already satisfied: jieba in e:\\environment\\miniconda\\envs\\voice\\lib\\site-packages (from funasr) (0.42.1)\n",
      "Requirement already satisfied: pytorch-wpe in e:\\environment\\miniconda\\envs\\voice\\lib\\site-packages (from funasr) (0.0.1)\n",
      "Requirement already satisfied: editdistance>=0.5.2 in e:\\environment\\miniconda\\envs\\voice\\lib\\site-packages (from funasr) (0.8.1)\n",
      "Requirement already satisfied: oss2 in e:\\environment\\miniconda\\envs\\voice\\lib\\site-packages (from funasr) (2.19.1)\n",
      "Requirement already satisfied: tqdm in e:\\environment\\miniconda\\envs\\voice\\lib\\site-packages (from funasr) (4.67.1)\n",
      "Requirement already satisfied: umap-learn in e:\\environment\\miniconda\\envs\\voice\\lib\\site-packages (from funasr) (0.5.7)\n",
      "Requirement already satisfied: jaconv in e:\\environment\\miniconda\\envs\\voice\\lib\\site-packages (from funasr) (0.4.0)\n",
      "Requirement already satisfied: hydra-core>=1.3.2 in e:\\environment\\miniconda\\envs\\voice\\lib\\site-packages (from funasr) (1.3.2)\n",
      "Requirement already satisfied: tensorboardX in e:\\environment\\miniconda\\envs\\voice\\lib\\site-packages (from funasr) (2.6.2.2)\n",
      "Requirement already satisfied: requests in e:\\environment\\miniconda\\envs\\voice\\lib\\site-packages (from funasr) (2.32.3)\n",
      "Requirement already satisfied: modelscope in e:\\environment\\miniconda\\envs\\voice\\lib\\site-packages (from funasr) (1.23.1)\n",
      "Requirement already satisfied: omegaconf<2.4,>=2.2 in e:\\environment\\miniconda\\envs\\voice\\lib\\site-packages (from hydra-core>=1.3.2->funasr) (2.3.0)\n",
      "Requirement already satisfied: antlr4-python3-runtime==4.9.* in e:\\environment\\miniconda\\envs\\voice\\lib\\site-packages (from hydra-core>=1.3.2->funasr) (4.9.3)\n",
      "Requirement already satisfied: packaging in e:\\environment\\miniconda\\envs\\voice\\lib\\site-packages (from hydra-core>=1.3.2->funasr) (24.2)\n",
      "Requirement already satisfied: numpy in e:\\environment\\miniconda\\envs\\voice\\lib\\site-packages (from kaldiio>=2.17.0->funasr) (1.26.4)\n",
      "Requirement already satisfied: cffi>=1.0 in e:\\environment\\miniconda\\envs\\voice\\lib\\site-packages (from soundfile>=0.12.1->funasr) (1.17.1)\n",
      "Requirement already satisfied: audioread>=2.1.9 in e:\\environment\\miniconda\\envs\\voice\\lib\\site-packages (from librosa->funasr) (3.0.1)\n",
      "Requirement already satisfied: scikit-learn>=0.20.0 in e:\\environment\\miniconda\\envs\\voice\\lib\\site-packages (from librosa->funasr) (1.6.1)\n",
      "Requirement already satisfied: joblib>=0.14 in e:\\environment\\miniconda\\envs\\voice\\lib\\site-packages (from librosa->funasr) (1.4.2)\n",
      "Requirement already satisfied: decorator>=4.3.0 in e:\\environment\\miniconda\\envs\\voice\\lib\\site-packages (from librosa->funasr) (5.1.1)\n",
      "Requirement already satisfied: numba>=0.51.0 in e:\\environment\\miniconda\\envs\\voice\\lib\\site-packages (from librosa->funasr) (0.61.0)\n",
      "Requirement already satisfied: pooch>=1.1 in e:\\environment\\miniconda\\envs\\voice\\lib\\site-packages (from librosa->funasr) (1.8.2)\n",
      "Requirement already satisfied: soxr>=0.3.2 in e:\\environment\\miniconda\\envs\\voice\\lib\\site-packages (from librosa->funasr) (0.5.0.post1)\n",
      "Requirement already satisfied: typing-extensions>=4.1.1 in e:\\environment\\miniconda\\envs\\voice\\lib\\site-packages (from librosa->funasr) (4.13.2)\n",
      "Requirement already satisfied: lazy-loader>=0.1 in e:\\environment\\miniconda\\envs\\voice\\lib\\site-packages (from librosa->funasr) (0.4)\n",
      "Requirement already satisfied: msgpack>=1.0 in e:\\environment\\miniconda\\envs\\voice\\lib\\site-packages (from librosa->funasr) (1.1.0)\n",
      "Requirement already satisfied: urllib3>=1.26 in e:\\environment\\miniconda\\envs\\voice\\lib\\site-packages (from modelscope->funasr) (2.3.0)\n",
      "Requirement already satisfied: charset-normalizer<4,>=2 in e:\\environment\\miniconda\\envs\\voice\\lib\\site-packages (from requests->funasr) (3.3.2)\n",
      "Requirement already satisfied: idna<4,>=2.5 in e:\\environment\\miniconda\\envs\\voice\\lib\\site-packages (from requests->funasr) (3.10)\n",
      "Requirement already satisfied: certifi>=2017.4.17 in e:\\environment\\miniconda\\envs\\voice\\lib\\site-packages (from requests->funasr) (2025.1.31)\n",
      "Requirement already satisfied: colorama in e:\\environment\\miniconda\\envs\\voice\\lib\\site-packages (from tqdm->funasr) (0.4.6)\n",
      "Requirement already satisfied: crcmod>=1.7 in e:\\environment\\miniconda\\envs\\voice\\lib\\site-packages (from oss2->funasr) (1.7)\n",
      "Requirement already satisfied: pycryptodome>=3.4.7 in e:\\environment\\miniconda\\envs\\voice\\lib\\site-packages (from oss2->funasr) (3.21.0)\n",
      "Requirement already satisfied: aliyun-python-sdk-kms>=2.4.1 in e:\\environment\\miniconda\\envs\\voice\\lib\\site-packages (from oss2->funasr) (2.16.5)\n",
      "Requirement already satisfied: aliyun-python-sdk-core>=2.13.12 in e:\\environment\\miniconda\\envs\\voice\\lib\\site-packages (from oss2->funasr) (2.16.0)\n",
      "Requirement already satisfied: six in e:\\environment\\miniconda\\envs\\voice\\lib\\site-packages (from oss2->funasr) (1.16.0)\n",
      "Requirement already satisfied: protobuf>=3.20 in e:\\environment\\miniconda\\envs\\voice\\lib\\site-packages (from tensorboardX->funasr) (3.20.3)\n",
      "Requirement already satisfied: pynndescent>=0.5 in e:\\environment\\miniconda\\envs\\voice\\lib\\site-packages (from umap-learn->funasr) (0.5.13)\n",
      "Requirement already satisfied: jmespath<1.0.0,>=0.9.3 in e:\\environment\\miniconda\\envs\\voice\\lib\\site-packages (from aliyun-python-sdk-core>=2.13.12->oss2->funasr) (0.10.0)\n",
      "Requirement already satisfied: cryptography>=3.0.0 in e:\\environment\\miniconda\\envs\\voice\\lib\\site-packages (from aliyun-python-sdk-core>=2.13.12->oss2->funasr) (44.0.2)\n",
      "Requirement already satisfied: pycparser in e:\\environment\\miniconda\\envs\\voice\\lib\\site-packages (from cffi>=1.0->soundfile>=0.12.1->funasr) (2.21)\n",
      "Requirement already satisfied: llvmlite<0.45,>=0.44.0dev0 in e:\\environment\\miniconda\\envs\\voice\\lib\\site-packages (from numba>=0.51.0->librosa->funasr) (0.44.0)\n",
      "Requirement already satisfied: platformdirs>=2.5.0 in e:\\environment\\miniconda\\envs\\voice\\lib\\site-packages (from pooch>=1.1->librosa->funasr) (3.10.0)\n",
      "Requirement already satisfied: threadpoolctl>=3.1.0 in e:\\environment\\miniconda\\envs\\voice\\lib\\site-packages (from scikit-learn>=0.20.0->librosa->funasr) (3.5.0)\n",
      "Using cached funasr-1.2.6-py3-none-any.whl (701 kB)\n",
      "Installing collected packages: funasr\n",
      "  Attempting uninstall: funasr\n",
      "    Found existing installation: funasr 1.0.27\n",
      "    Uninstalling funasr-1.0.27:\n",
      "      Successfully uninstalled funasr-1.0.27\n",
      "Successfully installed funasr-1.2.6\n"
     ]
    }
   ],
   "execution_count": 1
  },
  {
   "metadata": {
    "ExecuteTime": {
     "end_time": "2025-04-15T15:12:56.820724Z",
     "start_time": "2025-04-15T15:12:56.807883Z"
    }
   },
   "cell_type": "code",
   "source": [
    "from src.audio_function import diarize_audio, extract_audio_features,load_sensevoice, load_emotion2vec, audio_dict2description\n",
    "from src.video2voice import extract_audio\n",
    "from src.preprocess_extract import merge_rttm_intervals, split_media_files,extract_middle_frame\n",
    "from tqdm import tqdm\n",
    "import json\n",
    "import os\n",
    "import sys\n",
    "from pathlib import Path\n",
    "current_file = Path(os.getcwd()).resolve()\n",
    "project_root = current_file.parent\n",
    "sys.path.append(str(project_root / 'src'))\n",
    "from get_body_data import analyze_person_image\n"
   ],
   "id": "5465763e0358aa71",
   "outputs": [],
   "execution_count": 9
  },
  {
   "metadata": {
    "ExecuteTime": {
     "end_time": "2025-04-15T15:04:57.233697Z",
     "start_time": "2025-04-15T15:04:38.275796Z"
    }
   },
   "cell_type": "code",
   "source": [
    "text_model = load_sensevoice()\n",
    "sar_model = load_emotion2vec()\n",
    "print(\"模型加载完成\")"
   ],
   "id": "f95304c27c604d2",
   "outputs": [
    {
     "name": "stdout",
     "output_type": "stream",
     "text": [
      "funasr version: 1.2.6.\n",
      "Downloading Model to directory: C:\\Users\\19389\\.cache\\modelscope\\hub\\models\\iic\\SenseVoiceSmall\n"
     ]
    },
    {
     "name": "stderr",
     "output_type": "stream",
     "text": [
      "2025-04-15 23:04:43,409 - modelscope - WARNING - Using branch: master as version is unstable, use with caution\n"
     ]
    },
    {
     "name": "stdout",
     "output_type": "stream",
     "text": [
      "Loading remote code failed: ./model.py, No module named 'model'\n",
      "Downloading Model to directory: C:\\Users\\19389\\.cache\\modelscope\\hub\\models\\iic\\speech_fsmn_vad_zh-cn-16k-common-pytorch\n"
     ]
    },
    {
     "name": "stderr",
     "output_type": "stream",
     "text": [
      "2025-04-15 23:04:46,549 - modelscope - WARNING - Using branch: master as version is unstable, use with caution\n"
     ]
    },
    {
     "name": "stdout",
     "output_type": "stream",
     "text": [
      "funasr version: 1.2.6.\n",
      "Downloading Model to directory: C:\\Users\\19389\\.cache\\modelscope\\hub\\models\\iic\\emotion2vec_plus_large\n"
     ]
    },
    {
     "name": "stderr",
     "output_type": "stream",
     "text": [
      "2025-04-15 23:04:48,344 - modelscope - WARNING - Using branch: master as version is unstable, use with caution\n"
     ]
    },
    {
     "name": "stdout",
     "output_type": "stream",
     "text": [
      "Detect model requirements, begin to install it: C:\\Users\\19389\\.cache\\modelscope\\hub\\models\\iic\\emotion2vec_plus_large\\requirements.txt\n",
      "install model requirements successfully\n",
      "Warning, miss key in ckpt: modality_encoders.AUDIO.decoder.blocks.0.0.weight, C:\\Users\\19389\\.cache\\modelscope\\hub\\models\\iic\\emotion2vec_plus_large\\model.pt\n",
      "Warning, miss key in ckpt: modality_encoders.AUDIO.decoder.blocks.0.0.bias, C:\\Users\\19389\\.cache\\modelscope\\hub\\models\\iic\\emotion2vec_plus_large\\model.pt\n",
      "Warning, miss key in ckpt: modality_encoders.AUDIO.decoder.blocks.1.0.weight, C:\\Users\\19389\\.cache\\modelscope\\hub\\models\\iic\\emotion2vec_plus_large\\model.pt\n",
      "Warning, miss key in ckpt: modality_encoders.AUDIO.decoder.blocks.1.0.bias, C:\\Users\\19389\\.cache\\modelscope\\hub\\models\\iic\\emotion2vec_plus_large\\model.pt\n",
      "Warning, miss key in ckpt: modality_encoders.AUDIO.decoder.blocks.2.0.weight, C:\\Users\\19389\\.cache\\modelscope\\hub\\models\\iic\\emotion2vec_plus_large\\model.pt\n",
      "Warning, miss key in ckpt: modality_encoders.AUDIO.decoder.blocks.2.0.bias, C:\\Users\\19389\\.cache\\modelscope\\hub\\models\\iic\\emotion2vec_plus_large\\model.pt\n",
      "Warning, miss key in ckpt: modality_encoders.AUDIO.decoder.blocks.3.0.weight, C:\\Users\\19389\\.cache\\modelscope\\hub\\models\\iic\\emotion2vec_plus_large\\model.pt\n",
      "Warning, miss key in ckpt: modality_encoders.AUDIO.decoder.blocks.3.0.bias, C:\\Users\\19389\\.cache\\modelscope\\hub\\models\\iic\\emotion2vec_plus_large\\model.pt\n",
      "Warning, miss key in ckpt: modality_encoders.AUDIO.decoder.proj.weight, C:\\Users\\19389\\.cache\\modelscope\\hub\\models\\iic\\emotion2vec_plus_large\\model.pt\n",
      "Warning, miss key in ckpt: modality_encoders.AUDIO.decoder.proj.bias, C:\\Users\\19389\\.cache\\modelscope\\hub\\models\\iic\\emotion2vec_plus_large\\model.pt\n",
      "模型加载完成\n"
     ]
    }
   ],
   "execution_count": 2
  },
  {
   "metadata": {
    "ExecuteTime": {
     "end_time": "2025-04-15T15:13:37.290344Z",
     "start_time": "2025-04-15T15:13:37.283860Z"
    }
   },
   "cell_type": "code",
   "source": [
    "def get_training_data(video_name):\n",
    "    audio_dir = \"../data/voice\"\n",
    "    video_dir = \"../data/video\"\n",
    "    output_dir = \"../data/output\"  # 假设你有一个输出目录用于存放中间帧\n",
    "    if not os.path.exists(output_dir):\n",
    "        os.makedirs(output_dir)\n",
    "    # 构建路径\n",
    "    video_path = os.path.join(video_dir, video_name)\n",
    "    audio_path = os.path.join(audio_dir, video_name.replace('.mp4', '.wav'))\n",
    "    if not os.path.exists(audio_path):\n",
    "        extract_audio(video_path,'wav', audio_dir)\n",
    "    frame_path = os.path.join(output_dir, video_name.replace('.mp4', '.jpg'))\n",
    "\n",
    "    print(f\"开始从视频 {video_path} 中提取音频...\")\n",
    "    # 提取音频特征\n",
    "    print(f\"正在分析 {audio_path} 的音频片段...\")\n",
    "    audio_features = extract_audio_features(audio_path, text_model, sar_model)\n",
    "    audio_description = audio_dict2description(audio_features)\n",
    "\n",
    "    # 提取视频中间帧并分析\n",
    "    print(f\"正在从视频 {video_path} 提取中间帧...\")\n",
    "    \n",
    "    extract_middle_frame(video_path, frame_path)\n",
    "    video_description = analyze_person_image(frame_path)\n",
    "\n",
    "    # 组合描述\n",
    "    combined_description = (\n",
    "        f\"Audio Analysis:\\n{audio_description}\\n\\n\"\n",
    "        f\"Video Analysis:\\n{video_description}\"\n",
    "    )\n",
    "\n",
    "    # 删除临时文件\n",
    "    print(\"清理临时文件...\")\n",
    "    os.remove(frame_path)\n",
    "\n",
    "    return combined_description\n",
    "\n",
    "\n"
   ],
   "id": "ae21f92bcd8e8180",
   "outputs": [],
   "execution_count": 10
  },
  {
   "metadata": {},
   "cell_type": "code",
   "source": [
    "result = []\n",
    "import json\n",
    "import os\n",
    "# 使用 tqdm 包装 os.listdir 的结果\n",
    "for i in tqdm(os.listdir('../data/video')[300:2300], desc=\"Processing videos\"):\n",
    "    if i.endswith('.mp4'):\n",
    "        description = get_training_data(i)\n",
    "        result.append({'video_name': i, 'description': description})\n",
    "        os.system(\"cls\")\n",
    "if not os.path.exists('../data/output'):\n",
    "    os.makedirs('../data/output')\n",
    "# 保存结果\n",
    "with open('../data/output/result.json', 'w', encoding='utf-8') as f:\n",
    "    json.dump(result, f, ensure_ascii=False, indent=4)"
   ],
   "id": "22882df4b76242d4",
   "outputs": [],
   "execution_count": null
  }
 ],
 "metadata": {
  "kernelspec": {
   "display_name": "Python 3",
   "language": "python",
   "name": "python3"
  },
  "language_info": {
   "codemirror_mode": {
    "name": "ipython",
    "version": 2
   },
   "file_extension": ".py",
   "mimetype": "text/x-python",
   "name": "python",
   "nbconvert_exporter": "python",
   "pygments_lexer": "ipython2",
   "version": "2.7.6"
  }
 },
 "nbformat": 4,
 "nbformat_minor": 5
}
