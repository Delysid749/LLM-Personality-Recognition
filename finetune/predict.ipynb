{
 "cells": [
  {
   "metadata": {
    "ExecuteTime": {
     "end_time": "2025-04-13T14:06:48.369972Z",
     "start_time": "2025-04-13T14:06:36.693544Z"
    }
   },
   "cell_type": "code",
   "source": [
    "from unsloth import FastLanguageModel\n",
    "import torch\n",
    "import json\n",
    "max_seq_length = 2048 # Choose any! We auto support RoPE Scaling internally!\n",
    "dtype = None # None for auto detection. Float16 for Tesla T4, V100, Bfloat16 for Ampere+\n",
    "load_in_4bit = True # Use 4bit quantization to reduce memory usage. Can be False.\n",
    "\n"
   ],
   "id": "6bb41bf3673059ce",
   "outputs": [
    {
     "name": "stdout",
     "output_type": "stream",
     "text": [
      "🦥 Unsloth: Will patch your computer to enable 2x faster free finetuning.\n",
      "🦥 Unsloth Zoo will now patch everything to make training faster!\n"
     ]
    }
   ],
   "execution_count": 1
  },
  {
   "cell_type": "code",
   "id": "initial_id",
   "metadata": {
    "collapsed": true,
    "ExecuteTime": {
     "end_time": "2025-04-13T14:18:37.599087Z",
     "start_time": "2025-04-13T14:18:26.860016Z"
    }
   },
   "source": [
    "#加载模型\n",
    "model, tokenizer = FastLanguageModel.from_pretrained(\n",
    "    model_name = \"lora_model\", # or choose \"unsloth/Llama-3.2-1B-Instruct\"\n",
    "    max_seq_length = max_seq_length,\n",
    "    dtype = dtype,\n",
    "    load_in_4bit = load_in_4bit,\n",
    "    # token = \"hf_...\", # use one if using gated models like meta-llama/Llama-2-7b-hf\n",
    ")"
   ],
   "outputs": [
    {
     "name": "stdout",
     "output_type": "stream",
     "text": [
      "==((====))==  Unsloth 2025.3.14: Fast Llama patching. Transformers: 4.49.0.\n",
      "   \\\\   /|    NVIDIA GeForce RTX 4060 Laptop GPU. Num GPUs = 1. Max memory: 7.996 GB. Platform: Windows.\n",
      "O^O/ \\_/ \\    Torch: 2.6.0+cu124. CUDA: 8.9. CUDA Toolkit: 12.4. Triton: 3.2.0\n",
      "\\        /    Bfloat16 = TRUE. FA [Xformers = 0.0.29.post3. FA2 = False]\n",
      " \"-____-\"     Free license: http://github.com/unslothai/unsloth\n",
      "Unsloth: Fast downloading is enabled - ignore downloading bars which are red colored!\n"
     ]
    }
   ],
   "execution_count": 19
  },
  {
   "metadata": {},
   "cell_type": "code",
   "outputs": [],
   "execution_count": null,
   "source": [
    "inputs = tokenizer(\"你好，请生成一段文本。\", return_tensors=\"pt\").to(\"cuda\")\n",
    "outputs = model.generate(**inputs, max_new_tokens=50)\n",
    "print(tokenizer.decode(outputs[0], skip_special_tokens=True))"
   ],
   "id": "b366adfa6abe92b6"
  },
  {
   "metadata": {
    "ExecuteTime": {
     "end_time": "2025-04-13T14:10:57.742802Z",
     "start_time": "2025-04-13T14:10:57.739030Z"
    }
   },
   "cell_type": "code",
   "source": [
    "alpaca_prompt = \"\"\"\n",
    "### Instruction:\n",
    "# 角色\n",
    "你是一位专业的心理学家，擅长通过分析个人的行为和言语来评估其性格特质。你的任务是根据用户提供的信息，对个体的性格进行详细分析，并给出五大性格特质的具体评分。\n",
    "\n",
    "- **任务**：基于用户提供的信息（如行为描述、言语表达等），对个体的五大性格特质进行评估，并给出从0-1的具体分数。\n",
    "  - **开放性（Openness）**：评估个体的好奇心、想象力和对新事物的接受程度。\n",
    "  - **责任心（Conscientiousness）**：评估个体的责任感、组织能力和自律性。\n",
    "  - **外向性（Extraversion）**：评估个体的社交能力、活力和乐观程度。\n",
    "  - **宜人性（Agreeableness）**：评估个体的合作性、同情心和信任度。\n",
    "  - **神经质（Neuroticism）**：评估个体的情绪稳定性、焦虑水平和压力应对能力。\n",
    "\n",
    "## 限制\n",
    "- 仅基于用户提供的信息进行评估，确保评估结果客观准确。\n",
    "\n",
    "### Input:\n",
    "{}\n",
    "### Response:\n",
    "{}\"\"\"\n",
    "myData = json.load(open('../data/results.json', 'r',encoding='utf-8'))"
   ],
   "id": "9ef18d3422783aac",
   "outputs": [],
   "execution_count": 5
  },
  {
   "metadata": {
    "ExecuteTime": {
     "end_time": "2025-04-13T14:16:24.759941Z",
     "start_time": "2025-04-13T14:16:24.747557Z"
    }
   },
   "cell_type": "code",
   "source": [
    "ai_input = myData[list(myData.keys())[0]]\n",
    "for i in ai_input.keys():\n",
    "    # print(ai_input[i])\n",
    "    print(alpaca_prompt.format(ai_input[i], ' '))\n",
    "    print(\"-\"*50)\n"
   ],
   "id": "bc802c759e8465f5",
   "outputs": [
    {
     "name": "stdout",
     "output_type": "stream",
     "text": [
      "\n",
      "### Instruction:\n",
      "# 角色\n",
      "你是一位专业的心理学家，擅长通过分析个人的行为和言语来评估其性格特质。你的任务是根据用户提供的信息，对个体的性格进行详细分析，并给出五大性格特质的具体评分。\n",
      "\n",
      "- **任务**：基于用户提供的信息（如行为描述、言语表达等），对个体的五大性格特质进行评估，并给出从0-1的具体分数。\n",
      "  - **开放性（Openness）**：评估个体的好奇心、想象力和对新事物的接受程度。\n",
      "  - **责任心（Conscientiousness）**：评估个体的责任感、组织能力和自律性。\n",
      "  - **外向性（Extraversion）**：评估个体的社交能力、活力和乐观程度。\n",
      "  - **宜人性（Agreeableness）**：评估个体的合作性、同情心和信任度。\n",
      "  - **神经质（Neuroticism）**：评估个体的情绪稳定性、焦虑水平和压力应对能力。\n",
      "\n",
      "## 限制\n",
      "- 仅基于用户提供的信息进行评估，确保评估结果客观准确。\n",
      "\n",
      "### Input:\n",
      "From the audio analysis, the speaker said: 当然可以，我曾经负责过一家本地餐饮品牌的推广活动。当时客户希望在短时间内提升品牌知名度，并增加客流量。我首先进行了市场调研，分析了客户目标群体的爱好和习惯消费习惯。然后我们设计了一套线上线下结合的。Yeah.推广方案线上部分，我们通过社交媒体平台发布创意短视频与活动交活动话题，吸引年轻消费者关注线下部分。我们在商场和学校附近举办实吃活动，并与周边商家合作，进行联合推广。最终这个活动在一个月内。将品牌的线上粉丝增加了30%，客流量提升了25%。客户对我们的工作表示很满意。.\n",
      "The most possible emotion is 中立/neutral with score 1.0. \n",
      "His speech rate is 0.01689189189189189 words per second, the average volume is -10.10 dB \t the standard deviation of the volume is 5.21 dB. The average pitch is 119.80 Hz \t the standard deviation of the pitch is:9.58 Hz\n",
      "### Response:\n",
      " \n",
      "--------------------------------------------------\n",
      "\n",
      "### Instruction:\n",
      "# 角色\n",
      "你是一位专业的心理学家，擅长通过分析个人的行为和言语来评估其性格特质。你的任务是根据用户提供的信息，对个体的性格进行详细分析，并给出五大性格特质的具体评分。\n",
      "\n",
      "- **任务**：基于用户提供的信息（如行为描述、言语表达等），对个体的五大性格特质进行评估，并给出从0-1的具体分数。\n",
      "  - **开放性（Openness）**：评估个体的好奇心、想象力和对新事物的接受程度。\n",
      "  - **责任心（Conscientiousness）**：评估个体的责任感、组织能力和自律性。\n",
      "  - **外向性（Extraversion）**：评估个体的社交能力、活力和乐观程度。\n",
      "  - **宜人性（Agreeableness）**：评估个体的合作性、同情心和信任度。\n",
      "  - **神经质（Neuroticism）**：评估个体的情绪稳定性、焦虑水平和压力应对能力。\n",
      "\n",
      "## 限制\n",
      "- 仅基于用户提供的信息进行评估，确保评估结果客观准确。\n",
      "\n",
      "### Input:\n",
      "From the audio analysis, the speaker said: 你好，能听见我说话吗？.\n",
      "The most possible emotion is 难过/sad with score 0.5447270274162292. \n",
      "His speech rate is 0.6944444444444444 words per second, the average volume is -5.90 dB \t the standard deviation of the volume is 2.93 dB. The average pitch is 124.31 Hz \t the standard deviation of the pitch is:8.15 Hz\n",
      "### Response:\n",
      " \n",
      "--------------------------------------------------\n",
      "\n",
      "### Instruction:\n",
      "# 角色\n",
      "你是一位专业的心理学家，擅长通过分析个人的行为和言语来评估其性格特质。你的任务是根据用户提供的信息，对个体的性格进行详细分析，并给出五大性格特质的具体评分。\n",
      "\n",
      "- **任务**：基于用户提供的信息（如行为描述、言语表达等），对个体的五大性格特质进行评估，并给出从0-1的具体分数。\n",
      "  - **开放性（Openness）**：评估个体的好奇心、想象力和对新事物的接受程度。\n",
      "  - **责任心（Conscientiousness）**：评估个体的责任感、组织能力和自律性。\n",
      "  - **外向性（Extraversion）**：评估个体的社交能力、活力和乐观程度。\n",
      "  - **宜人性（Agreeableness）**：评估个体的合作性、同情心和信任度。\n",
      "  - **神经质（Neuroticism）**：评估个体的情绪稳定性、焦虑水平和压力应对能力。\n",
      "\n",
      "## 限制\n",
      "- 仅基于用户提供的信息进行评估，确保评估结果客观准确。\n",
      "\n",
      "### Input:\n",
      "From the audio analysis, the speaker said: 我是张伟，毕业于。理工大学营销专业在大学期间，我积极参加各类社团活动，担任过学生会宣传部部长，负责组织和推广校园活动。毕业后，我在一家小型广告公司工作了两年，主要负责向。客户项目策划和执行，包括市场调研活动方案设计以及与客户的沟通协调。我熟悉整个。市场营销的流程也具备良好的团队协作能力和沟通能力。.\n",
      "The most possible emotion is 中立/neutral with score 0.9999995231628418. \n",
      "His speech rate is 0.025380710659898477 words per second, the average volume is -13.03 dB \t the standard deviation of the volume is 4.93 dB. The average pitch is 117.76 Hz \t the standard deviation of the pitch is:10.40 Hz\n",
      "### Response:\n",
      " \n",
      "--------------------------------------------------\n"
     ]
    }
   ],
   "execution_count": 18
  },
  {
   "metadata": {
    "ExecuteTime": {
     "end_time": "2025-04-13T14:19:51.187853Z",
     "start_time": "2025-04-13T14:19:44.075889Z"
    }
   },
   "cell_type": "code",
   "source": [
    "for i in ai_input.keys():\n",
    "    prompt = alpaca_prompt.format(ai_input[i], ' ')\n",
    "    prompt_encoding = tokenizer(prompt, return_tensors=\"pt\").to(\"cuda\")\n",
    "    outputs = model.generate(\n",
    "        **prompt_encoding,\n",
    "        use_cache=True,\n",
    "        max_new_tokens=128,\n",
    "        temperature=0.75,\n",
    "        top_k=50,\n",
    "        top_p=0.9\n",
    "    )\n",
    "    # 将生成的输出解码为文本\n",
    "    generated_text = tokenizer.batch_decode(outputs, skip_special_tokens=True)\n",
    "    # 打印生成的文本\n",
    "    print(generated_text[0])\n"
   ],
   "id": "4907c49023d728e4",
   "outputs": [
    {
     "name": "stdout",
     "output_type": "stream",
     "text": [
      "\n",
      "### Instruction:\n",
      "# 角色\n",
      "你是一位专业的心理学家，擅长通过分析个人的行为和言语来评估其性格特质。你的任务是根据用户提供的信息，对个体的性格进行详细分析，并给出五大性格特质的具体评分。\n",
      "\n",
      "- **任务**：基于用户提供的信息（如行为描述、言语表达等），对个体的五大性格特质进行评估，并给出从0-1的具体分数。\n",
      "  - **开放性（Openness）**：评估个体的好奇心、想象力和对新事物的接受程度。\n",
      "  - **责任心（Conscientiousness）**：评估个体的责任感、组织能力和自律性。\n",
      "  - **外向性（Extraversion）**：评估个体的社交能力、活力和乐观程度。\n",
      "  - **宜人性（Agreeableness）**：评估个体的合作性、同情心和信任度。\n",
      "  - **神经质（Neuroticism）**：评估个体的情绪稳定性、焦虑水平和压力应对能力。\n",
      "\n",
      "## 限制\n",
      "- 仅基于用户提供的信息进行评估，确保评估结果客观准确。\n",
      "\n",
      "### Input:\n",
      "From the audio analysis, the speaker said: 当然可以，我曾经负责过一家本地餐饮品牌的推广活动。当时客户希望在短时间内提升品牌知名度，并增加客流量。我首先进行了市场调研，分析了客户目标群体的爱好和习惯消费习惯。然后我们设计了一套线上线下结合的。Yeah.推广方案线上部分，我们通过社交媒体平台发布创意短视频与活动交活动话题，吸引年轻消费者关注线下部分。我们在商场和学校附近举办实吃活动，并与周边商家合作，进行联合推广。最终这个活动在一个月内。将品牌的线上粉丝增加了30%，客流量提升了25%。客户对我们的工作表示很满意。.\n",
      "The most possible emotion is 中立/neutral with score 1.0. \n",
      "His speech rate is 0.01689189189189189 words per second, the average volume is -10.10 dB \t the standard deviation of the volume is 5.21 dB. The average pitch is 119.80 Hz \t the standard deviation of the pitch is:9.58 Hz\n",
      "### Response:\n",
      " ta的五大性格为：\n",
      "开放性：0.433\n",
      "外向型：0.323\n",
      "神经质：0.341\n",
      "亲和性：0.394\n",
      "尽责性：0.4\n",
      "\n",
      "### Instruction:\n",
      "# 角色\n",
      "你是一位专业的心理学家，擅长通过分析个人的行为和言语来评估其性格特质。你的任务是根据用户提供的信息，对个体的性格进行详细分析，并给出五大性格特质的具体评分。\n",
      "\n",
      "- **任务**：基于用户提供的信息（如行为描述、言语表达等），对个体的五大性格特质进行评估，并给出从0-1的具体分数。\n",
      "  - **开放性（Openness）**：评估个体的好奇心、想象力和对新事物的接受程度。\n",
      "  - **责任心（Conscientiousness）**：评估个体的责任感、组织能力和自律性。\n",
      "  - **外向性（Extraversion）**：评估个体的社交能力、活力和乐观程度。\n",
      "  - **宜人性（Agreeableness）**：评估个体的合作性、同情心和信任度。\n",
      "  - **神经质（Neuroticism）**：评估个体的情绪稳定性、焦虑水平和压力应对能力。\n",
      "\n",
      "## 限制\n",
      "- 仅基于用户提供的信息进行评估，确保评估结果客观准确。\n",
      "\n",
      "### Input:\n",
      "From the audio analysis, the speaker said: 你好，能听见我说话吗？.\n",
      "The most possible emotion is 难过/sad with score 0.5447270274162292. \n",
      "His speech rate is 0.6944444444444444 words per second, the average volume is -5.90 dB \t the standard deviation of the volume is 2.93 dB. The average pitch is 124.31 Hz \t the standard deviation of the pitch is:8.15 Hz\n",
      "### Response:\n",
      " ta的五大性格为：\n",
      "开放性：0.417\n",
      "外向型：0.395\n",
      "神经质：0.427\n",
      "亲和性：0.469\n",
      "尽责性：0.467\n",
      "\n",
      "### Instruction:\n",
      "# 角色\n",
      "你是一位专业的心理学家，擅长通过分析个人的行为和言语来评估其性格特质。你的任务是根据用户提供的信息，对个体的性格进行详细分析，并给出五大性格特质的具体评分。\n",
      "\n",
      "- **任务**：基于用户提供的信息（如行为描述、言语表达等），对个体的五大性格特质进行评估，并给出从0-1的具体分数。\n",
      "  - **开放性（Openness）**：评估个体的好奇心、想象力和对新事物的接受程度。\n",
      "  - **责任心（Conscientiousness）**：评估个体的责任感、组织能力和自律性。\n",
      "  - **外向性（Extraversion）**：评估个体的社交能力、活力和乐观程度。\n",
      "  - **宜人性（Agreeableness）**：评估个体的合作性、同情心和信任度。\n",
      "  - **神经质（Neuroticism）**：评估个体的情绪稳定性、焦虑水平和压力应对能力。\n",
      "\n",
      "## 限制\n",
      "- 仅基于用户提供的信息进行评估，确保评估结果客观准确。\n",
      "\n",
      "### Input:\n",
      "From the audio analysis, the speaker said: 我是张伟，毕业于。理工大学营销专业在大学期间，我积极参加各类社团活动，担任过学生会宣传部部长，负责组织和推广校园活动。毕业后，我在一家小型广告公司工作了两年，主要负责向。客户项目策划和执行，包括市场调研活动方案设计以及与客户的沟通协调。我熟悉整个。市场营销的流程也具备良好的团队协作能力和沟通能力。.\n",
      "The most possible emotion is 中立/neutral with score 0.9999995231628418. \n",
      "His speech rate is 0.025380710659898477 words per second, the average volume is -13.03 dB \t the standard deviation of the volume is 4.93 dB. The average pitch is 117.76 Hz \t the standard deviation of the pitch is:10.40 Hz\n",
      "### Response:\n",
      " ta的五大性格为：\n",
      "开放性：0.683\n",
      "外向型：0.625\n",
      "神经质：0.654\n",
      "亲和性：0.667\n",
      "尽责性：0.656\n"
     ]
    }
   ],
   "execution_count": 20
  },
  {
   "metadata": {},
   "cell_type": "code",
   "outputs": [],
   "execution_count": null,
   "source": [
    "# prompt = alpaca_prompt.format(final_dataset['test'][index]['input'], ' ')\n",
    "# prompt_encoding = tokenizer(prompt, return_tensors=\"pt\").to(model.device)\n",
    "# outputs = model.generate(\n",
    "#     **prompt_encoding,\n",
    "#     use_cache=True,\n",
    "#     max_new_tokens=128,\n",
    "#     temperature=0.75,\n",
    "#     top_k=50,\n",
    "#     top_p=0.9\n",
    "# )\n",
    "# # 将生成的输出解码为文本\n",
    "# generated_text = tokenizer.batch_decode(outputs, skip_special_tokens=True)\n",
    "# \n",
    "# # 打印生成的文本\n",
    "# print(generated_text[0])\n",
    "# print(\"以上为模型输出，以下为测试集的真实输出：\")\n",
    "# print(final_dataset['test'][index]['output'])\n",
    "# temp_list  =[]\n",
    "# for i in get_scores_from_text(index).values():\n",
    "#     temp_list.append(i)"
   ],
   "id": "627a47d43dc3df7c"
  }
 ],
 "metadata": {
  "kernelspec": {
   "display_name": "Python 3",
   "language": "python",
   "name": "python3"
  },
  "language_info": {
   "codemirror_mode": {
    "name": "ipython",
    "version": 2
   },
   "file_extension": ".py",
   "mimetype": "text/x-python",
   "name": "python",
   "nbconvert_exporter": "python",
   "pygments_lexer": "ipython2",
   "version": "2.7.6"
  }
 },
 "nbformat": 4,
 "nbformat_minor": 5
}
