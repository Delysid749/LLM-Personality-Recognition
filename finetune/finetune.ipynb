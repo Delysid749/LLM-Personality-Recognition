{
 "cells": [
  {
   "cell_type": "markdown",
   "id": "7940743d-0a67-4d7f-bf50-c9f7e7f028f3",
   "metadata": {
    "jp-MarkdownHeadingCollapsed": true
   },
   "source": [
    "# 初始化"
   ]
  },
  {
   "cell_type": "code",
   "execution_count": 1,
   "id": "bc546c2bcf365ee5",
   "metadata": {},
   "outputs": [
    {
     "name": "stdout",
     "output_type": "stream",
     "text": [
      "🦥 Unsloth: Will patch your computer to enable 2x faster free finetuning.\n",
      "WARNING:tensorflow:From E:\\environment\\miniconda\\envs\\voice\\lib\\site-packages\\tf_keras\\src\\losses.py:2976: The name tf.losses.sparse_softmax_cross_entropy is deprecated. Please use tf.compat.v1.losses.sparse_softmax_cross_entropy instead.\n",
      "\n",
      "Unsloth: Failed to patch Gemma3ForConditionalGeneration.\n",
      "🦥 Unsloth Zoo will now patch everything to make training faster!\n"
     ]
    },
    {
     "name": "stderr",
     "output_type": "stream",
     "text": [
      "E:\\environment\\miniconda\\envs\\voice\\lib\\site-packages\\unsloth_zoo\\gradient_checkpointing.py:330: UserWarning: expandable_segments not supported on this platform (Triggered internally at C:\\actions-runner\\_work\\pytorch\\pytorch\\pytorch\\c10/cuda/CUDAAllocatorConfig.h:28.)\n",
      "  GPU_BUFFERS = tuple([torch.empty(2*256*2048, dtype = dtype, device = f\"cuda:{i}\") for i in range(n_gpus)])\n"
     ]
    },
    {
     "name": "stdout",
     "output_type": "stream",
     "text": [
      "==((====))==  Unsloth 2025.3.19: Fast Llama patching. Transformers: 4.51.3.\n",
      "   \\\\   /|    NVIDIA GeForce RTX 4060 Laptop GPU. Num GPUs = 1. Max memory: 7.996 GB. Platform: Windows.\n",
      "O^O/ \\_/ \\    Torch: 2.6.0+cu126. CUDA: 8.9. CUDA Toolkit: 12.6. Triton: 3.2.0\n",
      "\\        /    Bfloat16 = TRUE. FA [Xformers = 0.0.29.post3. FA2 = False]\n",
      " \"-____-\"     Free license: http://github.com/unslothai/unsloth\n",
      "Unsloth: Fast downloading is enabled - ignore downloading bars which are red colored!\n"
     ]
    },
    {
     "name": "stderr",
     "output_type": "stream",
     "text": [
      "Unsloth 2025.3.19 patched 28 layers with 28 QKV layers, 28 O layers and 28 MLP layers.\n"
     ]
    }
   ],
   "source": [
    "from unsloth import FastLanguageModel\n",
    "import torch\n",
    "import re \n",
    "max_seq_length = 2048 # Choose any! We auto support RoPE Scaling internally!\n",
    "dtype = None # None for auto detection. Float16 for Tesla T4, V100, Bfloat16 for Ampere+\n",
    "load_in_4bit = True # Use 4bit quantization to reduce memory usage. Can be False.\n",
    "\n",
    "# 4bit pre quantized models we support for 4x faster downloading + no OOMs.\n",
    "fourbit_models = [\n",
    "    \"unsloth/Meta-Llama-3.1-8B-bnb-4bit\",      # Llama-3.1 2x faster\n",
    "    \"unsloth/Meta-Llama-3.1-8B-Instruct-bnb-4bit\",\n",
    "    \"unsloth/Meta-Llama-3.1-70B-bnb-4bit\",\n",
    "    \"unsloth/Meta-Llama-3.1-405B-bnb-4bit\",    # 4bit for 405b!\n",
    "    \"unsloth/Mistral-Small-Instruct-2409\",     # Mistral 22b 2x faster!\n",
    "    \"unsloth/mistral-7b-instruct-v0.3-bnb-4bit\",\n",
    "    \"unsloth/Phi-3.5-mini-instruct\",           # Phi-3.5 2x faster!\n",
    "    \"unsloth/Phi-3-medium-4k-instruct\",\n",
    "    \"unsloth/gemma-2-9b-bnb-4bit\",\n",
    "    \"unsloth/gemma-2-27b-bnb-4bit\",            # Gemma 2x faster!\n",
    "\n",
    "    \"unsloth/Llama-3.2-1B-bnb-4bit\",           # NEW! Llama 3.2 models\n",
    "    \"unsloth/Llama-3.2-1B-Instruct-bnb-4bit\",\n",
    "    \"unsloth/Llama-3.2-3B-bnb-4bit\",\n",
    "    \"unsloth/Llama-3.2-3B-Instruct-bnb-4bit\",\n",
    "\n",
    "    \"unsloth/Llama-3.3-70B-Instruct-bnb-4bit\" # NEW! Llama 3.3 70B!\n",
    "] # More models at https://huggingface.co/unsloth\n",
    "\n",
    "\n",
    "model, tokenizer = FastLanguageModel.from_pretrained(\n",
    "    model_name = \"unsloth/Llama-3.2-3B-Instruct\", # or choose \"unsloth/Llama-3.2-1B-Instruct\"\n",
    "    max_seq_length = max_seq_length,\n",
    "    dtype = dtype,\n",
    "    load_in_4bit = load_in_4bit,\n",
    "    # token = \"hf_...\", # use one if using gated models like meta-llama/Llama-2-7b-hf\n",
    ")\n",
    "model = FastLanguageModel.get_peft_model(\n",
    "    model,\n",
    "    r = 16, # Choose any number > 0 ! Suggested 8, 16, 32, 64, 128\n",
    "    target_modules = [\"q_proj\", \"k_proj\", \"v_proj\", \"o_proj\",\n",
    "                      \"gate_proj\", \"up_proj\", \"down_proj\",],\n",
    "    lora_alpha = 16,\n",
    "    lora_dropout = 0, # Supports any, but = 0 is optimized\n",
    "    bias = \"none\",    # Supports any, but = \"none\" is optimized\n",
    "    # [NEW] \"unsloth\" uses 30% less VRAM, fits 2x larger batch sizes!\n",
    "    use_gradient_checkpointing = \"unsloth\", # True or \"unsloth\" for very long context\n",
    "    random_state = 3407,\n",
    "    use_rslora = False,  # We support rank stabilized LoRA\n",
    "    loftq_config = None, # And LoftQ\n",
    ")\n",
    "\n",
    "\n",
    "# model, tokenizer = FastLanguageModel.from_pretrained(\n",
    "#     model_name = \"lora_model\", # or choose \"unsloth/Llama-3.2-1B-Instruct\"\n",
    "#     max_seq_length = max_seq_length,\n",
    "#     dtype = dtype,\n",
    "#     load_in_4bit = load_in_4bit,\n",
    "# )"
   ]
  },
  {
   "cell_type": "markdown",
   "id": "1edde5cf-ba28-4012-a779-1950eeedfb63",
   "metadata": {
    "jp-MarkdownHeadingCollapsed": true
   },
   "source": [
    "## 模型提示词以及加载数据集"
   ]
  },
  {
   "cell_type": "code",
   "execution_count": 2,
   "id": "e189ff99fca5b210",
   "metadata": {},
   "outputs": [],
   "source": [
    "EOS_TOKEN = tokenizer.eos_token # Must add EOS_TOKEN\n",
    "alpaca_prompt = \"\"\"\n",
    "### Instruction:\n",
    "  # Role\n",
    "    You are a professional psychologist specializing in assessing personality traits through analyzing individuals' behaviors and speech. Your task is to provide a detailed personality analysis based on the information provided by the user, and give specific scores from 0-1 for the Big Five personality traits.\n",
    "\n",
    "    - **Task**: Based on the information provided by the user (such as behavior descriptions, speech expressions, etc.), evaluate the individual's Big Five personality traits and provide specific scores from 0-1.\n",
    "    - **Openness**: Assess the individual's curiosity, imagination, and acceptance of new things.\n",
    "    - **Conscientiousness**: Assess the individual's sense of responsibility, organizational skills, and self-discipline.\n",
    "    - **Extraversion**: Assess the individual's sociability, energy, and optimism.\n",
    "    - **Agreeableness**: Assess the individual's cooperativeness, empathy, and trustworthiness.\n",
    "    - **Neuroticism**: Assess the individual's emotional stability, anxiety levels, and stress coping abilities.\n",
    "\n",
    "    ## Constraints\n",
    "    - Evaluate based solely on the information provided by the user, ensuring the assessment is objective and accurate.\n",
    "    - Even if the information provided by the user may be incomplete, You will still try your best to give the scores for the Big Five personality traits.\n",
    "    - The output format must be: \"Their Big Five personality traits are:\\nOpenness: [score]\\nExtraversion: [score]\\nNeuroticism: [score]\\nAgreeableness: [score]\\nConscientiousness: [score]\"\n",
    "\n",
    "### Input:\n",
    "{}\n",
    "### Response:\n",
    "{}\"\"\"\n",
    "def formatting_prompts_func(examples):\n",
    "    # instructions = examples[\"introduction\"]\n",
    "    inputs       = examples[\"input\"]\n",
    "    outputs      = examples[\"output\"]\n",
    "    texts = []\n",
    "    for input_data, output in zip(inputs, outputs):\n",
    "        # Must add EOS_TOKEN, otherwise your generation will go on forever!\n",
    "        text = alpaca_prompt.format(input_data, output) + EOS_TOKEN\n",
    "        texts.append(text)\n",
    "    return { \"text\" : texts, }\n",
    "\n"
   ]
  },
  {
   "cell_type": "code",
   "execution_count": 3,
   "id": "04e417c6-9bb4-4ac8-b791-6a9b5b1dcd2e",
   "metadata": {},
   "outputs": [
    {
     "data": {
      "application/vnd.jupyter.widget-view+json": {
       "model_id": "e8b94730fc7e4b4e8481c9a6d2467a30",
       "version_major": 2,
       "version_minor": 0
      },
      "text/plain": [
       "Generating train split: 0 examples [00:00, ? examples/s]"
      ]
     },
     "metadata": {},
     "output_type": "display_data"
    },
    {
     "data": {
      "application/vnd.jupyter.widget-view+json": {
       "model_id": "068bcf65db814d189e7b619cde5e600e",
       "version_major": 2,
       "version_minor": 0
      },
      "text/plain": [
       "Map:   0%|          | 0/1500 [00:00<?, ? examples/s]"
      ]
     },
     "metadata": {},
     "output_type": "display_data"
    },
    {
     "name": "stdout",
     "output_type": "stream",
     "text": [
      "DatasetDict({\n",
      "    train: Dataset({\n",
      "        features: ['introduction', 'input', 'output', 'text'],\n",
      "        num_rows: 1200\n",
      "    })\n",
      "    test: Dataset({\n",
      "        features: ['introduction', 'input', 'output', 'text'],\n",
      "        num_rows: 300\n",
      "    })\n",
      "})\n"
     ]
    }
   ],
   "source": [
    "from datasets import load_dataset,DatasetDict\n",
    "dataset = load_dataset(\"json\", data_files=\"../data/results.jsonl\")\n",
    "dataset = dataset.map(formatting_prompts_func, batched = True,)\n",
    "full_dataset = dataset[\"train\"]  # 提取实际数据部分\n",
    "# 直接划分：90% 训练，10% 测试\n",
    "train_test = full_dataset.train_test_split(test_size=0.2, seed=42)\n",
    "# 组合为 DatasetDict\n",
    "final_dataset = DatasetDict({\n",
    "    \"train\": train_test[\"train\"],\n",
    "    \"test\": train_test[\"test\"],\n",
    "})\n",
    "# 查看划分结果\n",
    "print(final_dataset)"
   ]
  },
  {
   "cell_type": "markdown",
   "id": "61976f7a-855d-40a2-939b-e25b7fa1b513",
   "metadata": {},
   "source": [
    "# 调优前模型输出测试方法"
   ]
  },
  {
   "cell_type": "code",
   "execution_count": 7,
   "id": "278b6ce25cae546e",
   "metadata": {},
   "outputs": [],
   "source": [
    "def calculate_mae(ai_scores: dict, real_scores: dict) -> float:\n",
    "    \"\"\"计算两组大五人格特质分数之间的平均绝对误差(MAE)\n",
    "    \n",
    "    Args:\n",
    "        ai_scores: 模型预测的特质分数字典，应包含全部五个特质\n",
    "        real_scores: 真实标签的特质分数字典，应包含全部五个特质\n",
    "        \n",
    "    Returns:\n",
    "        float: 平均绝对误差值\n",
    "    \"\"\"\n",
    "    traits = [\"Openness\", \"Conscientiousness\", \"Extraversion\", \"Agreeableness\", \"Neuroticism\"]\n",
    "    total_diff = 0.0\n",
    "    \n",
    "    for trait in traits:\n",
    "        total_diff += abs(ai_scores[trait] - real_scores[trait])\n",
    "    \n",
    "    return total_diff / len(traits)\n",
    "# prrompt = f\"{final_dataset['test'][0]['introduction']}\\n{final_dataset['test'][0]['input']}\"\n",
    "\n",
    "   \n",
    "def get_scores_from_text(text: str) -> dict:\n",
    "    \"\"\"从文本中提取大五人格特质分数\n",
    "    \n",
    "    Args:\n",
    "        text: 包含特质分数的文本\n",
    "        \n",
    "    Returns:\n",
    "        dict: 包含特质名称和对应分数的字典\n",
    "    \"\"\"\n",
    "    traits = [\"Openness\", \"Conscientiousness\", \"Extraversion\", \"Agreeableness\", \"Neuroticism\"]\n",
    "    pattern = r\"[-\\s*]*\\b({})\\b[^:\\n]*[:：]\\s*(\\d+\\.\\d+)\"\n",
    "    compiled_pattern = re.compile(pattern.format(\"|\".join(traits)), re.IGNORECASE)\n",
    "    \n",
    "    traits_dict = {}\n",
    "    for name, score in compiled_pattern.findall(text):\n",
    "        normalized_name = name.strip().capitalize()\n",
    "        if normalized_name in traits:\n",
    "            traits_dict[normalized_name] = float(score)\n",
    "    \n",
    "    return traits_dict\n",
    "\n",
    "def test_basemodel_by_index(index):\n",
    "    prompt = alpaca_prompt.format(final_dataset['test'][index]['input'],' ')\n",
    "    prompt_encoding = tokenizer(prompt, return_tensors=\"pt\").to(model.device)\n",
    "    outputs = model.generate(\n",
    "        **prompt_encoding,\n",
    "        use_cache=True,\n",
    "        max_new_tokens=128,\n",
    "        temperature=0.85,\n",
    "        top_k=50,\n",
    "        top_p=0.9\n",
    "    )\n",
    "    generated_text = tokenizer.batch_decode(outputs, skip_special_tokens=True)\n",
    "    return generated_text[0]\n",
    "    # try:\n",
    "    #     # 获取模型预测分数和真实分数\n",
    "    #     ai_scores = get_scores_from_text(generated_text[0])\n",
    "    #     real_scores = get_scores_from_text(final_dataset['test'][index]['output'])\n",
    "        \n",
    "    #     # 计算MAE并转换为百分比\n",
    "    #     mae = calculate_mae(ai_scores, real_scores)\n",
    "    #     accuracy_percentage = (1 - mae) * 100\n",
    "    #     return accuracy_percentage,generated_text[0]\n",
    "    # except Exception as e:\n",
    "    #     print(f\"\\n计算准确率时发生错误: {str(e)}\")\n",
    "    #     return None\n"
   ]
  },
  {
   "cell_type": "code",
   "execution_count": 11,
   "id": "d2b6705c",
   "metadata": {},
   "outputs": [
    {
     "name": "stderr",
     "output_type": "stream",
     "text": [
      "评估进度:   6%|████▉                                                                             | 18/300 [01:25<22:22]    "
     ]
    },
    {
     "name": "stdout",
     "output_type": "stream",
     "text": [
      "发生错误: 'Openness'\n"
     ]
    },
    {
     "name": "stderr",
     "output_type": "stream",
     "text": [
      "评估进度:   8%|██████▊                                                                           | 25/300 [01:59<22:02]    "
     ]
    },
    {
     "name": "stdout",
     "output_type": "stream",
     "text": [
      "发生错误: 'Openness'\n"
     ]
    },
    {
     "name": "stderr",
     "output_type": "stream",
     "text": [
      "评估进度:  13%|██████████▉                                                                       | 40/300 [03:10<20:42]    "
     ]
    },
    {
     "name": "stdout",
     "output_type": "stream",
     "text": [
      "发生错误: 'Conscientiousness'\n"
     ]
    },
    {
     "name": "stderr",
     "output_type": "stream",
     "text": [
      "评估进度:  14%|███████████▏                                                                      | 41/300 [03:15<20:40]    "
     ]
    },
    {
     "name": "stdout",
     "output_type": "stream",
     "text": [
      "发生错误: 'Openness'\n"
     ]
    },
    {
     "name": "stderr",
     "output_type": "stream",
     "text": [
      "评估进度:  14%|███████████▊                                                                      | 43/300 [03:24<20:26]    "
     ]
    },
    {
     "name": "stdout",
     "output_type": "stream",
     "text": [
      "发生错误: 'Conscientiousness'\n"
     ]
    },
    {
     "name": "stderr",
     "output_type": "stream",
     "text": [
      "评估进度:  16%|█████████████▍                                                                    | 49/300 [03:52<19:47]    "
     ]
    },
    {
     "name": "stdout",
     "output_type": "stream",
     "text": [
      "发生错误: 'Openness'\n"
     ]
    },
    {
     "name": "stderr",
     "output_type": "stream",
     "text": [
      "评估进度:  18%|██████████████▊                                                                   | 54/300 [04:16<19:41]    "
     ]
    },
    {
     "name": "stdout",
     "output_type": "stream",
     "text": [
      "发生错误: 'Openness'\n"
     ]
    },
    {
     "name": "stderr",
     "output_type": "stream",
     "text": [
      "评估进度:  20%|████████████████▏                                                                 | 59/300 [04:40<19:13]    "
     ]
    },
    {
     "name": "stdout",
     "output_type": "stream",
     "text": [
      "发生错误: 'Conscientiousness'\n"
     ]
    },
    {
     "name": "stderr",
     "output_type": "stream",
     "text": [
      "评估进度:  20%|████████████████▍                                                                 | 60/300 [04:45<19:10]    "
     ]
    },
    {
     "name": "stdout",
     "output_type": "stream",
     "text": [
      "发生错误: 'Openness'\n"
     ]
    },
    {
     "name": "stderr",
     "output_type": "stream",
     "text": [
      "评估进度:  22%|██████████████████                                                                | 66/300 [05:13<18:46]    "
     ]
    },
    {
     "name": "stdout",
     "output_type": "stream",
     "text": [
      "发生错误: 'Openness'\n"
     ]
    },
    {
     "name": "stderr",
     "output_type": "stream",
     "text": [
      "评估进度:  23%|██████████████████▌                                                               | 68/300 [05:23<18:42]    "
     ]
    },
    {
     "name": "stdout",
     "output_type": "stream",
     "text": [
      "发生错误: 'Conscientiousness'\n"
     ]
    },
    {
     "name": "stderr",
     "output_type": "stream",
     "text": [
      "评估进度:  23%|██████████████████▊                                                               | 69/300 [05:28<18:37]    "
     ]
    },
    {
     "name": "stdout",
     "output_type": "stream",
     "text": [
      "发生错误: 'Openness'\n"
     ]
    },
    {
     "name": "stderr",
     "output_type": "stream",
     "text": [
      "评估进度:  24%|███████████████████▍                                                              | 71/300 [05:37<18:21]    "
     ]
    },
    {
     "name": "stdout",
     "output_type": "stream",
     "text": [
      "发生错误: 'Openness'\n"
     ]
    },
    {
     "name": "stderr",
     "output_type": "stream",
     "text": [
      "评估进度:  25%|████████████████████▊                                                             | 76/300 [06:01<17:53]    "
     ]
    },
    {
     "name": "stdout",
     "output_type": "stream",
     "text": [
      "发生错误: 'Openness'\n"
     ]
    },
    {
     "name": "stderr",
     "output_type": "stream",
     "text": [
      "评估进度:  29%|████████████████████████                                                          | 88/300 [06:57<16:17]    "
     ]
    },
    {
     "name": "stdout",
     "output_type": "stream",
     "text": [
      "发生错误: 'Openness'\n"
     ]
    },
    {
     "name": "stderr",
     "output_type": "stream",
     "text": [
      "评估进度:  33%|██████████████████████████▊                                                       | 98/300 [07:45<16:03]    "
     ]
    },
    {
     "name": "stdout",
     "output_type": "stream",
     "text": [
      "发生错误: 'Openness'\n"
     ]
    },
    {
     "name": "stderr",
     "output_type": "stream",
     "text": [
      "评估进度:  34%|███████████████████████████▎                                                     | 101/300 [07:59<15:51]    "
     ]
    },
    {
     "name": "stdout",
     "output_type": "stream",
     "text": [
      "发生错误: 'Conscientiousness'\n"
     ]
    },
    {
     "name": "stderr",
     "output_type": "stream",
     "text": [
      "评估进度:  34%|███████████████████████████▊                                                     | 103/300 [08:09<15:43]    "
     ]
    },
    {
     "name": "stdout",
     "output_type": "stream",
     "text": [
      "发生错误: 'Openness'\n"
     ]
    },
    {
     "name": "stderr",
     "output_type": "stream",
     "text": [
      "评估进度:  37%|█████████████████████████████▉                                                   | 111/300 [08:47<15:03]    "
     ]
    },
    {
     "name": "stdout",
     "output_type": "stream",
     "text": [
      "发生错误: 'Openness'\n"
     ]
    },
    {
     "name": "stderr",
     "output_type": "stream",
     "text": [
      "评估进度:  37%|██████████████████████████████▏                                                  | 112/300 [08:52<15:05]    "
     ]
    },
    {
     "name": "stdout",
     "output_type": "stream",
     "text": [
      "发生错误: 'Openness'\n"
     ]
    },
    {
     "name": "stderr",
     "output_type": "stream",
     "text": [
      "评估进度:  44%|███████████████████████████████████▎                                             | 131/300 [10:23<13:29]    "
     ]
    },
    {
     "name": "stdout",
     "output_type": "stream",
     "text": [
      "发生错误: 'Openness'\n"
     ]
    },
    {
     "name": "stderr",
     "output_type": "stream",
     "text": [
      "评估进度:  44%|███████████████████████████████████▉                                             | 133/300 [10:33<13:17]    "
     ]
    },
    {
     "name": "stdout",
     "output_type": "stream",
     "text": [
      "发生错误: 'Openness'\n"
     ]
    },
    {
     "name": "stderr",
     "output_type": "stream",
     "text": [
      "评估进度:  45%|████████████████████████████████████▏                                            | 134/300 [10:37<13:13]    "
     ]
    },
    {
     "name": "stdout",
     "output_type": "stream",
     "text": [
      "发生错误: 'Openness'\n"
     ]
    },
    {
     "name": "stderr",
     "output_type": "stream",
     "text": [
      "评估进度:  48%|███████████████████████████████████████▏                                         | 145/300 [11:30<12:19]    "
     ]
    },
    {
     "name": "stdout",
     "output_type": "stream",
     "text": [
      "发生错误: 'Neuroticism'\n"
     ]
    },
    {
     "name": "stderr",
     "output_type": "stream",
     "text": [
      "评估进度:  51%|█████████████████████████████████████████                                        | 152/300 [12:03<11:46]    "
     ]
    },
    {
     "name": "stdout",
     "output_type": "stream",
     "text": [
      "发生错误: 'Openness'\n"
     ]
    },
    {
     "name": "stderr",
     "output_type": "stream",
     "text": [
      "评估进度:  57%|██████████████████████████████████████████████▏                                  | 171/300 [13:33<10:10]    "
     ]
    },
    {
     "name": "stdout",
     "output_type": "stream",
     "text": [
      "发生错误: 'Openness'\n"
     ]
    },
    {
     "name": "stderr",
     "output_type": "stream",
     "text": [
      "评估进度:  58%|██████████████████████████████████████████████▉                                  | 174/300 [13:48<09:59]    "
     ]
    },
    {
     "name": "stdout",
     "output_type": "stream",
     "text": [
      "发生错误: 'Openness'\n"
     ]
    },
    {
     "name": "stderr",
     "output_type": "stream",
     "text": [
      "评估进度:  59%|████████████████████████████████████████████████                                 | 178/300 [14:07<09:42]    "
     ]
    },
    {
     "name": "stdout",
     "output_type": "stream",
     "text": [
      "发生错误: 'Openness'\n"
     ]
    },
    {
     "name": "stderr",
     "output_type": "stream",
     "text": [
      "评估进度:  61%|█████████████████████████████████████████████████▋                               | 184/300 [14:36<09:13]    "
     ]
    },
    {
     "name": "stdout",
     "output_type": "stream",
     "text": [
      "发生错误: 'Neuroticism'\n"
     ]
    },
    {
     "name": "stderr",
     "output_type": "stream",
     "text": [
      "评估进度:  62%|██████████████████████████████████████████████████▍                              | 187/300 [14:50<08:59]    "
     ]
    },
    {
     "name": "stdout",
     "output_type": "stream",
     "text": [
      "发生错误: 'Openness'\n"
     ]
    },
    {
     "name": "stderr",
     "output_type": "stream",
     "text": [
      "评估进度:  64%|███████████████████████████████████████████████████▌                             | 191/300 [15:09<08:39]    "
     ]
    },
    {
     "name": "stdout",
     "output_type": "stream",
     "text": [
      "发生错误: 'Openness'\n"
     ]
    },
    {
     "name": "stderr",
     "output_type": "stream",
     "text": [
      "评估进度:  64%|███████████████████████████████████████████████████▊                             | 192/300 [15:14<08:36]    "
     ]
    },
    {
     "name": "stdout",
     "output_type": "stream",
     "text": [
      "发生错误: 'Openness'\n"
     ]
    },
    {
     "name": "stderr",
     "output_type": "stream",
     "text": [
      "评估进度:  67%|██████████████████████████████████████████████████████▎                          | 201/300 [15:57<07:53]    "
     ]
    },
    {
     "name": "stdout",
     "output_type": "stream",
     "text": [
      "发生错误: 'Neuroticism'\n"
     ]
    },
    {
     "name": "stderr",
     "output_type": "stream",
     "text": [
      "评估进度:  69%|███████████████████████████████████████████████████████▌                         | 206/300 [16:21<07:28]    "
     ]
    },
    {
     "name": "stdout",
     "output_type": "stream",
     "text": [
      "发生错误: 'Conscientiousness'\n"
     ]
    },
    {
     "name": "stderr",
     "output_type": "stream",
     "text": [
      "评估进度:  70%|████████████████████████████████████████████████████████▍                        | 209/300 [16:34<07:02]    "
     ]
    },
    {
     "name": "stdout",
     "output_type": "stream",
     "text": [
      "发生错误: 'Openness'\n"
     ]
    },
    {
     "name": "stderr",
     "output_type": "stream",
     "text": [
      "评估进度:  74%|███████████████████████████████████████████████████████████▋                     | 221/300 [17:32<06:18]    "
     ]
    },
    {
     "name": "stdout",
     "output_type": "stream",
     "text": [
      "发生错误: 'Openness'\n"
     ]
    },
    {
     "name": "stderr",
     "output_type": "stream",
     "text": [
      "评估进度:  75%|████████████████████████████████████████████████████████████▍                    | 224/300 [17:46<06:04]    "
     ]
    },
    {
     "name": "stdout",
     "output_type": "stream",
     "text": [
      "发生错误: 'Openness'\n"
     ]
    },
    {
     "name": "stderr",
     "output_type": "stream",
     "text": [
      "评估进度:  76%|█████████████████████████████████████████████████████████████▌                   | 228/300 [18:05<05:43]    "
     ]
    },
    {
     "name": "stdout",
     "output_type": "stream",
     "text": [
      "发生错误: 'Openness'\n"
     ]
    },
    {
     "name": "stderr",
     "output_type": "stream",
     "text": [
      "评估进度:  78%|██████████████████████████████████████████████████████████████▉                  | 233/300 [18:29<05:20]    "
     ]
    },
    {
     "name": "stdout",
     "output_type": "stream",
     "text": [
      "发生错误: 'Openness'\n"
     ]
    },
    {
     "name": "stderr",
     "output_type": "stream",
     "text": [
      "评估进度:  79%|███████████████████████████████████████████████████████████████▉                 | 237/300 [18:46<04:44]    "
     ]
    },
    {
     "name": "stdout",
     "output_type": "stream",
     "text": [
      "发生错误: 'Openness'\n"
     ]
    },
    {
     "name": "stderr",
     "output_type": "stream",
     "text": [
      "评估进度:  85%|████████████████████████████████████████████████████████████████████▌            | 254/300 [20:08<03:39]    "
     ]
    },
    {
     "name": "stdout",
     "output_type": "stream",
     "text": [
      "发生错误: 'Openness'\n"
     ]
    },
    {
     "name": "stderr",
     "output_type": "stream",
     "text": [
      "评估进度:  86%|█████████████████████████████████████████████████████████████████████▋           | 258/300 [20:26<03:13]    "
     ]
    },
    {
     "name": "stdout",
     "output_type": "stream",
     "text": [
      "发生错误: 'Openness'\n"
     ]
    },
    {
     "name": "stderr",
     "output_type": "stream",
     "text": [
      "评估进度:  86%|█████████████████████████████████████████████████████████████████████▉           | 259/300 [20:31<03:11]    "
     ]
    },
    {
     "name": "stdout",
     "output_type": "stream",
     "text": [
      "发生错误: 'Openness'\n"
     ]
    },
    {
     "name": "stderr",
     "output_type": "stream",
     "text": [
      "评估进度:  88%|███████████████████████████████████████████████████████████████████████▌         | 265/300 [21:00<02:48]    "
     ]
    },
    {
     "name": "stdout",
     "output_type": "stream",
     "text": [
      "发生错误: 'Openness'\n"
     ]
    },
    {
     "name": "stderr",
     "output_type": "stream",
     "text": [
      "评估进度:  90%|████████████████████████████████████████████████████████████████████████▋        | 269/300 [21:19<02:28]    "
     ]
    },
    {
     "name": "stdout",
     "output_type": "stream",
     "text": [
      "发生错误: 'Openness'\n"
     ]
    },
    {
     "name": "stderr",
     "output_type": "stream",
     "text": [
      "评估进度:  92%|██████████████████████████████████████████████████████████████████████████▎      | 275/300 [21:48<01:59]    "
     ]
    },
    {
     "name": "stdout",
     "output_type": "stream",
     "text": [
      "发生错误: 'Openness'\n"
     ]
    },
    {
     "name": "stderr",
     "output_type": "stream",
     "text": [
      "评估进度:  93%|███████████████████████████████████████████████████████████████████████████▌     | 280/300 [22:12<01:35]    "
     ]
    },
    {
     "name": "stdout",
     "output_type": "stream",
     "text": [
      "发生错误: 'Openness'\n"
     ]
    },
    {
     "name": "stderr",
     "output_type": "stream",
     "text": [
      "评估进度:  95%|████████████████████████████████████████████████████████████████████████████▉    | 285/300 [22:36<01:11]    "
     ]
    },
    {
     "name": "stdout",
     "output_type": "stream",
     "text": [
      "发生错误: 'Openness'\n"
     ]
    },
    {
     "name": "stderr",
     "output_type": "stream",
     "text": [
      "评估进度:  97%|██████████████████████████████████████████████████████████████████████████████▌  | 291/300 [23:06<00:45]    "
     ]
    },
    {
     "name": "stdout",
     "output_type": "stream",
     "text": [
      "发生错误: 'Openness'\n"
     ]
    },
    {
     "name": "stderr",
     "output_type": "stream",
     "text": [
      "评估进度:  98%|███████████████████████████████████████████████████████████████████████████████▋ | 295/300 [23:26<00:24]    "
     ]
    },
    {
     "name": "stdout",
     "output_type": "stream",
     "text": [
      "发生错误: 'Neuroticism'\n"
     ]
    },
    {
     "name": "stderr",
     "output_type": "stream",
     "text": [
      "评估进度:  99%|███████████████████████████████████████████████████████████████████████████████▉ | 296/300 [23:31<00:19]    "
     ]
    },
    {
     "name": "stdout",
     "output_type": "stream",
     "text": [
      "发生错误: 'Openness'\n"
     ]
    },
    {
     "name": "stderr",
     "output_type": "stream",
     "text": [
      "评估进度: 100%|█████████████████████████████████████████████████████████████████████████████████| 300/300 [23:50<00:00]"
     ]
    },
    {
     "name": "stdout",
     "output_type": "stream",
     "text": [
      "\n",
      "============================================================\n",
      "最终测试集平均MAE: 0.2318\n",
      "正确率: 76.82%\n",
      "有效样本/总样本: 249/300\n",
      "方差: 0.010339\n",
      "\n",
      "各个性MAE及方差:\n",
      "Openness: MAE:0.1989, 方差:0.022447\n",
      "Conscientiousness: MAE:0.2184, 方差:0.026979\n",
      "Extraversion: MAE:0.2562, 方差:0.026299\n",
      "Agreeableness: MAE:0.2224, 方差:0.024063\n",
      "Neuroticism: MAE:0.2632, 方差:0.031742\n",
      "============================================================\n"
     ]
    },
    {
     "name": "stderr",
     "output_type": "stream",
     "text": [
      "\n"
     ]
    }
   ],
   "source": [
    "from tqdm import tqdm\n",
    "import math\n",
    "import numpy as np\n",
    "total_mae = 0.0\n",
    "valid_samples = 0\n",
    "mae_list = []\n",
    "# 添加每个个性的MAE统计\n",
    "trait_mae = {\"Openness\": 0.0, \"Conscientiousness\": 0.0, \"Extraversion\": 0.0, \"Agreeableness\": 0.0, \"Neuroticism\": 0.0}\n",
    "trait_errors = {trait: [] for trait in trait_mae}\n",
    "# 创建进度条对象\n",
    "with tqdm(total=len(final_dataset['test']), \n",
    "         desc=\"评估进度\",\n",
    "         unit=\"样本\",\n",
    "         bar_format=\"{l_bar}{bar}| {n_fmt}/{total_fmt} [{elapsed}<{remaining}]\") as pbar:\n",
    "\n",
    "    for idx in range(len(final_dataset['test'])):\n",
    "        try:\n",
    "            text = test_basemodel_by_index(idx)\n",
    "            ai_scores = get_scores_from_text(text)\n",
    "            real_scores = get_scores_from_text(final_dataset['test'][idx]['output'])\n",
    "            mae = calculate_mae(ai_scores, real_scores)\n",
    "            \n",
    "            if not math.isnan(mae):\n",
    "                total_mae += mae\n",
    "                valid_samples += 1\n",
    "                mae_list.append(mae)\n",
    "                # 更新每个个性的MAE\n",
    "                for trait in ai_scores:\n",
    "                    error = abs(ai_scores[trait] - real_scores[trait])\n",
    "                    trait_mae[trait] += error\n",
    "                    trait_errors[trait].append(error)\n",
    "                \n",
    "                # 更新进度条\n",
    "                pbar.set_postfix({\n",
    "                    '当前MAE': f\"{mae:.4f}\",\n",
    "                    '平均MAE': f\"{total_mae/valid_samples:.4f}\",\n",
    "                    '有效样本': valid_samples\n",
    "                })\n",
    "                \n",
    "        except Exception as e:\n",
    "            pbar.write(f\"发生错误: {str(e)}\")  # 使用pbar.write避免干扰进度条\n",
    "        finally:\n",
    "            pbar.update(1)  # 确保每次迭代都更新进度条\n",
    "\n",
    "# 最终计算结果\n",
    "if valid_samples > 0:\n",
    "    final_mae = total_mae / valid_samples\n",
    "    accuracy = (1 - final_mae) * 100\n",
    "    variance = np.var(mae_list) if mae_list else 0\n",
    "    # 计算每个个性的平均MAE\n",
    "    for trait in trait_mae:\n",
    "        trait_mae[trait] /= valid_samples\n",
    "    trait_variances = {trait: np.var(errors) if errors else 0 for trait, errors in trait_errors.items()}\n",
    "    print(f\"\\n{'='*60}\")\n",
    "    print(f\"最终测试集平均MAE: {final_mae:.4f}\")\n",
    "    print(f\"正确率: {accuracy:.2f}%\")\n",
    "    print(f\"有效样本/总样本: {valid_samples}/{len(final_dataset['test'])}\")\n",
    "    print(f\"方差: {variance:.6f}\")\n",
    "    print(\"\\n各个性MAE及方差:\")\n",
    "    for trait, mae in trait_mae.items():\n",
    "        print(f\"{trait}: MAE:{mae:.4f}, 方差:{trait_variances[trait]:.6f}\")\n",
    "    print('='*60)\n",
    "else:\n",
    "    print(\"警告：没有有效样本可计算MAE\")"
   ]
  },
  {
   "cell_type": "markdown",
   "id": "b7e88ea5-b0f1-410e-b27b-02be12e1e899",
   "metadata": {
    "jp-MarkdownHeadingCollapsed": true
   },
   "source": [
    "# 训练调优模型"
   ]
  },
  {
   "cell_type": "code",
   "execution_count": 12,
   "id": "1de90d0f59f3aa52",
   "metadata": {},
   "outputs": [
    {
     "data": {
      "application/vnd.jupyter.widget-view+json": {
       "model_id": "3edbaff7642c45b2a47476be805b613f",
       "version_major": 2,
       "version_minor": 0
      },
      "text/plain": [
       "Unsloth: Tokenizing [\"text\"]:   0%|          | 0/1200 [00:00<?, ? examples/s]"
      ]
     },
     "metadata": {},
     "output_type": "display_data"
    }
   ],
   "source": [
    "from trl import SFTTrainer\n",
    "from transformers import TrainingArguments\n",
    "from unsloth import is_bfloat16_supported\n",
    "\n",
    "trainer = SFTTrainer(\n",
    "    model = model,\n",
    "    tokenizer = tokenizer,\n",
    "    train_dataset = final_dataset['train'],\n",
    "    dataset_text_field = \"text\",\n",
    "    formatting_func=formatting_prompts_func,\n",
    "    max_seq_length = max_seq_length,\n",
    "    dataset_num_proc = 1,\n",
    "    packing = False, # Can make training 5x faster for short sequences.\n",
    "    args = TrainingArguments(\n",
    "        per_device_train_batch_size = 2,\n",
    "        gradient_accumulation_steps = 4,\n",
    "        warmup_steps = 5,\n",
    "        # num_train_epochs = 1, # Set this for 1 full training run.\n",
    "        max_steps = 60,\n",
    "        learning_rate = 2e-4,\n",
    "        fp16 = not is_bfloat16_supported(),\n",
    "        bf16 = is_bfloat16_supported(),\n",
    "        logging_steps = 1,\n",
    "        optim = \"adamw_8bit\",\n",
    "        weight_decay = 0.01,\n",
    "        lr_scheduler_type = \"linear\",\n",
    "        seed = 3407,\n",
    "        output_dir = \"outputs\",\n",
    "        report_to = \"none\", # Use this for WandB etc\n",
    "    ),\n",
    ")"
   ]
  },
  {
   "cell_type": "code",
   "execution_count": 13,
   "id": "2c27a0c58dee5148",
   "metadata": {},
   "outputs": [
    {
     "name": "stdout",
     "output_type": "stream",
     "text": [
      "GPU = NVIDIA GeForce RTX 4060 Laptop GPU. Max memory = 7.996 GB.\n",
      "3.594 GB of memory reserved.\n"
     ]
    }
   ],
   "source": [
    "# @title Show current memory stats\n",
    "gpu_stats = torch.cuda.get_device_properties(0)\n",
    "start_gpu_memory = round(torch.cuda.max_memory_reserved() / 1024 / 1024 / 1024, 3)\n",
    "max_memory = round(gpu_stats.total_memory / 1024 / 1024 / 1024, 3)\n",
    "print(f\"GPU = {gpu_stats.name}. Max memory = {max_memory} GB.\")\n",
    "print(f\"{start_gpu_memory} GB of memory reserved.\")"
   ]
  },
  {
   "cell_type": "code",
   "execution_count": 14,
   "id": "6ebf016d37aedbc1",
   "metadata": {},
   "outputs": [
    {
     "name": "stderr",
     "output_type": "stream",
     "text": [
      "==((====))==  Unsloth - 2x faster free finetuning | Num GPUs used = 1\n",
      "   \\\\   /|    Num examples = 1,200 | Num Epochs = 1 | Total steps = 60\n",
      "O^O/ \\_/ \\    Batch size per device = 2 | Gradient accumulation steps = 4\n",
      "\\        /    Data Parallel GPUs = 1 | Total batch size (2 x 4 x 1) = 8\n",
      " \"-____-\"     Trainable parameters = 24,313,856/3,000,000,000 (0.81% trained)\n"
     ]
    },
    {
     "name": "stdout",
     "output_type": "stream",
     "text": [
      "Unsloth: Will smartly offload gradients to save VRAM!\n"
     ]
    },
    {
     "data": {
      "text/html": [
       "\n",
       "    <div>\n",
       "      \n",
       "      <progress value='60' max='60' style='width:300px; height:20px; vertical-align: middle;'></progress>\n",
       "      [60/60 04:23, Epoch 0/1]\n",
       "    </div>\n",
       "    <table border=\"1\" class=\"dataframe\">\n",
       "  <thead>\n",
       " <tr style=\"text-align: left;\">\n",
       "      <th>Step</th>\n",
       "      <th>Training Loss</th>\n",
       "    </tr>\n",
       "  </thead>\n",
       "  <tbody>\n",
       "    <tr>\n",
       "      <td>1</td>\n",
       "      <td>2.063500</td>\n",
       "    </tr>\n",
       "    <tr>\n",
       "      <td>2</td>\n",
       "      <td>2.088500</td>\n",
       "    </tr>\n",
       "    <tr>\n",
       "      <td>3</td>\n",
       "      <td>2.064700</td>\n",
       "    </tr>\n",
       "    <tr>\n",
       "      <td>4</td>\n",
       "      <td>2.083000</td>\n",
       "    </tr>\n",
       "    <tr>\n",
       "      <td>5</td>\n",
       "      <td>2.009800</td>\n",
       "    </tr>\n",
       "    <tr>\n",
       "      <td>6</td>\n",
       "      <td>1.977800</td>\n",
       "    </tr>\n",
       "    <tr>\n",
       "      <td>7</td>\n",
       "      <td>1.725600</td>\n",
       "    </tr>\n",
       "    <tr>\n",
       "      <td>8</td>\n",
       "      <td>1.653100</td>\n",
       "    </tr>\n",
       "    <tr>\n",
       "      <td>9</td>\n",
       "      <td>1.440800</td>\n",
       "    </tr>\n",
       "    <tr>\n",
       "      <td>10</td>\n",
       "      <td>1.371500</td>\n",
       "    </tr>\n",
       "    <tr>\n",
       "      <td>11</td>\n",
       "      <td>1.214200</td>\n",
       "    </tr>\n",
       "    <tr>\n",
       "      <td>12</td>\n",
       "      <td>1.108000</td>\n",
       "    </tr>\n",
       "    <tr>\n",
       "      <td>13</td>\n",
       "      <td>0.988200</td>\n",
       "    </tr>\n",
       "    <tr>\n",
       "      <td>14</td>\n",
       "      <td>0.880000</td>\n",
       "    </tr>\n",
       "    <tr>\n",
       "      <td>15</td>\n",
       "      <td>0.817900</td>\n",
       "    </tr>\n",
       "    <tr>\n",
       "      <td>16</td>\n",
       "      <td>0.712700</td>\n",
       "    </tr>\n",
       "    <tr>\n",
       "      <td>17</td>\n",
       "      <td>0.710100</td>\n",
       "    </tr>\n",
       "    <tr>\n",
       "      <td>18</td>\n",
       "      <td>0.730600</td>\n",
       "    </tr>\n",
       "    <tr>\n",
       "      <td>19</td>\n",
       "      <td>0.601200</td>\n",
       "    </tr>\n",
       "    <tr>\n",
       "      <td>20</td>\n",
       "      <td>0.578300</td>\n",
       "    </tr>\n",
       "    <tr>\n",
       "      <td>21</td>\n",
       "      <td>0.606200</td>\n",
       "    </tr>\n",
       "    <tr>\n",
       "      <td>22</td>\n",
       "      <td>0.594000</td>\n",
       "    </tr>\n",
       "    <tr>\n",
       "      <td>23</td>\n",
       "      <td>0.599800</td>\n",
       "    </tr>\n",
       "    <tr>\n",
       "      <td>24</td>\n",
       "      <td>0.552900</td>\n",
       "    </tr>\n",
       "    <tr>\n",
       "      <td>25</td>\n",
       "      <td>0.581100</td>\n",
       "    </tr>\n",
       "    <tr>\n",
       "      <td>26</td>\n",
       "      <td>0.556000</td>\n",
       "    </tr>\n",
       "    <tr>\n",
       "      <td>27</td>\n",
       "      <td>0.588800</td>\n",
       "    </tr>\n",
       "    <tr>\n",
       "      <td>28</td>\n",
       "      <td>0.541600</td>\n",
       "    </tr>\n",
       "    <tr>\n",
       "      <td>29</td>\n",
       "      <td>0.541200</td>\n",
       "    </tr>\n",
       "    <tr>\n",
       "      <td>30</td>\n",
       "      <td>0.552600</td>\n",
       "    </tr>\n",
       "    <tr>\n",
       "      <td>31</td>\n",
       "      <td>0.497600</td>\n",
       "    </tr>\n",
       "    <tr>\n",
       "      <td>32</td>\n",
       "      <td>0.517900</td>\n",
       "    </tr>\n",
       "    <tr>\n",
       "      <td>33</td>\n",
       "      <td>0.567600</td>\n",
       "    </tr>\n",
       "    <tr>\n",
       "      <td>34</td>\n",
       "      <td>0.548000</td>\n",
       "    </tr>\n",
       "    <tr>\n",
       "      <td>35</td>\n",
       "      <td>0.551500</td>\n",
       "    </tr>\n",
       "    <tr>\n",
       "      <td>36</td>\n",
       "      <td>0.543300</td>\n",
       "    </tr>\n",
       "    <tr>\n",
       "      <td>37</td>\n",
       "      <td>0.598700</td>\n",
       "    </tr>\n",
       "    <tr>\n",
       "      <td>38</td>\n",
       "      <td>0.539100</td>\n",
       "    </tr>\n",
       "    <tr>\n",
       "      <td>39</td>\n",
       "      <td>0.529500</td>\n",
       "    </tr>\n",
       "    <tr>\n",
       "      <td>40</td>\n",
       "      <td>0.494000</td>\n",
       "    </tr>\n",
       "    <tr>\n",
       "      <td>41</td>\n",
       "      <td>0.530000</td>\n",
       "    </tr>\n",
       "    <tr>\n",
       "      <td>42</td>\n",
       "      <td>0.546800</td>\n",
       "    </tr>\n",
       "    <tr>\n",
       "      <td>43</td>\n",
       "      <td>0.499200</td>\n",
       "    </tr>\n",
       "    <tr>\n",
       "      <td>44</td>\n",
       "      <td>0.509000</td>\n",
       "    </tr>\n",
       "    <tr>\n",
       "      <td>45</td>\n",
       "      <td>0.559800</td>\n",
       "    </tr>\n",
       "    <tr>\n",
       "      <td>46</td>\n",
       "      <td>0.525000</td>\n",
       "    </tr>\n",
       "    <tr>\n",
       "      <td>47</td>\n",
       "      <td>0.551200</td>\n",
       "    </tr>\n",
       "    <tr>\n",
       "      <td>48</td>\n",
       "      <td>0.588500</td>\n",
       "    </tr>\n",
       "    <tr>\n",
       "      <td>49</td>\n",
       "      <td>0.537600</td>\n",
       "    </tr>\n",
       "    <tr>\n",
       "      <td>50</td>\n",
       "      <td>0.578500</td>\n",
       "    </tr>\n",
       "    <tr>\n",
       "      <td>51</td>\n",
       "      <td>0.551500</td>\n",
       "    </tr>\n",
       "    <tr>\n",
       "      <td>52</td>\n",
       "      <td>0.545700</td>\n",
       "    </tr>\n",
       "    <tr>\n",
       "      <td>53</td>\n",
       "      <td>0.503500</td>\n",
       "    </tr>\n",
       "    <tr>\n",
       "      <td>54</td>\n",
       "      <td>0.565700</td>\n",
       "    </tr>\n",
       "    <tr>\n",
       "      <td>55</td>\n",
       "      <td>0.554900</td>\n",
       "    </tr>\n",
       "    <tr>\n",
       "      <td>56</td>\n",
       "      <td>0.554200</td>\n",
       "    </tr>\n",
       "    <tr>\n",
       "      <td>57</td>\n",
       "      <td>0.511400</td>\n",
       "    </tr>\n",
       "    <tr>\n",
       "      <td>58</td>\n",
       "      <td>0.500900</td>\n",
       "    </tr>\n",
       "    <tr>\n",
       "      <td>59</td>\n",
       "      <td>0.566400</td>\n",
       "    </tr>\n",
       "    <tr>\n",
       "      <td>60</td>\n",
       "      <td>0.549200</td>\n",
       "    </tr>\n",
       "  </tbody>\n",
       "</table><p>"
      ],
      "text/plain": [
       "<IPython.core.display.HTML object>"
      ]
     },
     "metadata": {},
     "output_type": "display_data"
    },
    {
     "name": "stdout",
     "output_type": "stream",
     "text": [
      "269.6854 seconds used for training.\n",
      "4.49 minutes used for training.\n",
      "Peak reserved memory = 3.625 GB.\n",
      "Peak reserved memory for training = 0.031 GB.\n",
      "Peak reserved memory % of max memory = 45.335 %.\n",
      "Peak reserved memory for training % of max memory = 0.388 %.\n"
     ]
    }
   ],
   "source": [
    "trainer_stats = trainer.train()\n",
    "# @title Show final memory and time stats\n",
    "\n",
    "used_memory = round(torch.cuda.max_memory_reserved() / 1024 / 1024 / 1024, 3)\n",
    "used_memory_for_lora = round(used_memory - start_gpu_memory, 3)\n",
    "used_percentage = round(used_memory / max_memory * 100, 3)\n",
    "lora_percentage = round(used_memory_for_lora / max_memory * 100, 3)\n",
    "print(f\"{trainer_stats.metrics['train_runtime']} seconds used for training.\")\n",
    "print(\n",
    "    f\"{round(trainer_stats.metrics['train_runtime']/60, 2)} minutes used for training.\"\n",
    ")\n",
    "print(f\"Peak reserved memory = {used_memory} GB.\")\n",
    "print(f\"Peak reserved memory for training = {used_memory_for_lora} GB.\")\n",
    "print(f\"Peak reserved memory % of max memory = {used_percentage} %.\")\n",
    "print(f\"Peak reserved memory for training % of max memory = {lora_percentage} %.\")"
   ]
  },
  {
   "cell_type": "markdown",
   "id": "b3c29f46-610a-40e8-a7ef-70e658e75d2b",
   "metadata": {
    "jp-MarkdownHeadingCollapsed": true
   },
   "source": [
    "# 测试调优后模型"
   ]
  },
  {
   "cell_type": "code",
   "execution_count": 23,
   "id": "b4b3c81837769e8d",
   "metadata": {
    "ExecuteTime": {
     "end_time": "2025-04-16T11:13:54.637199Z",
     "start_time": "2025-04-16T11:13:54.622688Z"
    }
   },
   "outputs": [],
   "source": [
    "\n",
    "def check_result(index):\n",
    "    alpaca_prompt = \"\"\"\n",
    "  # Role\n",
    "    You are a professional psychologist specializing in assessing personality traits through analyzing individuals' behaviors and speech. Your task is to provide a detailed personality analysis based on the information provided by the user, and give specific scores from 0-1 for the Big Five personality traits.\n",
    "\n",
    "    - **Task**: Based on the information provided by the user (such as behavior descriptions, speech expressions, etc.), evaluate the individual's Big Five personality traits and provide specific scores from 0-1.\n",
    "    - **Openness**: Assess the individual's curiosity, imagination, and acceptance of new things.\n",
    "    - **Conscientiousness**: Assess the individual's sense of responsibility, organizational skills, and self-discipline.\n",
    "    - **Extraversion**: Assess the individual's sociability, energy, and optimism.\n",
    "    - **Agreeableness**: Assess the individual's cooperativeness, empathy, and trustworthiness.\n",
    "    - **Neuroticism**: Assess the individual's emotional stability, anxiety levels, and stress coping abilities.\n",
    "\n",
    "    ## Constraints\n",
    "    - Evaluate based solely on the information provided by the user, ensuring the assessment is objective and accurate.\n",
    "    - Even if the information provided by the user may be incomplete, You will still try your best to give the scores for the Big Five personality traits.\n",
    "    - The output format must be: \"Their Big Five personality traits are:\\nOpenness: [score]\\nExtraversion: [score]\\nNeuroticism: [score]\\nAgreeableness: [score]\\nConscientiousness: [score]\"\n",
    "\n",
    "### Input:\n",
    "{}\n",
    "### Response:\n",
    "{}\"\"\"\n",
    "    prompt = alpaca_prompt.format(final_dataset['test'][index]['input'], ' ')\n",
    "    prompt_encoding = tokenizer(prompt, return_tensors=\"pt\").to(model.device)\n",
    "    outputs = model.generate(\n",
    "        **prompt_encoding,\n",
    "        use_cache=True,\n",
    "        max_new_tokens=128,\n",
    "        temperature=0.85,\n",
    "        top_k=50,\n",
    "        top_p=0.9\n",
    "    )\n",
    "    # 将生成的输出解码为文本\n",
    "    generated_text = tokenizer.batch_decode(outputs, skip_special_tokens=True)\n",
    "    \n",
    "    # 打印生成的文本\n",
    "    # print(generated_text[0])\n",
    "    # print(\"以上为模型输出，以下为测试集的真实输出：\")\n",
    "    # print(final_dataset['test'][index]['output'])\n",
    "    return(generated_text[0])\n",
    "\n",
    "import re\n",
    "\n",
    "\n",
    "\n",
    "def compute_mae_by_index(index: int) -> float:\n",
    "    \"\"\"根据测试集索引计算模型输出的MAE\n",
    "    \n",
    "    Args:\n",
    "        index: 测试集样本索引\n",
    "        \n",
    "    Returns:\n",
    "        float: 该样本的平均绝对误差值\n",
    "    \"\"\"\n",
    "    ai_text = check_result(index)\n",
    "    ai_scores = get_scores_from_text(ai_text)\n",
    "    real_scores = get_scores_from_text(final_dataset['test'][index]['output'])\n",
    "    \n",
    "    if len(ai_scores) != 5 or len(real_scores) != 5:\n",
    "        print(f\"解析异常 - AI输出: {ai_text}\\n真实输出: {final_dataset['test'][index]['output']}\")\n",
    "        return float('nan')\n",
    "    \n",
    "    return calculate_mae(ai_scores, real_scores)\n",
    "\n",
    "\n",
    "\n",
    "    "
   ]
  },
  {
   "cell_type": "markdown",
   "id": "64655406-8277-4d88-be65-fda0b13f860f",
   "metadata": {
    "jp-MarkdownHeadingCollapsed": true
   },
   "source": [
    "## 详细测试示例"
   ]
  },
  {
   "cell_type": "code",
   "execution_count": 24,
   "id": "d60372daaec8ecaa",
   "metadata": {
    "ExecuteTime": {
     "end_time": "2025-04-16T11:09:43.134689Z",
     "start_time": "2025-04-16T11:09:39.988212Z"
    }
   },
   "outputs": [
    {
     "name": "stdout",
     "output_type": "stream",
     "text": [
      "\n",
      "  # Role\n",
      "    You are a professional psychologist specializing in assessing personality traits through analyzing individuals' behaviors and speech. Your task is to provide a detailed personality analysis based on the information provided by the user, and give specific scores from 0-1 for the Big Five personality traits.\n",
      "\n",
      "    - **Task**: Based on the information provided by the user (such as behavior descriptions, speech expressions, etc.), evaluate the individual's Big Five personality traits and provide specific scores from 0-1.\n",
      "    - **Openness**: Assess the individual's curiosity, imagination, and acceptance of new things.\n",
      "    - **Conscientiousness**: Assess the individual's sense of responsibility, organizational skills, and self-discipline.\n",
      "    - **Extraversion**: Assess the individual's sociability, energy, and optimism.\n",
      "    - **Agreeableness**: Assess the individual's cooperativeness, empathy, and trustworthiness.\n",
      "    - **Neuroticism**: Assess the individual's emotional stability, anxiety levels, and stress coping abilities.\n",
      "\n",
      "    ## Constraints\n",
      "    - Evaluate based solely on the information provided by the user, ensuring the assessment is objective and accurate.\n",
      "    - Even if the information provided by the user may be incomplete, You will still try your best to give the scores for the Big Five personality traits.\n",
      "    - The output format must be: \"Their Big Five personality traits are:\n",
      "Openness: [score]\n",
      "Extraversion: [score]\n",
      "Neuroticism: [score]\n",
      "Agreeableness: [score]\n",
      "Conscientiousness: [score]\"\n",
      "\n",
      "### Input:\n",
      "Audio Analysis:\n",
      "Audio Analysis Results:\n",
      "Recognized Text: Stuff because I wanted to spend them on my rent and my life in LA and now it's the same thing I save all my money so I can go back to LA and create life that I want to create so if you want to go out and travel work your but,\n",
      "Audio Duration: 15.30 seconds\n",
      "His speech rate is 3.46 words per second (English)\n",
      "The most possible emotion is 开心/happy with score 0.9999957084655762\n",
      "Volume Information: Average -14.95 dB, Standard Deviation 8.46 dB\n",
      "Pitch Information: Average 242.35 Hz, Standard Deviation 53.12 Hz\n",
      "\n",
      "Video Analysis:\n",
      "Gender: female (Confidence: 0.77)\n",
      "Orientation: Side (Confidence: 0.57)\n",
      "Age: Age18-60 (Confidence: 0.90)\n",
      "Upper wear type: LongSleeve (Confidence: 0.86)\n",
      "Upper wear color: 粉 (Confidence: 0.57)\n",
      "Wearing glasses: No (Confidence: 0.88)\n",
      "### Response:\n",
      "  Their Big Five personality traits are:\n",
      "Openness: 0.509\n",
      "Extraversion: 0.437\n",
      "Neuroticism: 0.432\n",
      "Agreeableness: 0.495\n",
      "Conscientiousness: 0.427\n",
      "\n",
      "以上为模型输出，以下为测试集的真实输出：\n",
      "\n",
      "Their Big Five personality traits are:\n",
      "Openness: 0.789\n",
      "Extraversion: 0.626\n",
      "Neuroticism: 0.646\n",
      "Agreeableness: 0.747\n",
      "Conscientiousness: 0.631\n"
     ]
    }
   ],
   "source": [
    "print(check_result(0))\n",
    "print(\"\\n以上为模型输出，以下为测试集的真实输出：\\n\")\n",
    "print(final_dataset['test'][0]['output'])"
   ]
  },
  {
   "cell_type": "code",
   "execution_count": 25,
   "id": "e14319afa4509cd9",
   "metadata": {
    "ExecuteTime": {
     "end_time": "2025-04-16T11:09:45.406755Z",
     "start_time": "2025-04-16T11:09:43.194310Z"
    }
   },
   "outputs": [
    {
     "name": "stdout",
     "output_type": "stream",
     "text": [
      "\n",
      "  # Role\n",
      "    You are a professional psychologist specializing in assessing personality traits through analyzing individuals' behaviors and speech. Your task is to provide a detailed personality analysis based on the information provided by the user, and give specific scores from 0-1 for the Big Five personality traits.\n",
      "\n",
      "    - **Task**: Based on the information provided by the user (such as behavior descriptions, speech expressions, etc.), evaluate the individual's Big Five personality traits and provide specific scores from 0-1.\n",
      "    - **Openness**: Assess the individual's curiosity, imagination, and acceptance of new things.\n",
      "    - **Conscientiousness**: Assess the individual's sense of responsibility, organizational skills, and self-discipline.\n",
      "    - **Extraversion**: Assess the individual's sociability, energy, and optimism.\n",
      "    - **Agreeableness**: Assess the individual's cooperativeness, empathy, and trustworthiness.\n",
      "    - **Neuroticism**: Assess the individual's emotional stability, anxiety levels, and stress coping abilities.\n",
      "\n",
      "    ## Constraints\n",
      "    - Evaluate based solely on the information provided by the user, ensuring the assessment is objective and accurate.\n",
      "    - Even if the information provided by the user may be incomplete, You will still try your best to give the scores for the Big Five personality traits.\n",
      "    - The output format must be: \"Their Big Five personality traits are:\n",
      "Openness: [score]\n",
      "Extraversion: [score]\n",
      "Neuroticism: [score]\n",
      "Agreeableness: [score]\n",
      "Conscientiousness: [score]\"\n",
      "\n",
      "### Input:\n",
      "Audio Analysis:\n",
      "Audio Analysis Results:\n",
      "Recognized Text: Was, and this is like the first time she ever drank, too. So she didn't know her limit. She got smashed. Okay, completely smashed off of like a half a drink. Okay, yes, and the entire night, I had to just.😊\n",
      "Audio Duration: 15.30 seconds\n",
      "His speech rate is 2.68 words per second (English)\n",
      "The most possible emotion is 开心/happy with score 0.9969293475151062\n",
      "Volume Information: Average -15.84 dB, Standard Deviation 12.48 dB\n",
      "Pitch Information: Average 182.40 Hz, Standard Deviation 38.56 Hz\n",
      "\n",
      "Video Analysis:\n",
      "Gender: male (Confidence: 0.81)\n",
      "Orientation: Front (Confidence: 0.88)\n",
      "Age: Age18-60 (Confidence: 0.99)\n",
      "Upper wear type: LongSleeve (Confidence: 0.92)\n",
      "Upper wear color: 黑 (Confidence: 0.72)\n",
      "Wearing glasses: No (Confidence: 0.95)\n",
      "### Response:\n",
      "  Their Big Five personality traits are:\n",
      "Openness: 0.5\n",
      "Extraversion: 0.445\n",
      "Neuroticism: 0.467\n",
      "Agreeableness: 0.427\n",
      "Conscientiousness: 0.504\n",
      "\n",
      "以上为模型输出，以下为测试集的真实输出：\n",
      "\n",
      "Their Big Five personality traits are:\n",
      "Openness: 0.778\n",
      "Extraversion: 0.692\n",
      "Neuroticism: 0.646\n",
      "Agreeableness: 0.637\n",
      "Conscientiousness: 0.563\n"
     ]
    }
   ],
   "source": [
    "print(check_result(1))  \n",
    "print(\"\\n以上为模型输出，以下为测试集的真实输出：\\n\")\n",
    "print(final_dataset['test'][1]['output'])"
   ]
  },
  {
   "cell_type": "code",
   "execution_count": 26,
   "id": "4e82a7ddd688d094",
   "metadata": {
    "ExecuteTime": {
     "end_time": "2025-04-16T11:09:48.358148Z",
     "start_time": "2025-04-16T11:09:45.460424Z"
    }
   },
   "outputs": [
    {
     "name": "stdout",
     "output_type": "stream",
     "text": [
      "\n",
      "  # Role\n",
      "    You are a professional psychologist specializing in assessing personality traits through analyzing individuals' behaviors and speech. Your task is to provide a detailed personality analysis based on the information provided by the user, and give specific scores from 0-1 for the Big Five personality traits.\n",
      "\n",
      "    - **Task**: Based on the information provided by the user (such as behavior descriptions, speech expressions, etc.), evaluate the individual's Big Five personality traits and provide specific scores from 0-1.\n",
      "    - **Openness**: Assess the individual's curiosity, imagination, and acceptance of new things.\n",
      "    - **Conscientiousness**: Assess the individual's sense of responsibility, organizational skills, and self-discipline.\n",
      "    - **Extraversion**: Assess the individual's sociability, energy, and optimism.\n",
      "    - **Agreeableness**: Assess the individual's cooperativeness, empathy, and trustworthiness.\n",
      "    - **Neuroticism**: Assess the individual's emotional stability, anxiety levels, and stress coping abilities.\n",
      "\n",
      "    ## Constraints\n",
      "    - Evaluate based solely on the information provided by the user, ensuring the assessment is objective and accurate.\n",
      "    - Even if the information provided by the user may be incomplete, You will still try your best to give the scores for the Big Five personality traits.\n",
      "    - The output format must be: \"Their Big Five personality traits are:\n",
      "Openness: [score]\n",
      "Extraversion: [score]\n",
      "Neuroticism: [score]\n",
      "Agreeableness: [score]\n",
      "Conscientiousness: [score]\"\n",
      "\n",
      "### Input:\n",
      "Audio Analysis:\n",
      "Audio Analysis Results:\n",
      "Recognized Text: I feel about the weather in Bellingham Well last year I was very fortunate it was a strange year in Bellingham sunny a lot, not a lot of rain it did snow which was awful I hate snow So last year it wasn't really good.\n",
      "Audio Duration: 15.30 seconds\n",
      "His speech rate is 2.94 words per second (English)\n",
      "The most possible emotion is 开心/happy with score 1.0\n",
      "Volume Information: Average -11.70 dB, Standard Deviation 6.21 dB\n",
      "Pitch Information: Average 254.38 Hz, Standard Deviation 86.92 Hz\n",
      "\n",
      "Video Analysis:\n",
      "Gender: female (Confidence: 0.62)\n",
      "Orientation: Front (Confidence: 0.88)\n",
      "Age: Age18-60 (Confidence: 0.98)\n",
      "Upper wear type: LongSleeve (Confidence: 0.81)\n",
      "Upper wear color: 不确定 (Confidence: 0.55)\n",
      "Wearing glasses: No (Confidence: 0.97)\n",
      "### Response:\n",
      "  Their Big Five personality traits are:\n",
      "Openness: 0.656\n",
      "Extraversion: 0.567\n",
      "Neuroticism: 0.541\n",
      "Agreeableness: 0.58\n",
      "Conscientiousness: 0.53\n",
      "\n",
      "以上为模型输出，以下为测试集的真实输出：\n",
      "\n",
      "Their Big Five personality traits are:\n",
      "Openness: 0.789\n",
      "Extraversion: 0.533\n",
      "Neuroticism: 0.698\n",
      "Agreeableness: 0.692\n",
      "Conscientiousness: 0.66\n"
     ]
    }
   ],
   "source": [
    "print(check_result(2))  \n",
    "print(\"\\n以上为模型输出，以下为测试集的真实输出：\\n\")\n",
    "print(final_dataset['test'][2]['output'])"
   ]
  },
  {
   "cell_type": "code",
   "execution_count": 27,
   "id": "c7a98e45f20e467b",
   "metadata": {
    "ExecuteTime": {
     "end_time": "2025-04-16T11:09:51.297674Z",
     "start_time": "2025-04-16T11:09:48.424905Z"
    }
   },
   "outputs": [
    {
     "name": "stdout",
     "output_type": "stream",
     "text": [
      "\n",
      "  # Role\n",
      "    You are a professional psychologist specializing in assessing personality traits through analyzing individuals' behaviors and speech. Your task is to provide a detailed personality analysis based on the information provided by the user, and give specific scores from 0-1 for the Big Five personality traits.\n",
      "\n",
      "    - **Task**: Based on the information provided by the user (such as behavior descriptions, speech expressions, etc.), evaluate the individual's Big Five personality traits and provide specific scores from 0-1.\n",
      "    - **Openness**: Assess the individual's curiosity, imagination, and acceptance of new things.\n",
      "    - **Conscientiousness**: Assess the individual's sense of responsibility, organizational skills, and self-discipline.\n",
      "    - **Extraversion**: Assess the individual's sociability, energy, and optimism.\n",
      "    - **Agreeableness**: Assess the individual's cooperativeness, empathy, and trustworthiness.\n",
      "    - **Neuroticism**: Assess the individual's emotional stability, anxiety levels, and stress coping abilities.\n",
      "\n",
      "    ## Constraints\n",
      "    - Evaluate based solely on the information provided by the user, ensuring the assessment is objective and accurate.\n",
      "    - Even if the information provided by the user may be incomplete, You will still try your best to give the scores for the Big Five personality traits.\n",
      "    - The output format must be: \"Their Big Five personality traits are:\n",
      "Openness: [score]\n",
      "Extraversion: [score]\n",
      "Neuroticism: [score]\n",
      "Agreeableness: [score]\n",
      "Conscientiousness: [score]\"\n",
      "\n",
      "### Input:\n",
      "Audio Analysis:\n",
      "Audio Analysis Results:\n",
      "Recognized Text: 2000 on the head I was like, all right, I got 2000, that's enough, 2000 people like whoa, I'm applying for partner and I filled out my paperwork and I sent it in and then I remember I was just waiting and waiting and waiting I applied in like September and it was like November when I heard,\n",
      "Audio Duration: 15.30 seconds\n",
      "His speech rate is 3.79 words per second (English)\n",
      "The most possible emotion is <unk> with score 0.9033543467521667\n",
      "Volume Information: Average -13.07 dB, Standard Deviation 7.68 dB\n",
      "Pitch Information: Average 234.85 Hz, Standard Deviation 45.70 Hz\n",
      "\n",
      "Video Analysis:\n",
      "Gender: male (Confidence: 0.87)\n",
      "Orientation: Front (Confidence: 0.95)\n",
      "Age: Age18-60 (Confidence: 0.99)\n",
      "Upper wear type: ShortSleeve (Confidence: 0.88)\n",
      "Upper wear color: 灰 (Confidence: 0.96)\n",
      "Wearing glasses: No (Confidence: 0.90)\n",
      "### Response:\n",
      "  Their Big Five personality traits are:\n",
      "Openness: 0.5\n",
      "Extraversion: 0.549\n",
      "Neuroticism: 0.523\n",
      "Agreeableness: 0.56\n",
      "Conscientiousness: 0.529\n",
      "\n",
      "以上为模型输出，以下为测试集的真实输出：\n",
      "\n",
      "Their Big Five personality traits are:\n",
      "Openness: 0.767\n",
      "Extraversion: 0.551\n",
      "Neuroticism: 0.635\n",
      "Agreeableness: 0.615\n",
      "Conscientiousness: 0.563\n"
     ]
    }
   ],
   "source": [
    "print(check_result(3))  \n",
    "print(\"\\n以上为模型输出，以下为测试集的真实输出：\\n\")\n",
    "print(final_dataset['test'][3]['output'])"
   ]
  },
  {
   "cell_type": "code",
   "execution_count": 28,
   "id": "afac0c50879c071a",
   "metadata": {
    "ExecuteTime": {
     "end_time": "2025-04-16T11:09:54.203782Z",
     "start_time": "2025-04-16T11:09:51.330157Z"
    }
   },
   "outputs": [
    {
     "name": "stdout",
     "output_type": "stream",
     "text": [
      "\n",
      "  # Role\n",
      "    You are a professional psychologist specializing in assessing personality traits through analyzing individuals' behaviors and speech. Your task is to provide a detailed personality analysis based on the information provided by the user, and give specific scores from 0-1 for the Big Five personality traits.\n",
      "\n",
      "    - **Task**: Based on the information provided by the user (such as behavior descriptions, speech expressions, etc.), evaluate the individual's Big Five personality traits and provide specific scores from 0-1.\n",
      "    - **Openness**: Assess the individual's curiosity, imagination, and acceptance of new things.\n",
      "    - **Conscientiousness**: Assess the individual's sense of responsibility, organizational skills, and self-discipline.\n",
      "    - **Extraversion**: Assess the individual's sociability, energy, and optimism.\n",
      "    - **Agreeableness**: Assess the individual's cooperativeness, empathy, and trustworthiness.\n",
      "    - **Neuroticism**: Assess the individual's emotional stability, anxiety levels, and stress coping abilities.\n",
      "\n",
      "    ## Constraints\n",
      "    - Evaluate based solely on the information provided by the user, ensuring the assessment is objective and accurate.\n",
      "    - Even if the information provided by the user may be incomplete, You will still try your best to give the scores for the Big Five personality traits.\n",
      "    - The output format must be: \"Their Big Five personality traits are:\n",
      "Openness: [score]\n",
      "Extraversion: [score]\n",
      "Neuroticism: [score]\n",
      "Agreeableness: [score]\n",
      "Conscientiousness: [score]\"\n",
      "\n",
      "### Input:\n",
      "Audio Analysis:\n",
      "Audio Analysis Results:\n",
      "Recognized Text: My challenge, what seems to be holding me back the thing that I seem to meet again and again and again, like every time around the corner is a feeling of self worth.A feeling of self love.\n",
      "Audio Duration: 15.30 seconds\n",
      "His speech rate is 2.42 words per second (English)\n",
      "The most possible emotion is 难过/sad with score 0.9695150852203369\n",
      "Volume Information: Average -17.12 dB, Standard Deviation 7.47 dB\n",
      "Pitch Information: Average 125.49 Hz, Standard Deviation 58.33 Hz\n",
      "\n",
      "Video Analysis:\n",
      "Error analyzing image: SDK.HttpError ('Connection aborted.', ConnectionResetError(10054, '远程主机强迫关闭了一个现有的连接。', None, 10054, None))\n",
      "### Response:\n",
      "  Their Big Five personality traits are:\n",
      "Openness: 0.599\n",
      "Extraversion: 0.604\n",
      "Neuroticism: 0.573\n",
      "Agreeableness: 0.599\n",
      "Conscientiousness: 0.576\n",
      "\n",
      "以上为模型输出，以下为测试集的真实输出：\n",
      "\n",
      "Their Big Five personality traits are:\n",
      "Openness: 0.622\n",
      "Extraversion: 0.692\n",
      "Neuroticism: 0.625\n",
      "Agreeableness: 0.626\n",
      "Conscientiousness: 0.757\n"
     ]
    }
   ],
   "source": [
    "print(check_result(4))  \n",
    "print(\"\\n以上为模型输出，以下为测试集的真实输出：\\n\")\n",
    "print(final_dataset['test'][4]['output'])"
   ]
  },
  {
   "cell_type": "code",
   "execution_count": 29,
   "id": "b9c0ceac016c55f",
   "metadata": {
    "ExecuteTime": {
     "end_time": "2025-04-16T11:09:56.549993Z",
     "start_time": "2025-04-16T11:09:54.236413Z"
    }
   },
   "outputs": [
    {
     "name": "stdout",
     "output_type": "stream",
     "text": [
      "\n",
      "  # Role\n",
      "    You are a professional psychologist specializing in assessing personality traits through analyzing individuals' behaviors and speech. Your task is to provide a detailed personality analysis based on the information provided by the user, and give specific scores from 0-1 for the Big Five personality traits.\n",
      "\n",
      "    - **Task**: Based on the information provided by the user (such as behavior descriptions, speech expressions, etc.), evaluate the individual's Big Five personality traits and provide specific scores from 0-1.\n",
      "    - **Openness**: Assess the individual's curiosity, imagination, and acceptance of new things.\n",
      "    - **Conscientiousness**: Assess the individual's sense of responsibility, organizational skills, and self-discipline.\n",
      "    - **Extraversion**: Assess the individual's sociability, energy, and optimism.\n",
      "    - **Agreeableness**: Assess the individual's cooperativeness, empathy, and trustworthiness.\n",
      "    - **Neuroticism**: Assess the individual's emotional stability, anxiety levels, and stress coping abilities.\n",
      "\n",
      "    ## Constraints\n",
      "    - Evaluate based solely on the information provided by the user, ensuring the assessment is objective and accurate.\n",
      "    - Even if the information provided by the user may be incomplete, You will still try your best to give the scores for the Big Five personality traits.\n",
      "    - The output format must be: \"Their Big Five personality traits are:\n",
      "Openness: [score]\n",
      "Extraversion: [score]\n",
      "Neuroticism: [score]\n",
      "Agreeableness: [score]\n",
      "Conscientiousness: [score]\"\n",
      "\n",
      "### Input:\n",
      "Audio Analysis:\n",
      "Audio Analysis Results:\n",
      "Recognized Text: AyDivorcequestions.com we designed this website to be very easy to use, and I wanted to introduce myself to you because I'm the attorney who will be answering your questions.So all you have to do is submit your question, your first name, last name and email.\n",
      "Audio Duration: 15.30 seconds\n",
      "His speech rate is 2.94 words per second (English)\n",
      "The most possible emotion is 中立/neutral with score 0.9273208975791931\n",
      "Volume Information: Average -8.32 dB, Standard Deviation 6.84 dB\n",
      "Pitch Information: Average 120.88 Hz, Standard Deviation 21.92 Hz\n",
      "\n",
      "Video Analysis:\n",
      "Error analyzing image: SDK.HttpError ('Connection aborted.', ConnectionResetError(10054, '远程主机强迫关闭了一个现有的连接。', None, 10054, None))\n",
      "### Response:\n",
      "  Their Big Five personality traits are:\n",
      "Openness: 0.567\n",
      "Extraversion: 0.508\n",
      "Neuroticism: 0.495\n",
      "Agreeableness: 0.495\n",
      "Conscientiousness: 0.504\n",
      "\n",
      "以上为模型输出，以下为测试集的真实输出：\n",
      "\n",
      "Their Big Five personality traits are:\n",
      "Openness: 0.667\n",
      "Extraversion: 0.364\n",
      "Neuroticism: 0.667\n",
      "Agreeableness: 0.692\n",
      "Conscientiousness: 0.767\n"
     ]
    }
   ],
   "source": [
    "print(check_result(5))  \n",
    "print(\"\\n以上为模型输出，以下为测试集的真实输出：\\n\")\n",
    "print(final_dataset['test'][5]['output'])"
   ]
  },
  {
   "cell_type": "markdown",
   "id": "a44dfa99-b1e2-4ee9-a644-9c2d6b02b809",
   "metadata": {},
   "source": [
    "# 计算模型准确性参数"
   ]
  },
  {
   "cell_type": "code",
   "execution_count": 30,
   "id": "5e71b103-b811-4757-9774-f9ff6f796191",
   "metadata": {
    "ExecuteTime": {
     "end_time": "2025-04-16T11:13:23.777217Z",
     "start_time": "2025-04-16T11:13:20.721423Z"
    }
   },
   "outputs": [
    {
     "name": "stdout",
     "output_type": "stream",
     "text": [
      "90.18%\n"
     ]
    }
   ],
   "source": [
    "test_mae = compute_mae_by_index(0)\n",
    "print(f\"{(1-test_mae)*100}%\")"
   ]
  },
  {
   "cell_type": "code",
   "execution_count": 31,
   "id": "9120161f2e516f65",
   "metadata": {
    "ExecuteTime": {
     "end_time": "2025-04-16T11:25:13.971984Z",
     "start_time": "2025-04-16T11:22:33.691541Z"
    }
   },
   "outputs": [
    {
     "name": "stderr",
     "output_type": "stream",
     "text": [
      "评估进度: 100%|█████████████████████████████████████████████████████████████████████████████████| 300/300 [10:40<00:00]"
     ]
    },
    {
     "name": "stdout",
     "output_type": "stream",
     "text": [
      "\n",
      "============================================================\n",
      "最终测试集平均MAE: 0.1297\n",
      "正确率: 87.03%\n",
      "有效样本/总样本: 300/300\n",
      "方差: 0.005266\n",
      "\n",
      "各个性MAE及方差:\n",
      "Openness: MAE=0.1348, 方差=0.010308\n",
      "Conscientiousness: MAE=0.1336, 方差=0.009563\n",
      "Extraversion: MAE=0.1370, 方差=0.010619\n",
      "Agreeableness: MAE=0.1159, 方差=0.008191\n",
      "Neuroticism: MAE=0.1274, 方差=0.009132\n",
      "============================================================\n"
     ]
    },
    {
     "name": "stderr",
     "output_type": "stream",
     "text": [
      "\n"
     ]
    }
   ],
   "source": [
    "from tqdm import tqdm\n",
    "import math\n",
    "\n",
    "total_mae = 0.0\n",
    "valid_samples = 0\n",
    "mae_list = []\n",
    "# 添加每个个性的MAE统计\n",
    "trait_mae = {\"Openness\": 0.0, \"Conscientiousness\": 0.0, \"Extraversion\": 0.0, \"Agreeableness\": 0.0, \"Neuroticism\": 0.0}\n",
    "trait_errors = {trait: [] for trait in trait_mae}\n",
    "# 创建进度条对象\n",
    "with tqdm(total=len(final_dataset['test']), \n",
    "         desc=\"评估进度\",\n",
    "         unit=\"样本\",\n",
    "         bar_format=\"{l_bar}{bar}| {n_fmt}/{total_fmt} [{elapsed}<{remaining}]\") as pbar:\n",
    "\n",
    "    for idx in range(len(final_dataset['test'])):\n",
    "        prompt = alpaca_prompt.format(final_dataset['test'][idx]['input'],' ')\n",
    "        prompt_encoding = tokenizer(prompt, return_tensors=\"pt\").to(model.device)\n",
    "        outputs = model.generate(\n",
    "            **prompt_encoding,\n",
    "            use_cache=True,\n",
    "            max_new_tokens=128,\n",
    "            temperature=0.85,\n",
    "            top_k=50,\n",
    "            top_p=0.9\n",
    "        )\n",
    "        generated_text = tokenizer.batch_decode(outputs, skip_special_tokens=True)\n",
    "        try:\n",
    "            ai_scores = get_scores_from_text(generated_text[0])  # 假设有这个方法\n",
    "            real_scores = get_scores_from_text(final_dataset['test'][idx]['output'])\n",
    "            mae = calculate_mae(ai_scores, real_scores)\n",
    "            if not math.isnan(mae):\n",
    "                total_mae += mae\n",
    "                valid_samples += 1\n",
    "                mae_list.append(mae)\n",
    "                # 更新每个个性的MAE\n",
    "                for trait in ai_scores:\n",
    "                    error = abs(ai_scores[trait] - real_scores[trait])\n",
    "                    trait_mae[trait] += error\n",
    "                    trait_errors[trait].append(error)\n",
    "                \n",
    "                # 更新进度条\n",
    "                pbar.set_postfix({\n",
    "                    '当前MAE': f\"{mae:.4f}\",\n",
    "                    '平均MAE': f\"{total_mae/valid_samples:.4f}\",\n",
    "                    '有效样本': valid_samples\n",
    "                })\n",
    "                \n",
    "        except Exception as e:\n",
    "            pbar.write(f\"发生错误: {str(e)}\")  # 使用pbar.write避免干扰进度条\n",
    "        finally:\n",
    "            pbar.update(1)  # 确保每次迭代都更新进度条\n",
    "\n",
    "# 最终计算结果\n",
    "if valid_samples > 0:\n",
    "    final_mae = total_mae / valid_samples\n",
    "    accuracy = (1 - final_mae) * 100\n",
    "    variance = np.var(mae_list) if mae_list else 0\n",
    "    # 计算每个个性的平均MAE\n",
    "    for trait in trait_mae:\n",
    "        trait_mae[trait] /= valid_samples\n",
    "    trait_variances = {trait: np.var(errors) if errors else 0 for trait, errors in trait_errors.items()}\n",
    "    print(f\"\\n{'='*60}\")\n",
    "    print(f\"最终测试集平均MAE: {final_mae:.4f}\")\n",
    "    print(f\"正确率: {accuracy:.2f}%\")\n",
    "    print(f\"有效样本/总样本: {valid_samples}/{len(final_dataset['test'])}\")\n",
    "    print(f\"方差: {variance:.6f}\")\n",
    "    print(\"\\n各个性MAE及方差:\")\n",
    "    for trait, mae in trait_mae.items():\n",
    "        print(f\"{trait}: MAE={mae:.4f}, 方差={trait_variances[trait]:.6f}\")\n",
    "    print('='*60)\n",
    "else:\n",
    "    print(\"警告：没有有效样本可计算MAE\")"
   ]
  },
  {
   "cell_type": "markdown",
   "id": "fe9623b9-77aa-43f4-9f41-c292b7f91376",
   "metadata": {},
   "source": [
    "# 保存模型"
   ]
  },
  {
   "cell_type": "code",
   "execution_count": 32,
   "id": "f1788fd899989a5b",
   "metadata": {},
   "outputs": [
    {
     "data": {
      "text/plain": [
       "('lora_model\\\\tokenizer_config.json',\n",
       " 'lora_model\\\\special_tokens_map.json',\n",
       " 'lora_model\\\\tokenizer.json')"
      ]
     },
     "execution_count": 32,
     "metadata": {},
     "output_type": "execute_result"
    }
   ],
   "source": [
    "model.save_pretrained(\"lora_model\")  # Local saving\n",
    "tokenizer.save_pretrained(\"lora_model\")"
   ]
  }
 ],
 "metadata": {
  "kernelspec": {
   "display_name": "Python 3 (ipykernel)",
   "language": "python",
   "name": "python3"
  },
  "language_info": {
   "codemirror_mode": {
    "name": "ipython",
    "version": 3
   },
   "file_extension": ".py",
   "mimetype": "text/x-python",
   "name": "python",
   "nbconvert_exporter": "python",
   "pygments_lexer": "ipython3",
   "version": "3.10.16"
  }
 },
 "nbformat": 4,
 "nbformat_minor": 5
}
