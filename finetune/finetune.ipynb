{
 "cells": [
  {
   "metadata": {},
   "cell_type": "markdown",
   "source": [
    "from unsloth import FastLanguageModel\n",
    "import torch\n",
    "max_seq_length = 2048 # Choose any! We auto support RoPE Scaling internally!\n",
    "dtype = None # None for auto detection. Float16 for Tesla T4, V100, Bfloat16 for Ampere+\n",
    "load_in_4bit = True # Use 4bit quantization to reduce memory usage. Can be False.\n",
    "\n",
    "# 4bit pre quantized models we support for 4x faster downloading + no OOMs.\n",
    "fourbit_models = [\n",
    "    \"unsloth/Meta-Llama-3.1-8B-bnb-4bit\",      # Llama-3.1 15 trillion tokens model 2x faster!\n",
    "    \"unsloth/Meta-Llama-3.1-8B-Instruct-bnb-4bit\",\n",
    "    \"unsloth/Meta-Llama-3.1-70B-bnb-4bit\",\n",
    "    \"unsloth/Meta-Llama-3.1-405B-bnb-4bit\",    # We also uploaded 4bit for 405b!\n",
    "    \"unsloth/Mistral-Nemo-Base-2407-bnb-4bit\", # New Mistral 12b 2x faster!\n",
    "    \"unsloth/Mistral-Nemo-Instruct-2407-bnb-4bit\",\n",
    "    \"unsloth/mistral-7b-v0.3-bnb-4bit\",        # Mistral v3 2x faster!\n",
    "    \"unsloth/mistral-7b-instruct-v0.3-bnb-4bit\",\n",
    "    \"unsloth/Phi-3.5-mini-instruct\",           # Phi-3.5 2x faster!\n",
    "    \"unsloth/Phi-3-medium-4k-instruct\",\n",
    "    \"unsloth/gemma-2-9b-bnb-4bit\",\n",
    "    \"unsloth/gemma-2-27b-bnb-4bit\",            # Gemma 2x faster!\n",
    "] # More models at https://huggingface.co/unsloth\n",
    "\n",
    "model, tokenizer = FastLanguageModel.from_pretrained(\n",
    "    # Can select any from the below:\n",
    "    # \"unsloth/Qwen2.5-0.5B\", \"unsloth/Qwen2.5-1.5B\", \"unsloth/Qwen2.5-3B\"\n",
    "    # \"unsloth/Qwen2.5-14B\",  \"unsloth/Qwen2.5-32B\",  \"unsloth/Qwen2.5-72B\",\n",
    "    # And also all Instruct versions and Math. Coding verisons!\n",
    "    model_name = \"unsloth/Qwen2.5-7B\",\n",
    "    max_seq_length = max_seq_length,\n",
    "    dtype = dtype,\n",
    "    load_in_4bit = load_in_4bit,\n",
    "    # token = \"hf_...\", # use one if using gated models like meta-llama/Llama-2-7b-hf\n",
    ")"
   ],
   "id": "46a7691c3befe22d"
  },
  {
   "metadata": {},
   "cell_type": "markdown",
   "source": [
    "model = FastLanguageModel.get_peft_model(\n",
    "    model,\n",
    "    r = 16, # Choose any number > 0 ! Suggested 8, 16, 32, 64, 128\n",
    "    target_modules = [\"q_proj\", \"k_proj\", \"v_proj\", \"o_proj\",\n",
    "                      \"gate_proj\", \"up_proj\", \"down_proj\",],\n",
    "    lora_alpha = 16,\n",
    "    lora_dropout = 0, # Supports any, but = 0 is optimized\n",
    "    bias = \"none\",    # Supports any, but = \"none\" is optimized\n",
    "    # [NEW] \"unsloth\" uses 30% less VRAM, fits 2x larger batch sizes!\n",
    "    use_gradient_checkpointing = \"unsloth\", # True or \"unsloth\" for very long context\n",
    "    random_state = 3407,\n",
    "    use_rslora = False,  # We support rank stabilized LoRA\n",
    "    loftq_config = None, # And LoftQ\n",
    ")"
   ],
   "id": "87710f422980e407"
  },
  {
   "metadata": {
    "ExecuteTime": {
     "end_time": "2025-03-28T01:11:31.010056Z",
     "start_time": "2025-03-28T01:11:08.812532Z"
    }
   },
   "cell_type": "code",
   "source": [
    "from unsloth import FastLanguageModel\n",
    "import torch\n",
    "max_seq_length = 2048 # Choose any! We auto support RoPE Scaling internally!\n",
    "dtype = None # None for auto detection. Float16 for Tesla T4, V100, Bfloat16 for Ampere+\n",
    "load_in_4bit = True # Use 4bit quantization to reduce memory usage. Can be False.\n",
    "\n",
    "# 4bit pre quantized models we support for 4x faster downloading + no OOMs.\n",
    "fourbit_models = [\n",
    "    \"unsloth/Meta-Llama-3.1-8B-bnb-4bit\",      # Llama-3.1 2x faster\n",
    "    \"unsloth/Meta-Llama-3.1-8B-Instruct-bnb-4bit\",\n",
    "    \"unsloth/Meta-Llama-3.1-70B-bnb-4bit\",\n",
    "    \"unsloth/Meta-Llama-3.1-405B-bnb-4bit\",    # 4bit for 405b!\n",
    "    \"unsloth/Mistral-Small-Instruct-2409\",     # Mistral 22b 2x faster!\n",
    "    \"unsloth/mistral-7b-instruct-v0.3-bnb-4bit\",\n",
    "    \"unsloth/Phi-3.5-mini-instruct\",           # Phi-3.5 2x faster!\n",
    "    \"unsloth/Phi-3-medium-4k-instruct\",\n",
    "    \"unsloth/gemma-2-9b-bnb-4bit\",\n",
    "    \"unsloth/gemma-2-27b-bnb-4bit\",            # Gemma 2x faster!\n",
    "\n",
    "    \"unsloth/Llama-3.2-1B-bnb-4bit\",           # NEW! Llama 3.2 models\n",
    "    \"unsloth/Llama-3.2-1B-Instruct-bnb-4bit\",\n",
    "    \"unsloth/Llama-3.2-3B-bnb-4bit\",\n",
    "    \"unsloth/Llama-3.2-3B-Instruct-bnb-4bit\",\n",
    "\n",
    "    \"unsloth/Llama-3.3-70B-Instruct-bnb-4bit\" # NEW! Llama 3.3 70B!\n",
    "] # More models at https://huggingface.co/unsloth\n",
    "\n",
    "model, tokenizer = FastLanguageModel.from_pretrained(\n",
    "    model_name = \"unsloth/Llama-3.2-3B-Instruct\", # or choose \"unsloth/Llama-3.2-1B-Instruct\"\n",
    "    max_seq_length = max_seq_length,\n",
    "    dtype = dtype,\n",
    "    load_in_4bit = load_in_4bit,\n",
    "    # token = \"hf_...\", # use one if using gated models like meta-llama/Llama-2-7b-hf\n",
    ")"
   ],
   "id": "bc546c2bcf365ee5",
   "outputs": [
    {
     "name": "stdout",
     "output_type": "stream",
     "text": [
      "🦥 Unsloth: Will patch your computer to enable 2x faster free finetuning.\n",
      "🦥 Unsloth Zoo will now patch everything to make training faster!\n"
     ]
    },
    {
     "name": "stderr",
     "output_type": "stream",
     "text": [
      "C:\\Users\\19389\\.conda\\envs\\finetune\\lib\\site-packages\\unsloth_zoo\\gradient_checkpointing.py:330: UserWarning: expandable_segments not supported on this platform (Triggered internally at C:\\actions-runner\\_work\\pytorch\\pytorch\\pytorch\\c10/cuda/CUDAAllocatorConfig.h:28.)\n",
      "  GPU_BUFFERS = tuple([torch.empty(2*256*2048, dtype = dtype, device = f\"cuda:{i}\") for i in range(n_gpus)])\n"
     ]
    },
    {
     "name": "stdout",
     "output_type": "stream",
     "text": [
      "==((====))==  Unsloth 2025.3.14: Fast Llama patching. Transformers: 4.49.0.\n",
      "   \\\\   /|    NVIDIA GeForce RTX 4060 Laptop GPU. Num GPUs = 1. Max memory: 7.996 GB. Platform: Windows.\n",
      "O^O/ \\_/ \\    Torch: 2.6.0+cu124. CUDA: 8.9. CUDA Toolkit: 12.4. Triton: 3.2.0\n",
      "\\        /    Bfloat16 = TRUE. FA [Xformers = 0.0.29.post3. FA2 = False]\n",
      " \"-____-\"     Free license: http://github.com/unslothai/unsloth\n",
      "Unsloth: Fast downloading is enabled - ignore downloading bars which are red colored!\n"
     ]
    }
   ],
   "execution_count": 1
  },
  {
   "metadata": {
    "ExecuteTime": {
     "end_time": "2025-03-28T01:12:37.310534Z",
     "start_time": "2025-03-28T01:12:34.442389Z"
    }
   },
   "cell_type": "code",
   "source": [
    "model = FastLanguageModel.get_peft_model(\n",
    "    model,\n",
    "    r = 16, # Choose any number > 0 ! Suggested 8, 16, 32, 64, 128\n",
    "    target_modules = [\"q_proj\", \"k_proj\", \"v_proj\", \"o_proj\",\n",
    "                      \"gate_proj\", \"up_proj\", \"down_proj\",],\n",
    "    lora_alpha = 16,\n",
    "    lora_dropout = 0, # Supports any, but = 0 is optimized\n",
    "    bias = \"none\",    # Supports any, but = \"none\" is optimized\n",
    "    # [NEW] \"unsloth\" uses 30% less VRAM, fits 2x larger batch sizes!\n",
    "    use_gradient_checkpointing = \"unsloth\", # True or \"unsloth\" for very long context\n",
    "    random_state = 3407,\n",
    "    use_rslora = False,  # We support rank stabilized LoRA\n",
    "    loftq_config = None, # And LoftQ\n",
    ")"
   ],
   "id": "2cd4d9eb200769e0",
   "outputs": [
    {
     "name": "stderr",
     "output_type": "stream",
     "text": [
      "Unsloth 2025.3.14 patched 28 layers with 28 QKV layers, 28 O layers and 28 MLP layers.\n"
     ]
    }
   ],
   "execution_count": 2
  },
  {
   "metadata": {
    "ExecuteTime": {
     "end_time": "2025-03-28T01:12:38.027450Z",
     "start_time": "2025-03-28T01:12:37.318126Z"
    }
   },
   "cell_type": "code",
   "source": [
    "EOS_TOKEN = tokenizer.eos_token # Must add EOS_TOKEN\n",
    "alpaca_prompt = \"\"\"\n",
    "### Instruction:\n",
    "# 角色\n",
    "你是一位专业的心理学家，擅长通过分析个人的行为和言语来评估其性格特质。你的任务是根据用户提供的信息，对个体的性格进行详细分析，并给出五大性格特质的具体评分。\n",
    "\n",
    "- **任务**：基于用户提供的信息（如行为描述、言语表达等），对个体的五大性格特质进行评估，并给出从0-1的具体分数。\n",
    "  - **开放性（Openness）**：评估个体的好奇心、想象力和对新事物的接受程度。\n",
    "  - **责任心（Conscientiousness）**：评估个体的责任感、组织能力和自律性。\n",
    "  - **外向性（Extraversion）**：评估个体的社交能力、活力和乐观程度。\n",
    "  - **宜人性（Agreeableness）**：评估个体的合作性、同情心和信任度。\n",
    "  - **神经质（Neuroticism）**：评估个体的情绪稳定性、焦虑水平和压力应对能力。\n",
    "\n",
    "## 限制\n",
    "- 仅基于用户提供的信息进行评估，确保评估结果客观准确。\n",
    "\n",
    "### Input:\n",
    "{}\n",
    "### Response:\n",
    "{}\"\"\"\n",
    "def formatting_prompts_func(examples):\n",
    "    # instructions = examples[\"introduction\"]\n",
    "    inputs       = examples[\"input\"]\n",
    "    outputs      = examples[\"output\"]\n",
    "    texts = []\n",
    "    for input_data, output in zip(inputs, outputs):\n",
    "        # Must add EOS_TOKEN, otherwise your generation will go on forever!\n",
    "        text = alpaca_prompt.format(input_data, output) + EOS_TOKEN\n",
    "        texts.append(text)\n",
    "    return { \"text\" : texts, }\n",
    "\n",
    "from datasets import load_dataset,DatasetDict\n",
    "dataset = load_dataset(\"json\", data_files=\"../data/results.jsonl\")\n",
    "dataset = dataset.map(formatting_prompts_func, batched = True,)\n",
    "full_dataset = dataset[\"train\"]  # 提取实际数据部分\n",
    "# 直接划分：90% 训练，10% 测试\n",
    "train_test = full_dataset.train_test_split(test_size=0.1, seed=42)\n",
    "# 组合为 DatasetDict\n",
    "final_dataset = DatasetDict({\n",
    "    \"train\": train_test[\"train\"],\n",
    "    \"test\": train_test[\"test\"],\n",
    "})\n",
    "# 查看划分结果\n",
    "print(final_dataset)"
   ],
   "id": "e189ff99fca5b210",
   "outputs": [
    {
     "name": "stdout",
     "output_type": "stream",
     "text": [
      "DatasetDict({\n",
      "    train: Dataset({\n",
      "        features: ['introduction', 'input', 'output', 'text'],\n",
      "        num_rows: 72\n",
      "    })\n",
      "    test: Dataset({\n",
      "        features: ['introduction', 'input', 'output', 'text'],\n",
      "        num_rows: 8\n",
      "    })\n",
      "})\n"
     ]
    }
   ],
   "execution_count": 3
  },
  {
   "metadata": {
    "ExecuteTime": {
     "end_time": "2025-03-28T01:36:18.798527Z",
     "start_time": "2025-03-28T01:36:18.793516Z"
    }
   },
   "cell_type": "code",
   "source": [
    "# prrompt = f\"{final_dataset['test'][0]['introduction']}\\n{final_dataset['test'][0]['input']}\"\n",
    "def test_basemodel(index):\n",
    "    prompt = alpaca_prompt.format(final_dataset['test'][index]['input'],' ')\n",
    "    prompt_encoding = tokenizer(prompt, return_tensors=\"pt\").to(model.device)\n",
    "    outputs = model.generate(\n",
    "        **prompt_encoding,\n",
    "        use_cache=True,\n",
    "        max_new_tokens=128,\n",
    "        temperature=0.7,\n",
    "        top_k=50,\n",
    "        top_p=0.9\n",
    "    )\n",
    "    # 将生成的输出解码为文本\n",
    "    generated_text = tokenizer.batch_decode(outputs, skip_special_tokens=True)\n",
    "    \n",
    "    # 打印生成的文本\n",
    "    print(generated_text[0])\n",
    "    print(\"\\n以上为模型输出，以下为测试集的真实输出：\")\n",
    "    print(final_dataset['test'][index]['output'])\n",
    "    \n",
    "import numpy as np\n",
    "\n",
    "def cosine_similarity(vec1, vec2):\n",
    "    # # 计算点积\n",
    "    # dot_product = np.dot(vec1, vec2)\n",
    "    # # 计算模长\n",
    "    # norm_vec1 = np.linalg.norm(vec1)\n",
    "    # norm_vec2 = np.linalg.norm(vec2)\n",
    "    # # 计算余弦相似度\n",
    "    # if norm_vec1 == 0 or norm_vec2 == 0:\n",
    "    #     return 0.0\n",
    "    # else:\n",
    "    #     return dot_product / (norm_vec1 * norm_vec2)\n",
    "    return np.linalg.norm(vec1 - vec2)\n",
    "\n",
    "import re\n",
    "def get_scores_from_text(index):\n",
    "    text = final_dataset['test'][index]['output']\n",
    "    # 定义正则表达式模式\n",
    "    pattern = r'(\\w+)：([\\d.]+)'\n",
    "    # 查找所有匹配项\n",
    "    matches = re.findall(pattern, text)\n",
    "    # 创建一个字典来存储结果\n",
    "    scores = {}\n",
    "    for feature, score in matches:\n",
    "        scores[feature] = float(score)\n",
    "    return scores\n",
    "\n"
   ],
   "id": "278b6ce25cae546e",
   "outputs": [],
   "execution_count": 23
  },
  {
   "metadata": {
    "ExecuteTime": {
     "end_time": "2025-03-28T01:15:36.849028Z",
     "start_time": "2025-03-28T01:15:29.659334Z"
    }
   },
   "cell_type": "code",
   "source": "test_basemodel(0)",
   "id": "5f1ef2159f010068",
   "outputs": [
    {
     "name": "stdout",
     "output_type": "stream",
     "text": [
      "\n",
      "### Instruction:\n",
      "# 角色\n",
      "你是一位专业的心理学家，擅长通过分析个人的行为和言语来评估其性格特质。你的任务是根据用户提供的信息，对个体的性格进行详细分析，并给出五大性格特质的具体评分。\n",
      "\n",
      "- **任务**：基于用户提供的信息（如行为描述、言语表达等），对个体的五大性格特质进行评估，并给出从0-1的具体分数。\n",
      "  - **开放性（Openness）**：评估个体的好奇心、想象力和对新事物的接受程度。\n",
      "  - **责任心（Conscientiousness）**：评估个体的责任感、组织能力和自律性。\n",
      "  - **外向性（Extraversion）**：评估个体的社交能力、活力和乐观程度。\n",
      "  - **宜人性（Agreeableness）**：评估个体的合作性、同情心和信任度。\n",
      "  - **神经质（Neuroticism）**：评估个体的情绪稳定性、焦虑水平和压力应对能力。\n",
      "\n",
      "## 限制\n",
      "- 仅基于用户提供的信息进行评估，确保评估结果客观准确。\n",
      "\n",
      "### Input:\n",
      "From the audio analysis, the speaker said: fall asleep and I'm not going to be tired tired.My favorite food was it is still chocolate Cholate is the world's greatest food, it is the most incredible food I never thought there would be life without chocolate, there is life, there is life without chocolate, lamb chops..\n",
      "The most possible emotion is 开心/happy with score 0.9999736547470093. \n",
      "His speech rate is 3.1368550834597877 words per second, the average volume is -13.48 dB \t the standard deviation of the volume is 6.12 dB. The average pitch is 205.05 Hz \t the standard deviation of the pitch is:38.93 Hz\n",
      "### Response:\n",
      "  - 开心/happy：0.9999736547470093\n",
      "  - Openness：0.6\n",
      "  -责任心：0.4\n",
      "  - 外向性：0.7\n",
      "  - 宜人性：0.5\n",
      "  - 神经质：0.3\n",
      "### 说明： \n",
      "- 开心/happy：0.9999736547470093\n",
      "- Openness：基于情绪分析评分，开心的特征包括乐观、乐观、感恩、乐于助人等，评分0.6代表了个体在这些\n",
      "\n",
      "以上为模型输出，以下为测试集的真实输出：\n",
      "ta的五大性格为：\n",
      "开放性：0.667\n",
      "外向型：0.551\n",
      "神经质：0.573\n",
      "亲和性：0.659\n",
      "尽责性：0.495\n"
     ]
    }
   ],
   "execution_count": 6
  },
  {
   "metadata": {
    "ExecuteTime": {
     "end_time": "2025-03-28T01:36:23.228811Z",
     "start_time": "2025-03-28T01:36:23.209507Z"
    }
   },
   "cell_type": "code",
   "source": [
    "temp_list  =[]\n",
    "for i in get_scores_from_text(0).values():\n",
    "    temp_list.append(i)\n",
    "cosine_similarity(np.array([0.6,0.7,0.3,0.5,0.4]),np.array(temp_list))"
   ],
   "id": "419bd965e7783a4f",
   "outputs": [
    {
     "data": {
      "text/plain": [
       "np.float64(0.3681372026839993)"
      ]
     },
     "execution_count": 24,
     "metadata": {},
     "output_type": "execute_result"
    }
   ],
   "execution_count": 24
  },
  {
   "metadata": {
    "ExecuteTime": {
     "end_time": "2025-03-28T01:15:52.576969Z",
     "start_time": "2025-03-28T01:15:47.186704Z"
    }
   },
   "cell_type": "code",
   "source": "test_basemodel(1)",
   "id": "16ae4f618065b5ce",
   "outputs": [
    {
     "name": "stdout",
     "output_type": "stream",
     "text": [
      "\n",
      "### Instruction:\n",
      "# 角色\n",
      "你是一位专业的心理学家，擅长通过分析个人的行为和言语来评估其性格特质。你的任务是根据用户提供的信息，对个体的性格进行详细分析，并给出五大性格特质的具体评分。\n",
      "\n",
      "- **任务**：基于用户提供的信息（如行为描述、言语表达等），对个体的五大性格特质进行评估，并给出从0-1的具体分数。\n",
      "  - **开放性（Openness）**：评估个体的好奇心、想象力和对新事物的接受程度。\n",
      "  - **责任心（Conscientiousness）**：评估个体的责任感、组织能力和自律性。\n",
      "  - **外向性（Extraversion）**：评估个体的社交能力、活力和乐观程度。\n",
      "  - **宜人性（Agreeableness）**：评估个体的合作性、同情心和信任度。\n",
      "  - **神经质（Neuroticism）**：评估个体的情绪稳定性、焦虑水平和压力应对能力。\n",
      "\n",
      "## 限制\n",
      "- 仅基于用户提供的信息进行评估，确保评估结果客观准确。\n",
      "\n",
      "### Input:\n",
      "From the audio analysis, the speaker said: Ner on the scale is like some days it's up. Some days it's down. My worth is not.Based off of that, like I'm still, if I'm two pounds up today, either it's because I'm like, oh shit, like I went over my macros yesterday..\n",
      "The most possible emotion is <unk> with score 0.6534436941146851. \n",
      "His speech rate is 2.875450493171472 words per second, the average volume is -17.72 dB \t the standard deviation of the volume is 13.44 dB. The average pitch is 227.34 Hz \t the standard deviation of the pitch is:48.14 Hz\n",
      "### Response:\n",
      "  - **开放性（Openness）**：0.6\n",
      "  - **责任心（Conscientiousness）**：0.4\n",
      "  - **外向性（Extraversion）**：0.7\n",
      "  - **宜人性（Agreeableness）**：0.5\n",
      "  - **神经质（Neuroticism）**：0.8\n",
      "\n",
      "### 说明：\n",
      "  - 这些评分是基于特定语句的分析和特定语音特征的评估，可能会根据具体情况进行调整。\n",
      "  - 这些评分\n",
      "\n",
      "以上为模型输出，以下为测试集的真实输出：\n",
      "ta的五大性格为：\n",
      "开放性：0.722\n",
      "外向型：0.748\n",
      "神经质：0.792\n",
      "亲和性：0.67\n",
      "尽责性：0.748\n"
     ]
    }
   ],
   "execution_count": 7
  },
  {
   "metadata": {
    "ExecuteTime": {
     "end_time": "2025-03-28T01:36:28.037218Z",
     "start_time": "2025-03-28T01:36:28.027312Z"
    }
   },
   "cell_type": "code",
   "source": [
    "temp_list  =[]\n",
    "for i in get_scores_from_text(1).values():\n",
    "    temp_list.append(i)\n",
    "cosine_similarity(np.array([0.6,0.7,0.8,0.5,0.4]),np.array(temp_list))"
   ],
   "id": "2d551c5996c14e1d",
   "outputs": [
    {
     "data": {
      "text/plain": [
       "np.float64(0.4089694365108474)"
      ]
     },
     "execution_count": 25,
     "metadata": {},
     "output_type": "execute_result"
    }
   ],
   "execution_count": 25
  },
  {
   "metadata": {
    "ExecuteTime": {
     "end_time": "2025-03-28T01:15:57.574710Z",
     "start_time": "2025-03-28T01:15:52.581814Z"
    }
   },
   "cell_type": "code",
   "source": "test_basemodel(2)",
   "id": "230053eb3569a8bb",
   "outputs": [
    {
     "name": "stdout",
     "output_type": "stream",
     "text": [
      "\n",
      "### Instruction:\n",
      "# 角色\n",
      "你是一位专业的心理学家，擅长通过分析个人的行为和言语来评估其性格特质。你的任务是根据用户提供的信息，对个体的性格进行详细分析，并给出五大性格特质的具体评分。\n",
      "\n",
      "- **任务**：基于用户提供的信息（如行为描述、言语表达等），对个体的五大性格特质进行评估，并给出从0-1的具体分数。\n",
      "  - **开放性（Openness）**：评估个体的好奇心、想象力和对新事物的接受程度。\n",
      "  - **责任心（Conscientiousness）**：评估个体的责任感、组织能力和自律性。\n",
      "  - **外向性（Extraversion）**：评估个体的社交能力、活力和乐观程度。\n",
      "  - **宜人性（Agreeableness）**：评估个体的合作性、同情心和信任度。\n",
      "  - **神经质（Neuroticism）**：评估个体的情绪稳定性、焦虑水平和压力应对能力。\n",
      "\n",
      "## 限制\n",
      "- 仅基于用户提供的信息进行评估，确保评估结果客观准确。\n",
      "\n",
      "### Input:\n",
      "From the audio analysis, the speaker said: And then pagemaster which I also used to love and now we are ordering some food and Mark was right in saying that he liked Wager mummers so we're going to go for a wager mums.😊.\n",
      "The most possible emotion is 开心/happy with score 0.9996635913848877. \n",
      "His speech rate is 2.352641312594841 words per second, the average volume is -15.65 dB \t the standard deviation of the volume is 8.24 dB. The average pitch is 239.81 Hz \t the standard deviation of the pitch is:93.34 Hz\n",
      "### Response:\n",
      "  - **开放性（Openness）**：0.8\n",
      "  - **责任心（Conscientiousness）**：0.6\n",
      "  - **外向性（Extraversion）**：0.9\n",
      "  - **宜人性（Agreeableness）**：0.7\n",
      "  - **神经质（Neuroticism）**：0.5\n",
      "\n",
      "### Note:\n",
      "This analysis is based on a limited dataset and should be interpreted with caution. A more comprehensive analysis would require more data. However, this should give a general idea of the speaker's personality traits. \n",
      "\n",
      "\n",
      "\n",
      "以上为模型输出，以下为测试集的真实输出：\n",
      "ta的五大性格为：\n",
      "开放性：0.556\n",
      "外向型：0.523\n",
      "神经质：0.531\n",
      "亲和性：0.429\n",
      "尽责性：0.515\n"
     ]
    }
   ],
   "execution_count": 8
  },
  {
   "metadata": {
    "ExecuteTime": {
     "end_time": "2025-03-28T01:36:34.126865Z",
     "start_time": "2025-03-28T01:36:34.122705Z"
    }
   },
   "cell_type": "code",
   "source": [
    "  # - **开放性（Openness）**：0.8\n",
    "  # - **责任心（Conscientiousness）**：0.6\n",
    "  # - **外向性（Extraversion）**：0.9\n",
    "  # - **宜人性（Agreeableness）**：0.7\n",
    "  # - **神经质（Neuroticism）**：0.5\n",
    "  # 顺序，开放性，外向型，神经质，亲和性，责任心\n",
    "temp_list  =[]\n",
    "for i in get_scores_from_text(2).values():\n",
    "    temp_list.append(i)\n",
    "cosine_similarity(np.array([0.8,0.9,0.5,0.7,0.6]),np.array(temp_list))"
   ],
   "id": "e5c29249e222c366",
   "outputs": [
    {
     "data": {
      "text/plain": [
       "np.float64(0.5322518201002229)"
      ]
     },
     "execution_count": 26,
     "metadata": {},
     "output_type": "execute_result"
    }
   ],
   "execution_count": 26
  },
  {
   "metadata": {
    "ExecuteTime": {
     "end_time": "2025-03-28T01:16:02.709024Z",
     "start_time": "2025-03-28T01:15:57.607646Z"
    }
   },
   "cell_type": "code",
   "source": "test_basemodel(3)",
   "id": "e3e79715e98b5ddf",
   "outputs": [
    {
     "name": "stdout",
     "output_type": "stream",
     "text": [
      "\n",
      "### Instruction:\n",
      "# 角色\n",
      "你是一位专业的心理学家，擅长通过分析个人的行为和言语来评估其性格特质。你的任务是根据用户提供的信息，对个体的性格进行详细分析，并给出五大性格特质的具体评分。\n",
      "\n",
      "- **任务**：基于用户提供的信息（如行为描述、言语表达等），对个体的五大性格特质进行评估，并给出从0-1的具体分数。\n",
      "  - **开放性（Openness）**：评估个体的好奇心、想象力和对新事物的接受程度。\n",
      "  - **责任心（Conscientiousness）**：评估个体的责任感、组织能力和自律性。\n",
      "  - **外向性（Extraversion）**：评估个体的社交能力、活力和乐观程度。\n",
      "  - **宜人性（Agreeableness）**：评估个体的合作性、同情心和信任度。\n",
      "  - **神经质（Neuroticism）**：评估个体的情绪稳定性、焦虑水平和压力应对能力。\n",
      "\n",
      "## 限制\n",
      "- 仅基于用户提供的信息进行评估，确保评估结果客观准确。\n",
      "\n",
      "### Input:\n",
      "From the audio analysis, the speaker said: act make it but yeah, I go to the gym about three times a week and do a bunch of different stuff so yeah, J, how old are you and do you live with your parents as I said?I'm2..\n",
      "The most possible emotion is 中立/neutral with score 0.5947170853614807. \n",
      "His speech rate is 2.5486947553110775 words per second, the average volume is -26.62 dB \t the standard deviation of the volume is 14.15 dB. The average pitch is 108.96 Hz \t the standard deviation of the pitch is:30.20 Hz\n",
      "### Response:\n",
      "  - **开放性（Openness）**：0.7\n",
      "  - **责任心（Conscientiousness）**：0.5\n",
      "  - **外向性（Extraversion）**：0.6\n",
      "  - **宜人性（Agreeableness）**：0.4\n",
      "  - **神经质（Neuroticism）**：0.8\n",
      "\n",
      "### 说明\n",
      "  - 评分是基于语音分析的客观结果，不涉及主观的判断。\n",
      "  - 评分范围为0-1，0表示极低，1\n",
      "\n",
      "以上为模型输出，以下为测试集的真实输出：\n",
      "ta的五大性格为：\n",
      "开放性：0.556\n",
      "外向型：0.355\n",
      "神经质：0.427\n",
      "亲和性：0.527\n",
      "尽责性：0.515\n"
     ]
    }
   ],
   "execution_count": 9
  },
  {
   "metadata": {
    "ExecuteTime": {
     "end_time": "2025-03-28T01:36:41.995822Z",
     "start_time": "2025-03-28T01:36:41.980590Z"
    }
   },
   "cell_type": "code",
   "source": [
    "  # - **开放性（Openness）**：0.7\n",
    "  # - **责任心（Conscientiousness）**：0.5\n",
    "  # - **外向性（Extraversion）**：0.6\n",
    "  # - **宜人性（Agreeableness）**：0.4\n",
    "  # - **神经质（Neuroticism）**：0.8\n",
    "temp_list  =[]\n",
    "for i in get_scores_from_text(3).values():\n",
    "    temp_list.append(i)\n",
    "cosine_similarity(np.array([0.7,0.6,0.8,0.4,0.5]),np.array(temp_list))"
   ],
   "id": "69b185cdc6a9989d",
   "outputs": [
    {
     "data": {
      "text/plain": [
       "np.float64(0.4860493802074024)"
      ]
     },
     "execution_count": 27,
     "metadata": {},
     "output_type": "execute_result"
    }
   ],
   "execution_count": 27
  },
  {
   "metadata": {
    "ExecuteTime": {
     "end_time": "2025-03-28T01:37:11.124749Z",
     "start_time": "2025-03-28T01:37:10.749991Z"
    }
   },
   "cell_type": "code",
   "source": [
    "from trl import SFTTrainer\n",
    "from transformers import TrainingArguments\n",
    "from unsloth import is_bfloat16_supported\n",
    "\n",
    "trainer = SFTTrainer(\n",
    "    model = model,\n",
    "    tokenizer = tokenizer,\n",
    "    train_dataset = final_dataset['train'],\n",
    "    dataset_text_field = \"text\",\n",
    "    formatting_func=formatting_prompts_func,\n",
    "    max_seq_length = max_seq_length,\n",
    "    dataset_num_proc = 1,\n",
    "    packing = False, # Can make training 5x faster for short sequences.\n",
    "    args = TrainingArguments(\n",
    "        per_device_train_batch_size = 2,\n",
    "        gradient_accumulation_steps = 4,\n",
    "        warmup_steps = 5,\n",
    "        # num_train_epochs = 1, # Set this for 1 full training run.\n",
    "        max_steps = 60,\n",
    "        learning_rate = 2e-4,\n",
    "        fp16 = not is_bfloat16_supported(),\n",
    "        bf16 = is_bfloat16_supported(),\n",
    "        logging_steps = 1,\n",
    "        optim = \"adamw_8bit\",\n",
    "        weight_decay = 0.01,\n",
    "        lr_scheduler_type = \"linear\",\n",
    "        seed = 3407,\n",
    "        output_dir = \"outputs\",\n",
    "        report_to = \"none\", # Use this for WandB etc\n",
    "    ),\n",
    ")"
   ],
   "id": "1de90d0f59f3aa52",
   "outputs": [],
   "execution_count": 28
  },
  {
   "metadata": {
    "ExecuteTime": {
     "end_time": "2025-03-28T01:37:14.595684Z",
     "start_time": "2025-03-28T01:37:14.582916Z"
    }
   },
   "cell_type": "code",
   "source": [
    "# @title Show current memory stats\n",
    "gpu_stats = torch.cuda.get_device_properties(0)\n",
    "start_gpu_memory = round(torch.cuda.max_memory_reserved() / 1024 / 1024 / 1024, 3)\n",
    "max_memory = round(gpu_stats.total_memory / 1024 / 1024 / 1024, 3)\n",
    "print(f\"GPU = {gpu_stats.name}. Max memory = {max_memory} GB.\")\n",
    "print(f\"{start_gpu_memory} GB of memory reserved.\")"
   ],
   "id": "2c27a0c58dee5148",
   "outputs": [
    {
     "name": "stdout",
     "output_type": "stream",
     "text": [
      "GPU = NVIDIA GeForce RTX 4060 Laptop GPU. Max memory = 7.996 GB.\n",
      "2.68 GB of memory reserved.\n"
     ]
    }
   ],
   "execution_count": 29
  },
  {
   "metadata": {
    "ExecuteTime": {
     "end_time": "2025-03-28T01:41:07.270277Z",
     "start_time": "2025-03-28T01:37:17.519641Z"
    }
   },
   "cell_type": "code",
   "source": "trainer_stats = trainer.train()",
   "id": "6ebf016d37aedbc1",
   "outputs": [
    {
     "name": "stderr",
     "output_type": "stream",
     "text": [
      "==((====))==  Unsloth - 2x faster free finetuning | Num GPUs used = 1\n",
      "   \\\\   /|    Num examples = 72 | Num Epochs = 7 | Total steps = 60\n",
      "O^O/ \\_/ \\    Batch size per device = 2 | Gradient accumulation steps = 4\n",
      "\\        /    Data Parallel GPUs = 1 | Total batch size (2 x 4 x 1) = 8\n",
      " \"-____-\"     Trainable parameters = 24,313,856/3,000,000,000 (0.81% trained)\n"
     ]
    },
    {
     "name": "stdout",
     "output_type": "stream",
     "text": [
      "Unsloth: Will smartly offload gradients to save VRAM!\n"
     ]
    },
    {
     "data": {
      "text/plain": [
       "<IPython.core.display.HTML object>"
      ],
      "text/html": [
       "\n",
       "    <div>\n",
       "      \n",
       "      <progress value='60' max='60' style='width:300px; height:20px; vertical-align: middle;'></progress>\n",
       "      [60/60 03:40, Epoch 6/7]\n",
       "    </div>\n",
       "    <table border=\"1\" class=\"dataframe\">\n",
       "  <thead>\n",
       " <tr style=\"text-align: left;\">\n",
       "      <th>Step</th>\n",
       "      <th>Training Loss</th>\n",
       "    </tr>\n",
       "  </thead>\n",
       "  <tbody>\n",
       "    <tr>\n",
       "      <td>1</td>\n",
       "      <td>2.283800</td>\n",
       "    </tr>\n",
       "    <tr>\n",
       "      <td>2</td>\n",
       "      <td>2.231800</td>\n",
       "    </tr>\n",
       "    <tr>\n",
       "      <td>3</td>\n",
       "      <td>2.258100</td>\n",
       "    </tr>\n",
       "    <tr>\n",
       "      <td>4</td>\n",
       "      <td>2.216600</td>\n",
       "    </tr>\n",
       "    <tr>\n",
       "      <td>5</td>\n",
       "      <td>2.214600</td>\n",
       "    </tr>\n",
       "    <tr>\n",
       "      <td>6</td>\n",
       "      <td>2.054900</td>\n",
       "    </tr>\n",
       "    <tr>\n",
       "      <td>7</td>\n",
       "      <td>1.897400</td>\n",
       "    </tr>\n",
       "    <tr>\n",
       "      <td>8</td>\n",
       "      <td>1.677800</td>\n",
       "    </tr>\n",
       "    <tr>\n",
       "      <td>9</td>\n",
       "      <td>1.557600</td>\n",
       "    </tr>\n",
       "    <tr>\n",
       "      <td>10</td>\n",
       "      <td>1.430800</td>\n",
       "    </tr>\n",
       "    <tr>\n",
       "      <td>11</td>\n",
       "      <td>1.300900</td>\n",
       "    </tr>\n",
       "    <tr>\n",
       "      <td>12</td>\n",
       "      <td>1.148700</td>\n",
       "    </tr>\n",
       "    <tr>\n",
       "      <td>13</td>\n",
       "      <td>0.981400</td>\n",
       "    </tr>\n",
       "    <tr>\n",
       "      <td>14</td>\n",
       "      <td>0.927900</td>\n",
       "    </tr>\n",
       "    <tr>\n",
       "      <td>15</td>\n",
       "      <td>0.863100</td>\n",
       "    </tr>\n",
       "    <tr>\n",
       "      <td>16</td>\n",
       "      <td>0.796100</td>\n",
       "    </tr>\n",
       "    <tr>\n",
       "      <td>17</td>\n",
       "      <td>0.781300</td>\n",
       "    </tr>\n",
       "    <tr>\n",
       "      <td>18</td>\n",
       "      <td>0.780900</td>\n",
       "    </tr>\n",
       "    <tr>\n",
       "      <td>19</td>\n",
       "      <td>0.770800</td>\n",
       "    </tr>\n",
       "    <tr>\n",
       "      <td>20</td>\n",
       "      <td>0.740900</td>\n",
       "    </tr>\n",
       "    <tr>\n",
       "      <td>21</td>\n",
       "      <td>0.698300</td>\n",
       "    </tr>\n",
       "    <tr>\n",
       "      <td>22</td>\n",
       "      <td>0.741600</td>\n",
       "    </tr>\n",
       "    <tr>\n",
       "      <td>23</td>\n",
       "      <td>0.709900</td>\n",
       "    </tr>\n",
       "    <tr>\n",
       "      <td>24</td>\n",
       "      <td>0.707000</td>\n",
       "    </tr>\n",
       "    <tr>\n",
       "      <td>25</td>\n",
       "      <td>0.692600</td>\n",
       "    </tr>\n",
       "    <tr>\n",
       "      <td>26</td>\n",
       "      <td>0.729800</td>\n",
       "    </tr>\n",
       "    <tr>\n",
       "      <td>27</td>\n",
       "      <td>0.698200</td>\n",
       "    </tr>\n",
       "    <tr>\n",
       "      <td>28</td>\n",
       "      <td>0.646200</td>\n",
       "    </tr>\n",
       "    <tr>\n",
       "      <td>29</td>\n",
       "      <td>0.679100</td>\n",
       "    </tr>\n",
       "    <tr>\n",
       "      <td>30</td>\n",
       "      <td>0.674000</td>\n",
       "    </tr>\n",
       "    <tr>\n",
       "      <td>31</td>\n",
       "      <td>0.653800</td>\n",
       "    </tr>\n",
       "    <tr>\n",
       "      <td>32</td>\n",
       "      <td>0.686500</td>\n",
       "    </tr>\n",
       "    <tr>\n",
       "      <td>33</td>\n",
       "      <td>0.676700</td>\n",
       "    </tr>\n",
       "    <tr>\n",
       "      <td>34</td>\n",
       "      <td>0.687300</td>\n",
       "    </tr>\n",
       "    <tr>\n",
       "      <td>35</td>\n",
       "      <td>0.720800</td>\n",
       "    </tr>\n",
       "    <tr>\n",
       "      <td>36</td>\n",
       "      <td>0.678100</td>\n",
       "    </tr>\n",
       "    <tr>\n",
       "      <td>37</td>\n",
       "      <td>0.655000</td>\n",
       "    </tr>\n",
       "    <tr>\n",
       "      <td>38</td>\n",
       "      <td>0.654700</td>\n",
       "    </tr>\n",
       "    <tr>\n",
       "      <td>39</td>\n",
       "      <td>0.620500</td>\n",
       "    </tr>\n",
       "    <tr>\n",
       "      <td>40</td>\n",
       "      <td>0.685600</td>\n",
       "    </tr>\n",
       "    <tr>\n",
       "      <td>41</td>\n",
       "      <td>0.666400</td>\n",
       "    </tr>\n",
       "    <tr>\n",
       "      <td>42</td>\n",
       "      <td>0.650900</td>\n",
       "    </tr>\n",
       "    <tr>\n",
       "      <td>43</td>\n",
       "      <td>0.674600</td>\n",
       "    </tr>\n",
       "    <tr>\n",
       "      <td>44</td>\n",
       "      <td>0.649700</td>\n",
       "    </tr>\n",
       "    <tr>\n",
       "      <td>45</td>\n",
       "      <td>0.666600</td>\n",
       "    </tr>\n",
       "    <tr>\n",
       "      <td>46</td>\n",
       "      <td>0.676600</td>\n",
       "    </tr>\n",
       "    <tr>\n",
       "      <td>47</td>\n",
       "      <td>0.645700</td>\n",
       "    </tr>\n",
       "    <tr>\n",
       "      <td>48</td>\n",
       "      <td>0.604300</td>\n",
       "    </tr>\n",
       "    <tr>\n",
       "      <td>49</td>\n",
       "      <td>0.656600</td>\n",
       "    </tr>\n",
       "    <tr>\n",
       "      <td>50</td>\n",
       "      <td>0.672000</td>\n",
       "    </tr>\n",
       "    <tr>\n",
       "      <td>51</td>\n",
       "      <td>0.592600</td>\n",
       "    </tr>\n",
       "    <tr>\n",
       "      <td>52</td>\n",
       "      <td>0.662600</td>\n",
       "    </tr>\n",
       "    <tr>\n",
       "      <td>53</td>\n",
       "      <td>0.628100</td>\n",
       "    </tr>\n",
       "    <tr>\n",
       "      <td>54</td>\n",
       "      <td>0.674300</td>\n",
       "    </tr>\n",
       "    <tr>\n",
       "      <td>55</td>\n",
       "      <td>0.591400</td>\n",
       "    </tr>\n",
       "    <tr>\n",
       "      <td>56</td>\n",
       "      <td>0.681700</td>\n",
       "    </tr>\n",
       "    <tr>\n",
       "      <td>57</td>\n",
       "      <td>0.636900</td>\n",
       "    </tr>\n",
       "    <tr>\n",
       "      <td>58</td>\n",
       "      <td>0.680400</td>\n",
       "    </tr>\n",
       "    <tr>\n",
       "      <td>59</td>\n",
       "      <td>0.627900</td>\n",
       "    </tr>\n",
       "    <tr>\n",
       "      <td>60</td>\n",
       "      <td>0.659400</td>\n",
       "    </tr>\n",
       "  </tbody>\n",
       "</table><p>"
      ]
     },
     "metadata": {},
     "output_type": "display_data"
    }
   ],
   "execution_count": 30
  },
  {
   "metadata": {
    "ExecuteTime": {
     "end_time": "2025-03-28T01:41:07.285756Z",
     "start_time": "2025-03-28T01:41:07.275605Z"
    }
   },
   "cell_type": "code",
   "source": [
    "# @title Show final memory and time stats\n",
    "used_memory = round(torch.cuda.max_memory_reserved() / 1024 / 1024 / 1024, 3)\n",
    "used_memory_for_lora = round(used_memory - start_gpu_memory, 3)\n",
    "used_percentage = round(used_memory / max_memory * 100, 3)\n",
    "lora_percentage = round(used_memory_for_lora / max_memory * 100, 3)\n",
    "print(f\"{trainer_stats.metrics['train_runtime']} seconds used for training.\")\n",
    "print(\n",
    "    f\"{round(trainer_stats.metrics['train_runtime']/60, 2)} minutes used for training.\"\n",
    ")\n",
    "print(f\"Peak reserved memory = {used_memory} GB.\")\n",
    "print(f\"Peak reserved memory for training = {used_memory_for_lora} GB.\")\n",
    "print(f\"Peak reserved memory % of max memory = {used_percentage} %.\")\n",
    "print(f\"Peak reserved memory for training % of max memory = {lora_percentage} %.\")\n"
   ],
   "id": "4802dbcee5945ae4",
   "outputs": [
    {
     "name": "stdout",
     "output_type": "stream",
     "text": [
      "228.7902 seconds used for training.\n",
      "3.81 minutes used for training.\n",
      "Peak reserved memory = 4.107 GB.\n",
      "Peak reserved memory for training = 1.427 GB.\n",
      "Peak reserved memory % of max memory = 51.363 %.\n",
      "Peak reserved memory for training % of max memory = 17.846 %.\n"
     ]
    }
   ],
   "execution_count": 31
  },
  {
   "metadata": {
    "ExecuteTime": {
     "end_time": "2025-03-28T01:41:07.332187Z",
     "start_time": "2025-03-28T01:41:07.317286Z"
    }
   },
   "cell_type": "code",
   "source": "final_dataset[\"test\"]",
   "id": "4bd7c071b10c481b",
   "outputs": [
    {
     "data": {
      "text/plain": [
       "Dataset({\n",
       "    features: ['introduction', 'input', 'output', 'text'],\n",
       "    num_rows: 8\n",
       "})"
      ]
     },
     "execution_count": 32,
     "metadata": {},
     "output_type": "execute_result"
    }
   ],
   "execution_count": 32
  },
  {
   "metadata": {
    "ExecuteTime": {
     "end_time": "2025-03-28T01:41:09.306326Z",
     "start_time": "2025-03-28T01:41:07.363853Z"
    }
   },
   "cell_type": "code",
   "source": [
    "# prrompt = f\"{final_dataset['test'][0]['introduction']}\\n{final_dataset['test'][0]['input']}\"\n",
    "\n",
    "\n",
    "alpaca_prompt = \"\"\"\n",
    "### Instruction:\n",
    "# 角色\n",
    "你是一位专业的心理学家，擅长通过分析个人的行为和言语来评估其性格特质。你的任务是根据用户提供的信息，对个体的性格进行详细分析，并给出五大性格特质的具体评分。\n",
    "\n",
    "- **任务**：基于用户提供的信息（如行为描述、言语表达等），对个体的五大性格特质进行评估，并给出从0-1的具体分数。\n",
    "  - **开放性（Openness）**：评估个体的好奇心、想象力和对新事物的接受程度。\n",
    "  - **责任心（Conscientiousness）**：评估个体的责任感、组织能力和自律性。\n",
    "  - **外向性（Extraversion）**：评估个体的社交能力、活力和乐观程度。\n",
    "  - **宜人性（Agreeableness）**：评估个体的合作性、同情心和信任度。\n",
    "  - **神经质（Neuroticism）**：评估个体的情绪稳定性、焦虑水平和压力应对能力。\n",
    "\n",
    "## 限制\n",
    "- 仅基于用户提供的信息进行评估，确保评估结果客观准确。\n",
    "\n",
    "### Input:\n",
    "{}\n",
    "### Response:\n",
    "{}\"\"\"\n",
    "prompt = alpaca_prompt.format(final_dataset['test'][0]['input'], ' ')\n",
    "prompt_encoding = tokenizer(prompt, return_tensors=\"pt\").to(model.device)\n",
    "outputs = model.generate(\n",
    "    **prompt_encoding,\n",
    "    use_cache=True,\n",
    "    max_new_tokens=128,\n",
    "    temperature=0.9,\n",
    "    top_k=50,\n",
    "    top_p=0.9\n",
    ")\n",
    "# 将生成的输出解码为文本\n",
    "generated_text = tokenizer.batch_decode(outputs, skip_special_tokens=True)\n",
    "\n",
    "# 打印生成的文本\n",
    "print(generated_text[0])\n",
    "print(\"以上为模型输出，以下为测试集的真实输出：\")\n",
    "print(final_dataset['test'][0]['output'])"
   ],
   "id": "baa09d75cb168fd9",
   "outputs": [
    {
     "name": "stdout",
     "output_type": "stream",
     "text": [
      "\n",
      "### Instruction:\n",
      "# 角色\n",
      "你是一位专业的心理学家，擅长通过分析个人的行为和言语来评估其性格特质。你的任务是根据用户提供的信息，对个体的性格进行详细分析，并给出五大性格特质的具体评分。\n",
      "\n",
      "- **任务**：基于用户提供的信息（如行为描述、言语表达等），对个体的五大性格特质进行评估，并给出从0-1的具体分数。\n",
      "  - **开放性（Openness）**：评估个体的好奇心、想象力和对新事物的接受程度。\n",
      "  - **责任心（Conscientiousness）**：评估个体的责任感、组织能力和自律性。\n",
      "  - **外向性（Extraversion）**：评估个体的社交能力、活力和乐观程度。\n",
      "  - **宜人性（Agreeableness）**：评估个体的合作性、同情心和信任度。\n",
      "  - **神经质（Neuroticism）**：评估个体的情绪稳定性、焦虑水平和压力应对能力。\n",
      "\n",
      "## 限制\n",
      "- 仅基于用户提供的信息进行评估，确保评估结果客观准确。\n",
      "\n",
      "### Input:\n",
      "From the audio analysis, the speaker said: fall asleep and I'm not going to be tired tired.My favorite food was it is still chocolate Cholate is the world's greatest food, it is the most incredible food I never thought there would be life without chocolate, there is life, there is life without chocolate, lamb chops..\n",
      "The most possible emotion is 开心/happy with score 0.9999736547470093. \n",
      "His speech rate is 3.1368550834597877 words per second, the average volume is -13.48 dB \t the standard deviation of the volume is 6.12 dB. The average pitch is 205.05 Hz \t the standard deviation of the pitch is:38.93 Hz\n",
      "### Response:\n",
      " ta的五大性格为：\n",
      "开放性：0.718\n",
      "外向型：0.693\n",
      "神经质：0.646\n",
      "亲和性：0.704\n",
      "尽责性：0.678\n",
      "以上为模型输出，以下为测试集的真实输出：\n",
      "ta的五大性格为：\n",
      "开放性：0.667\n",
      "外向型：0.551\n",
      "神经质：0.573\n",
      "亲和性：0.659\n",
      "尽责性：0.495\n"
     ]
    }
   ],
   "execution_count": 33
  },
  {
   "metadata": {
    "ExecuteTime": {
     "end_time": "2025-03-28T02:00:18.308548Z",
     "start_time": "2025-03-28T02:00:18.288718Z"
    }
   },
   "cell_type": "code",
   "source": [
    "def get_scores_from_ai(text):\n",
    "    # 定义正则表达式模式\n",
    "    pattern = r'(\\w+)：([\\d.]+)'\n",
    "    # 查找所有匹配项\n",
    "    matches = re.findall(pattern, text)\n",
    "    # 创建一个列表来存储结果\n",
    "    scores = []\n",
    "    for feature, score in matches:\n",
    "        scores.append(float(score))\n",
    "    return scores\n",
    "def check_result(index):\n",
    "    alpaca_prompt = \"\"\"\n",
    "### Instruction:\n",
    "# 角色\n",
    "你是一位专业的心理学家，擅长通过分析个人的行为和言语来评估其性格特质。你的任务是根据用户提供的信息，对个体的性格进行详细分析，并给出五大性格特质的具体评分。\n",
    "\n",
    "- **任务**：基于用户提供的信息（如行为描述、言语表达等），对个体的五大性格特质进行评估，并给出从0-1的具体分数。\n",
    "  - **开放性（Openness）**：评估个体的好奇心、想象力和对新事物的接受程度。\n",
    "  - **责任心（Conscientiousness）**：评估个体的责任感、组织能力和自律性。\n",
    "  - **外向性（Extraversion）**：评估个体的社交能力、活力和乐观程度。\n",
    "  - **宜人性（Agreeableness）**：评估个体的合作性、同情心和信任度。\n",
    "  - **神经质（Neuroticism）**：评估个体的情绪稳定性、焦虑水平和压力应对能力。\n",
    "\n",
    "## 限制\n",
    "- 仅基于用户提供的信息进行评估，确保评估结果客观准确。\n",
    "\n",
    "### Input:\n",
    "{}\n",
    "### Response:\n",
    "{}\"\"\"\n",
    "    prompt = alpaca_prompt.format(final_dataset['test'][index]['input'], ' ')\n",
    "    prompt_encoding = tokenizer(prompt, return_tensors=\"pt\").to(model.device)\n",
    "    outputs = model.generate(\n",
    "        **prompt_encoding,\n",
    "        use_cache=True,\n",
    "        max_new_tokens=128,\n",
    "        temperature=0.75,\n",
    "        top_k=50,\n",
    "        top_p=0.9\n",
    "    )\n",
    "    # 将生成的输出解码为文本\n",
    "    generated_text = tokenizer.batch_decode(outputs, skip_special_tokens=True)\n",
    "    \n",
    "    # 打印生成的文本\n",
    "    print(generated_text[0])\n",
    "    print(\"以上为模型输出，以下为测试集的真实输出：\")\n",
    "    print(final_dataset['test'][index]['output'])\n",
    "    temp_list  =[]\n",
    "    for i in get_scores_from_text(index).values():\n",
    "        temp_list.append(i)\n",
    "    \n",
    "    final_scores=cosine_similarity(np.array([get_scores_from_ai(generated_text[0])]),np.array(temp_list))\n",
    "    print(f\"与真实分数的距离为：{final_scores}\")"
   ],
   "id": "b4b3c81837769e8d",
   "outputs": [],
   "execution_count": 54
  },
  {
   "metadata": {
    "ExecuteTime": {
     "end_time": "2025-03-28T02:00:23.170876Z",
     "start_time": "2025-03-28T02:00:20.971909Z"
    }
   },
   "cell_type": "code",
   "source": "check_result(0)",
   "id": "d60372daaec8ecaa",
   "outputs": [
    {
     "name": "stdout",
     "output_type": "stream",
     "text": [
      "\n",
      "### Instruction:\n",
      "# 角色\n",
      "你是一位专业的心理学家，擅长通过分析个人的行为和言语来评估其性格特质。你的任务是根据用户提供的信息，对个体的性格进行详细分析，并给出五大性格特质的具体评分。\n",
      "\n",
      "- **任务**：基于用户提供的信息（如行为描述、言语表达等），对个体的五大性格特质进行评估，并给出从0-1的具体分数。\n",
      "  - **开放性（Openness）**：评估个体的好奇心、想象力和对新事物的接受程度。\n",
      "  - **责任心（Conscientiousness）**：评估个体的责任感、组织能力和自律性。\n",
      "  - **外向性（Extraversion）**：评估个体的社交能力、活力和乐观程度。\n",
      "  - **宜人性（Agreeableness）**：评估个体的合作性、同情心和信任度。\n",
      "  - **神经质（Neuroticism）**：评估个体的情绪稳定性、焦虑水平和压力应对能力。\n",
      "\n",
      "## 限制\n",
      "- 仅基于用户提供的信息进行评估，确保评估结果客观准确。\n",
      "\n",
      "### Input:\n",
      "From the audio analysis, the speaker said: fall asleep and I'm not going to be tired tired.My favorite food was it is still chocolate Cholate is the world's greatest food, it is the most incredible food I never thought there would be life without chocolate, there is life, there is life without chocolate, lamb chops..\n",
      "The most possible emotion is 开心/happy with score 0.9999736547470093. \n",
      "His speech rate is 3.1368550834597877 words per second, the average volume is -13.48 dB \t the standard deviation of the volume is 6.12 dB. The average pitch is 205.05 Hz \t the standard deviation of the pitch is:38.93 Hz\n",
      "### Response:\n",
      " ta的五大性格为：\n",
      "开放性：0.583\n",
      "外向型：0.571\n",
      "神经质：0.625\n",
      "亲和性：0.667\n",
      "尽责性：0.607\n",
      "以上为模型输出，以下为测试集的真实输出：\n",
      "ta的五大性格为：\n",
      "开放性：0.667\n",
      "外向型：0.551\n",
      "神经质：0.573\n",
      "亲和性：0.659\n",
      "尽责性：0.495\n",
      "与真实分数的距离为：0.15089068891088014\n"
     ]
    }
   ],
   "execution_count": 55
  },
  {
   "metadata": {
    "ExecuteTime": {
     "end_time": "2025-03-28T02:00:34.116616Z",
     "start_time": "2025-03-28T02:00:31.832967Z"
    }
   },
   "cell_type": "code",
   "source": "check_result(1)",
   "id": "e14319afa4509cd9",
   "outputs": [
    {
     "name": "stdout",
     "output_type": "stream",
     "text": [
      "\n",
      "### Instruction:\n",
      "# 角色\n",
      "你是一位专业的心理学家，擅长通过分析个人的行为和言语来评估其性格特质。你的任务是根据用户提供的信息，对个体的性格进行详细分析，并给出五大性格特质的具体评分。\n",
      "\n",
      "- **任务**：基于用户提供的信息（如行为描述、言语表达等），对个体的五大性格特质进行评估，并给出从0-1的具体分数。\n",
      "  - **开放性（Openness）**：评估个体的好奇心、想象力和对新事物的接受程度。\n",
      "  - **责任心（Conscientiousness）**：评估个体的责任感、组织能力和自律性。\n",
      "  - **外向性（Extraversion）**：评估个体的社交能力、活力和乐观程度。\n",
      "  - **宜人性（Agreeableness）**：评估个体的合作性、同情心和信任度。\n",
      "  - **神经质（Neuroticism）**：评估个体的情绪稳定性、焦虑水平和压力应对能力。\n",
      "\n",
      "## 限制\n",
      "- 仅基于用户提供的信息进行评估，确保评估结果客观准确。\n",
      "\n",
      "### Input:\n",
      "From the audio analysis, the speaker said: Ner on the scale is like some days it's up. Some days it's down. My worth is not.Based off of that, like I'm still, if I'm two pounds up today, either it's because I'm like, oh shit, like I went over my macros yesterday..\n",
      "The most possible emotion is <unk> with score 0.6534436941146851. \n",
      "His speech rate is 2.875450493171472 words per second, the average volume is -17.72 dB \t the standard deviation of the volume is 13.44 dB. The average pitch is 227.34 Hz \t the standard deviation of the pitch is:48.14 Hz\n",
      "### Response:\n",
      " ta的五大性格为：\n",
      "开放性：0.633\n",
      "外向型：0.567\n",
      "神经质：0.542\n",
      "亲和性：0.574\n",
      "尽责性：0.533\n",
      "以上为模型输出，以下为测试集的真实输出：\n",
      "ta的五大性格为：\n",
      "开放性：0.722\n",
      "外向型：0.748\n",
      "神经质：0.792\n",
      "亲和性：0.67\n",
      "尽责性：0.748\n",
      "与真实分数的距离为：0.39827503060071445\n"
     ]
    }
   ],
   "execution_count": 57
  },
  {
   "metadata": {
    "ExecuteTime": {
     "end_time": "2025-03-28T02:00:48.421742Z",
     "start_time": "2025-03-28T02:00:46.102887Z"
    }
   },
   "cell_type": "code",
   "source": "check_result(2)",
   "id": "5865ac7b172b9939",
   "outputs": [
    {
     "name": "stdout",
     "output_type": "stream",
     "text": [
      "\n",
      "### Instruction:\n",
      "# 角色\n",
      "你是一位专业的心理学家，擅长通过分析个人的行为和言语来评估其性格特质。你的任务是根据用户提供的信息，对个体的性格进行详细分析，并给出五大性格特质的具体评分。\n",
      "\n",
      "- **任务**：基于用户提供的信息（如行为描述、言语表达等），对个体的五大性格特质进行评估，并给出从0-1的具体分数。\n",
      "  - **开放性（Openness）**：评估个体的好奇心、想象力和对新事物的接受程度。\n",
      "  - **责任心（Conscientiousness）**：评估个体的责任感、组织能力和自律性。\n",
      "  - **外向性（Extraversion）**：评估个体的社交能力、活力和乐观程度。\n",
      "  - **宜人性（Agreeableness）**：评估个体的合作性、同情心和信任度。\n",
      "  - **神经质（Neuroticism）**：评估个体的情绪稳定性、焦虑水平和压力应对能力。\n",
      "\n",
      "## 限制\n",
      "- 仅基于用户提供的信息进行评估，确保评估结果客观准确。\n",
      "\n",
      "### Input:\n",
      "From the audio analysis, the speaker said: And then pagemaster which I also used to love and now we are ordering some food and Mark was right in saying that he liked Wager mummers so we're going to go for a wager mums.😊.\n",
      "The most possible emotion is 开心/happy with score 0.9996635913848877. \n",
      "His speech rate is 2.352641312594841 words per second, the average volume is -15.65 dB \t the standard deviation of the volume is 8.24 dB. The average pitch is 239.81 Hz \t the standard deviation of the pitch is:93.34 Hz\n",
      "### Response:\n",
      " ta的五大性格为：\n",
      "开放性：0.632\n",
      "外向型：0.588\n",
      "神经质：0.542\n",
      "亲和性：0.563\n",
      "尽责性：0.635\n",
      "以上为模型输出，以下为测试集的真实输出：\n",
      "ta的五大性格为：\n",
      "开放性：0.556\n",
      "外向型：0.523\n",
      "神经质：0.531\n",
      "亲和性：0.429\n",
      "尽责性：0.515\n",
      "与真实分数的距离为：0.20610191653645527\n"
     ]
    }
   ],
   "execution_count": 59
  },
  {
   "metadata": {
    "ExecuteTime": {
     "end_time": "2025-03-28T02:00:54.359234Z",
     "start_time": "2025-03-28T02:00:52.163388Z"
    }
   },
   "cell_type": "code",
   "source": "check_result(3)",
   "id": "afac0c50879c071a",
   "outputs": [
    {
     "name": "stdout",
     "output_type": "stream",
     "text": [
      "\n",
      "### Instruction:\n",
      "# 角色\n",
      "你是一位专业的心理学家，擅长通过分析个人的行为和言语来评估其性格特质。你的任务是根据用户提供的信息，对个体的性格进行详细分析，并给出五大性格特质的具体评分。\n",
      "\n",
      "- **任务**：基于用户提供的信息（如行为描述、言语表达等），对个体的五大性格特质进行评估，并给出从0-1的具体分数。\n",
      "  - **开放性（Openness）**：评估个体的好奇心、想象力和对新事物的接受程度。\n",
      "  - **责任心（Conscientiousness）**：评估个体的责任感、组织能力和自律性。\n",
      "  - **外向性（Extraversion）**：评估个体的社交能力、活力和乐观程度。\n",
      "  - **宜人性（Agreeableness）**：评估个体的合作性、同情心和信任度。\n",
      "  - **神经质（Neuroticism）**：评估个体的情绪稳定性、焦虑水平和压力应对能力。\n",
      "\n",
      "## 限制\n",
      "- 仅基于用户提供的信息进行评估，确保评估结果客观准确。\n",
      "\n",
      "### Input:\n",
      "From the audio analysis, the speaker said: act make it but yeah, I go to the gym about three times a week and do a bunch of different stuff so yeah, J, how old are you and do you live with your parents as I said?I'm2..\n",
      "The most possible emotion is 中立/neutral with score 0.5947170853614807. \n",
      "His speech rate is 2.5486947553110775 words per second, the average volume is -26.62 dB \t the standard deviation of the volume is 14.15 dB. The average pitch is 108.96 Hz \t the standard deviation of the pitch is:30.20 Hz\n",
      "### Response:\n",
      " ta的五大性格为：\n",
      "开放性：0.633\n",
      "外向型：0.574\n",
      "神经质：0.563\n",
      "亲和性：0.555\n",
      "尽责性：0.522\n",
      "以上为模型输出，以下为测试集的真实输出：\n",
      "ta的五大性格为：\n",
      "开放性：0.556\n",
      "外向型：0.355\n",
      "神经质：0.427\n",
      "亲和性：0.527\n",
      "尽责性：0.515\n",
      "与真实分数的距离为：0.27059009590153144\n"
     ]
    }
   ],
   "execution_count": 60
  },
  {
   "metadata": {
    "ExecuteTime": {
     "end_time": "2025-03-28T02:00:59.624561Z",
     "start_time": "2025-03-28T02:00:57.379720Z"
    }
   },
   "cell_type": "code",
   "source": "check_result(4)",
   "id": "b9c0ceac016c55f",
   "outputs": [
    {
     "name": "stdout",
     "output_type": "stream",
     "text": [
      "\n",
      "### Instruction:\n",
      "# 角色\n",
      "你是一位专业的心理学家，擅长通过分析个人的行为和言语来评估其性格特质。你的任务是根据用户提供的信息，对个体的性格进行详细分析，并给出五大性格特质的具体评分。\n",
      "\n",
      "- **任务**：基于用户提供的信息（如行为描述、言语表达等），对个体的五大性格特质进行评估，并给出从0-1的具体分数。\n",
      "  - **开放性（Openness）**：评估个体的好奇心、想象力和对新事物的接受程度。\n",
      "  - **责任心（Conscientiousness）**：评估个体的责任感、组织能力和自律性。\n",
      "  - **外向性（Extraversion）**：评估个体的社交能力、活力和乐观程度。\n",
      "  - **宜人性（Agreeableness）**：评估个体的合作性、同情心和信任度。\n",
      "  - **神经质（Neuroticism）**：评估个体的情绪稳定性、焦虑水平和压力应对能力。\n",
      "\n",
      "## 限制\n",
      "- 仅基于用户提供的信息进行评估，确保评估结果客观准确。\n",
      "\n",
      "### Input:\n",
      "From the audio analysis, the speaker said: Others just comes down to each person individually in a situation like that I just guess you have to trust your boyfriend and if you don't trust him when he's hanging out with these girls or whatever then talk to him about it and if he bes a dick about it and he's like, oh you,😊.\n",
      "The most possible emotion is 开心/happy with score 0.9898068308830261. \n",
      "His speech rate is 3.659664264036419 words per second, the average volume is -10.78 dB \t the standard deviation of the volume is 5.58 dB. The average pitch is 247.38 Hz \t the standard deviation of the pitch is:66.37 Hz\n",
      "### Response:\n",
      " ta的五大性格为：\n",
      "开放性：0.733\n",
      "外向型：0.576\n",
      "神经质：0.665\n",
      "亲和性：0.718\n",
      "尽责性：0.674\n",
      "以上为模型输出，以下为测试集的真实输出：\n",
      "ta的五大性格为：\n",
      "开放性：0.711\n",
      "外向型：0.748\n",
      "神经质：0.719\n",
      "亲和性：0.78\n",
      "尽责性：0.738\n",
      "与真实分数的距离为：0.2022968116407177\n"
     ]
    }
   ],
   "execution_count": 61
  },
  {
   "metadata": {
    "ExecuteTime": {
     "end_time": "2025-03-28T02:01:04.430724Z",
     "start_time": "2025-03-28T02:01:02.193587Z"
    }
   },
   "cell_type": "code",
   "source": "check_result(5)",
   "id": "cc949c7d892e65c2",
   "outputs": [
    {
     "name": "stdout",
     "output_type": "stream",
     "text": [
      "\n",
      "### Instruction:\n",
      "# 角色\n",
      "你是一位专业的心理学家，擅长通过分析个人的行为和言语来评估其性格特质。你的任务是根据用户提供的信息，对个体的性格进行详细分析，并给出五大性格特质的具体评分。\n",
      "\n",
      "- **任务**：基于用户提供的信息（如行为描述、言语表达等），对个体的五大性格特质进行评估，并给出从0-1的具体分数。\n",
      "  - **开放性（Openness）**：评估个体的好奇心、想象力和对新事物的接受程度。\n",
      "  - **责任心（Conscientiousness）**：评估个体的责任感、组织能力和自律性。\n",
      "  - **外向性（Extraversion）**：评估个体的社交能力、活力和乐观程度。\n",
      "  - **宜人性（Agreeableness）**：评估个体的合作性、同情心和信任度。\n",
      "  - **神经质（Neuroticism）**：评估个体的情绪稳定性、焦虑水平和压力应对能力。\n",
      "\n",
      "## 限制\n",
      "- 仅基于用户提供的信息进行评估，确保评估结果客观准确。\n",
      "\n",
      "### Input:\n",
      "From the audio analysis, the speaker said: I guess really awkward because that's kind of what I'm finding myself being drawn to do more and stuff that's like more serious is stuff that I.Find myself really wanting to do, but I feel..\n",
      "The most possible emotion is 中立/neutral with score 0.6232110857963562. \n",
      "His speech rate is 2.2872901650227617 words per second, the average volume is -23.38 dB \t the standard deviation of the volume is 15.56 dB. The average pitch is 106.67 Hz \t the standard deviation of the pitch is:28.23 Hz\n",
      "### Response:\n",
      " ta的五大性格为：\n",
      "开放性：0.513\n",
      "外向型：0.513\n",
      "神经质：0.512\n",
      "亲和性：0.522\n",
      "尽责性：0.504\n",
      "以上为模型输出，以下为测试集的真实输出：\n",
      "ta的五大性格为：\n",
      "开放性：0.467\n",
      "外向型：0.439\n",
      "神经质：0.51\n",
      "亲和性：0.615\n",
      "尽责性：0.476\n",
      "与真实分数的距离为：0.1304952106400844\n"
     ]
    }
   ],
   "execution_count": 62
  },
  {
   "metadata": {
    "ExecuteTime": {
     "end_time": "2025-03-28T02:01:08.883470Z",
     "start_time": "2025-03-28T02:01:06.751893Z"
    }
   },
   "cell_type": "code",
   "source": "check_result(6)",
   "id": "8cb4833771e351c7",
   "outputs": [
    {
     "name": "stdout",
     "output_type": "stream",
     "text": [
      "\n",
      "### Instruction:\n",
      "# 角色\n",
      "你是一位专业的心理学家，擅长通过分析个人的行为和言语来评估其性格特质。你的任务是根据用户提供的信息，对个体的性格进行详细分析，并给出五大性格特质的具体评分。\n",
      "\n",
      "- **任务**：基于用户提供的信息（如行为描述、言语表达等），对个体的五大性格特质进行评估，并给出从0-1的具体分数。\n",
      "  - **开放性（Openness）**：评估个体的好奇心、想象力和对新事物的接受程度。\n",
      "  - **责任心（Conscientiousness）**：评估个体的责任感、组织能力和自律性。\n",
      "  - **外向性（Extraversion）**：评估个体的社交能力、活力和乐观程度。\n",
      "  - **宜人性（Agreeableness）**：评估个体的合作性、同情心和信任度。\n",
      "  - **神经质（Neuroticism）**：评估个体的情绪稳定性、焦虑水平和压力应对能力。\n",
      "\n",
      "## 限制\n",
      "- 仅基于用户提供的信息进行评估，确保评估结果客观准确。\n",
      "\n",
      "### Input:\n",
      "From the audio analysis, the speaker said: Matters at the end of the day, like coming from somebody who is almost graduating college who you know, went through high school and all that is that you will get through it bullying, depression, tough times like honestly.There's always a light..\n",
      "The most possible emotion is 难过/sad with score 0.9988958835601807. \n",
      "His speech rate is 2.744748198027314 words per second, the average volume is -14.54 dB \t the standard deviation of the volume is 6.07 dB. The average pitch is 172.73 Hz \t the standard deviation of the pitch is:59.13 Hz\n",
      "### Response:\n",
      " ta的五大性格为：\n",
      "开放性：0.8\n",
      "外向型：0.7\n",
      "神经质：0.73\n",
      "亲和性：0.73\n",
      "尽责性：0.74\n",
      "以上为模型输出，以下为测试集的真实输出：\n",
      "ta的五大性格为：\n",
      "开放性：0.789\n",
      "外向型：0.766\n",
      "神经质：0.844\n",
      "亲和性：0.824\n",
      "尽责性：0.757\n",
      "与真实分数的距离为：0.16308893279434997\n"
     ]
    }
   ],
   "execution_count": 63
  },
  {
   "metadata": {
    "ExecuteTime": {
     "end_time": "2025-03-28T02:01:16.695871Z",
     "start_time": "2025-03-28T02:01:14.510094Z"
    }
   },
   "cell_type": "code",
   "source": "check_result(7)",
   "id": "5af8b507b9904056",
   "outputs": [
    {
     "name": "stdout",
     "output_type": "stream",
     "text": [
      "\n",
      "### Instruction:\n",
      "# 角色\n",
      "你是一位专业的心理学家，擅长通过分析个人的行为和言语来评估其性格特质。你的任务是根据用户提供的信息，对个体的性格进行详细分析，并给出五大性格特质的具体评分。\n",
      "\n",
      "- **任务**：基于用户提供的信息（如行为描述、言语表达等），对个体的五大性格特质进行评估，并给出从0-1的具体分数。\n",
      "  - **开放性（Openness）**：评估个体的好奇心、想象力和对新事物的接受程度。\n",
      "  - **责任心（Conscientiousness）**：评估个体的责任感、组织能力和自律性。\n",
      "  - **外向性（Extraversion）**：评估个体的社交能力、活力和乐观程度。\n",
      "  - **宜人性（Agreeableness）**：评估个体的合作性、同情心和信任度。\n",
      "  - **神经质（Neuroticism）**：评估个体的情绪稳定性、焦虑水平和压力应对能力。\n",
      "\n",
      "## 限制\n",
      "- 仅基于用户提供的信息进行评估，确保评估结果客观准确。\n",
      "\n",
      "### Input:\n",
      "From the audio analysis, the speaker said: My own house, I had a few decorations that I was accumulating, but since I've moved so many times, they pretty much were donated or thrown out whichever.All I do now is just decorate..\n",
      "The most possible emotion is <unk> with score 0.4576365053653717. \n",
      "His speech rate is 2.221939017450683 words per second, the average volume is -15.47 dB \t the standard deviation of the volume is 9.24 dB. The average pitch is 178.05 Hz \t the standard deviation of the pitch is:23.15 Hz\n",
      "### Response:\n",
      " ta的五大性格为：\n",
      "开放性：0.45\n",
      "外向型：0.395\n",
      "神经质：0.417\n",
      "亲和性：0.428\n",
      "尽责性：0.42\n",
      "以上为模型输出，以下为测试集的真实输出：\n",
      "ta的五大性格为：\n",
      "开放性：0.356\n",
      "外向型：0.28\n",
      "神经质：0.365\n",
      "亲和性：0.429\n",
      "尽责性：0.544\n",
      "与真实分数的距离为：0.20035468549549826\n"
     ]
    }
   ],
   "execution_count": 64
  },
  {
   "metadata": {
    "ExecuteTime": {
     "end_time": "2025-03-20T14:13:17.424554Z",
     "start_time": "2025-03-20T14:13:07.005661Z"
    }
   },
   "cell_type": "code",
   "source": [
    "model.save_pretrained(\"lora_model\")  # Local saving\n",
    "tokenizer.save_pretrained(\"lora_model\")"
   ],
   "id": "f1788fd899989a5b",
   "outputs": [
    {
     "data": {
      "text/plain": [
       "('lora_model\\\\tokenizer_config.json',\n",
       " 'lora_model\\\\special_tokens_map.json',\n",
       " 'lora_model\\\\tokenizer.json')"
      ]
     },
     "execution_count": 11,
     "metadata": {},
     "output_type": "execute_result"
    }
   ],
   "execution_count": 11
  }
 ],
 "metadata": {
  "kernelspec": {
   "display_name": "Python 3",
   "language": "python",
   "name": "python3"
  },
  "language_info": {
   "codemirror_mode": {
    "name": "ipython",
    "version": 2
   },
   "file_extension": ".py",
   "mimetype": "text/x-python",
   "name": "python",
   "nbconvert_exporter": "python",
   "pygments_lexer": "ipython2",
   "version": "2.7.6"
  }
 },
 "nbformat": 4,
 "nbformat_minor": 5
}
