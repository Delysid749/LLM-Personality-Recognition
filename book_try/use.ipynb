{
 "cells": [
  {
   "metadata": {
    "ExecuteTime": {
     "end_time": "2025-03-13T08:08:47.368729Z",
     "start_time": "2025-03-13T08:08:38.019393Z"
    }
   },
   "cell_type": "code",
   "source": [
    "#!/usr/bin/env python3\n",
    "# -*- encoding: utf-8 -*-\n",
    "# Copyright FunASR (https://github.com/FunAudioLLM/SenseVoice). All Rights Reserved.\n",
    "#  MIT License  (https://opensource.org/licenses/MIT)\n",
    "\n",
    "from model import SenseVoiceSmall\n",
    "from funasr.utils.postprocess_utils import rich_transcription_postprocess\n",
    "\n",
    "model_dir = \"iic/SenseVoiceSmall\"\n",
    "m, kwargs = SenseVoiceSmall.from_pretrained(model=model_dir, device=\"cuda:0\")\n",
    "m.eval()"
   ],
   "id": "81ddae656f7f805a",
   "outputs": [
    {
     "name": "stdout",
     "output_type": "stream",
     "text": [
      "Downloading Model to directory: C:\\Users\\19389\\.cache\\modelscope\\hub\\models\\iic\\SenseVoiceSmall\n"
     ]
    },
    {
     "name": "stderr",
     "output_type": "stream",
     "text": [
      "2025-03-13 16:08:45,015 - modelscope - WARNING - Using branch: master as version is unstable, use with caution\n"
     ]
    },
    {
     "name": "stdout",
     "output_type": "stream",
     "text": [
      "Loading remote code successfully: model\n"
     ]
    },
    {
     "data": {
      "text/plain": [
       "SenseVoiceSmall(\n",
       "  (specaug): SpecAugLFR(\n",
       "    (freq_mask): MaskAlongAxisLFR(mask_width_range=[0, 30], num_mask=1, axis=freq)\n",
       "    (time_mask): MaskAlongAxisLFR(mask_width_range=[0, 12], num_mask=1, axis=time)\n",
       "  )\n",
       "  (encoder): SenseVoiceEncoderSmall(\n",
       "    (embed): SinusoidalPositionEncoder()\n",
       "    (encoders0): ModuleList(\n",
       "      (0): EncoderLayerSANM(\n",
       "        (self_attn): MultiHeadedAttentionSANM(\n",
       "          (linear_out): Linear(in_features=512, out_features=512, bias=True)\n",
       "          (linear_q_k_v): Linear(in_features=560, out_features=1536, bias=True)\n",
       "          (dropout): Dropout(p=0.1, inplace=False)\n",
       "          (fsmn_block): Conv1d(512, 512, kernel_size=(11,), stride=(1,), groups=512, bias=False)\n",
       "          (pad_fn): ConstantPad1d(padding=(5, 5), value=0.0)\n",
       "        )\n",
       "        (feed_forward): PositionwiseFeedForward(\n",
       "          (w_1): Linear(in_features=512, out_features=2048, bias=True)\n",
       "          (w_2): Linear(in_features=2048, out_features=512, bias=True)\n",
       "          (dropout): Dropout(p=0.1, inplace=False)\n",
       "          (activation): ReLU()\n",
       "        )\n",
       "        (norm1): LayerNorm((560,), eps=1e-05, elementwise_affine=True)\n",
       "        (norm2): LayerNorm((512,), eps=1e-05, elementwise_affine=True)\n",
       "        (dropout): Dropout(p=0.1, inplace=False)\n",
       "      )\n",
       "    )\n",
       "    (encoders): ModuleList(\n",
       "      (0-48): 49 x EncoderLayerSANM(\n",
       "        (self_attn): MultiHeadedAttentionSANM(\n",
       "          (linear_out): Linear(in_features=512, out_features=512, bias=True)\n",
       "          (linear_q_k_v): Linear(in_features=512, out_features=1536, bias=True)\n",
       "          (dropout): Dropout(p=0.1, inplace=False)\n",
       "          (fsmn_block): Conv1d(512, 512, kernel_size=(11,), stride=(1,), groups=512, bias=False)\n",
       "          (pad_fn): ConstantPad1d(padding=(5, 5), value=0.0)\n",
       "        )\n",
       "        (feed_forward): PositionwiseFeedForward(\n",
       "          (w_1): Linear(in_features=512, out_features=2048, bias=True)\n",
       "          (w_2): Linear(in_features=2048, out_features=512, bias=True)\n",
       "          (dropout): Dropout(p=0.1, inplace=False)\n",
       "          (activation): ReLU()\n",
       "        )\n",
       "        (norm1): LayerNorm((512,), eps=1e-05, elementwise_affine=True)\n",
       "        (norm2): LayerNorm((512,), eps=1e-05, elementwise_affine=True)\n",
       "        (dropout): Dropout(p=0.1, inplace=False)\n",
       "      )\n",
       "    )\n",
       "    (tp_encoders): ModuleList(\n",
       "      (0-19): 20 x EncoderLayerSANM(\n",
       "        (self_attn): MultiHeadedAttentionSANM(\n",
       "          (linear_out): Linear(in_features=512, out_features=512, bias=True)\n",
       "          (linear_q_k_v): Linear(in_features=512, out_features=1536, bias=True)\n",
       "          (dropout): Dropout(p=0.1, inplace=False)\n",
       "          (fsmn_block): Conv1d(512, 512, kernel_size=(11,), stride=(1,), groups=512, bias=False)\n",
       "          (pad_fn): ConstantPad1d(padding=(5, 5), value=0.0)\n",
       "        )\n",
       "        (feed_forward): PositionwiseFeedForward(\n",
       "          (w_1): Linear(in_features=512, out_features=2048, bias=True)\n",
       "          (w_2): Linear(in_features=2048, out_features=512, bias=True)\n",
       "          (dropout): Dropout(p=0.1, inplace=False)\n",
       "          (activation): ReLU()\n",
       "        )\n",
       "        (norm1): LayerNorm((512,), eps=1e-05, elementwise_affine=True)\n",
       "        (norm2): LayerNorm((512,), eps=1e-05, elementwise_affine=True)\n",
       "        (dropout): Dropout(p=0.1, inplace=False)\n",
       "      )\n",
       "    )\n",
       "    (after_norm): LayerNorm((512,), eps=1e-05, elementwise_affine=True)\n",
       "    (tp_norm): LayerNorm((512,), eps=1e-05, elementwise_affine=True)\n",
       "  )\n",
       "  (ctc): CTC(\n",
       "    (ctc_lo): Linear(in_features=512, out_features=25055, bias=True)\n",
       "    (ctc_loss): CTCLoss()\n",
       "  )\n",
       "  (embed): Embedding(16, 560)\n",
       "  (criterion_att): LabelSmoothingLoss(\n",
       "    (criterion): KLDivLoss()\n",
       "  )\n",
       ")"
      ]
     },
     "execution_count": 1,
     "metadata": {},
     "output_type": "execute_result"
    }
   ],
   "execution_count": 1
  },
  {
   "metadata": {
    "ExecuteTime": {
     "end_time": "2025-03-13T08:08:50.006589Z",
     "start_time": "2025-03-13T08:08:50.001084Z"
    }
   },
   "cell_type": "code",
   "source": [
    "audio_dir = r\"E:\\code\\project\\data\\voice\\\\\"\n",
    "audio_file_list =[\"1DCnIad1Y0w.002.mp3\",\"9mM_0vrO3wc.003.mp3\"]\n",
    "audio_path = audio_dir + audio_file_list[0]\n",
    "\n"
   ],
   "id": "62043d2857204379",
   "outputs": [],
   "execution_count": 2
  },
  {
   "metadata": {},
   "cell_type": "code",
   "outputs": [],
   "execution_count": null,
   "source": [
    "# from playsound import playsound\n",
    "# playsound(audio_path)"
   ],
   "id": "dbe5393f39f54170"
  },
  {
   "metadata": {
    "ExecuteTime": {
     "end_time": "2025-03-13T08:08:54.417427Z",
     "start_time": "2025-03-13T08:08:53.119815Z"
    }
   },
   "cell_type": "code",
   "source": [
    "# 输出文本\n",
    "res = m.inference(\n",
    "    data_in=audio_path,\n",
    "    language=\"en\", # \"zh\", \"en\", \"yue\", \"ja\", \"ko\", \"nospeech\"\n",
    "    use_itn=False,\n",
    "    ban_emo_unk=False,\n",
    "    **kwargs,\n",
    ")\n",
    "\n",
    "text = rich_transcription_postprocess(res[0][0][\"text\"])\n",
    "print(text)\n"
   ],
   "id": "322aac56aeb18462",
   "outputs": [
    {
     "name": "stdout",
     "output_type": "stream",
     "text": [
      "i'm very excited and very thankful to anyone who subscribes to anyone who watches like shares my videos to anyone whoever leaves me comments i really appreciate it and i'm feeling very warm and fuzzy right now so i just wanted to\n"
     ]
    }
   ],
   "execution_count": 3
  },
  {
   "metadata": {
    "ExecuteTime": {
     "end_time": "2025-03-07T02:33:41.651485Z",
     "start_time": "2025-03-07T02:33:41.639103Z"
    }
   },
   "cell_type": "code",
   "source": "print(res)",
   "id": "e7f17159bf55333d",
   "outputs": [
    {
     "name": "stdout",
     "output_type": "stream",
     "text": [
      "([{'key': 'wav_file_tmp_name', 'text': \"<|en|><|EMO_UNKNOWN|><|Speech|><|woitn|>again this is like an entire videos worth of information that i'm going to squeeze into 30 seconds here most important thing make sure your lighting is good make sure that it looks bright and like beautiful and natural so natural lighting is really good if you have the mind by studio lights i highly recommend that too\"}], {'load_data': '0.151', 'extract_feat': '0.101', 'batch_data_time': 15.3})\n"
     ]
    }
   ],
   "execution_count": 4
  },
  {
   "metadata": {
    "ExecuteTime": {
     "end_time": "2025-03-13T08:09:14.059184Z",
     "start_time": "2025-03-13T08:09:12.973200Z"
    }
   },
   "cell_type": "code",
   "source": [
    "# 输出时间戳\n",
    "res = m.inference(\n",
    "    data_in=audio_path,\n",
    "    language=\"auto\", # \"zh\", \"en\", \"yue\", \"ja\", \"ko\", \"nospeech\"\n",
    "    use_itn=False,\n",
    "    ban_emo_unk=False,\n",
    "    output_timestamp=True,\n",
    "    **kwargs,\n",
    ")\n",
    "\n",
    "timestamp = res[0][0][\"timestamp\"]\n",
    "text = rich_transcription_postprocess(res[0][0][\"text\"])\n",
    "print(text)\n",
    "print(timestamp)\n"
   ],
   "id": "d34d97a8025aecbd",
   "outputs": [
    {
     "name": "stdout",
     "output_type": "stream",
     "text": [
      "i'm very excited and very thankful to anyone who subscribes to anyone who watches like shares my videos to anyone whoever leaves me comments i really appreciate it and i'm feeling very warm and fuzzy right now so i just wanted to\n",
      "[['i', 0, 0.15], [\"'\", 0.15, 0.27], ['m', 0.27, 0.33], ['▁very', 0.33, 0.57], ['▁excited', 0.57, 0.93], ['▁and', 0.93, 1.23], ['▁very', 1.23, 1.59], ['▁thankful', 1.59, 1.77], ['▁to', 1.77, 2.67], ['▁anyone', 2.67, 2.97], ['▁who', 2.97, 3.33], ['▁subscribe', 3.33, 3.45], ['s', 3.45, 4.17], ['▁to', 4.17, 4.35], ['▁anyone', 4.35, 4.65], ['▁who', 4.65, 5.25], ['▁watch', 5.25, 5.55], ['es', 5.55, 6.09], ['▁like', 6.09, 6.51], ['▁share', 6.51, 6.69], ['s', 6.69, 6.99], ['▁my', 6.99, 7.11], ['▁videos', 7.11, 7.53], ['▁to', 7.53, 7.83], ['▁anyone', 7.83, 8.13], ['▁who', 8.13, 8.37], ['ever', 8.37, 8.67], ['▁leaves', 8.67, 9.33], ['▁me', 9.33, 9.57], ['▁comments', 9.57, 9.81], ['▁i', 9.81, 10.71], ['▁really', 10.71, 11.01], ['▁appreciate', 11.01, 11.43], ['▁it', 11.43, 11.85], ['▁and', 11.85, 12.15], ['▁i', 12.15, 12.33], [\"'\", 12.33, 12.45], ['m', 12.45, 12.51], ['▁feeling', 12.51, 12.81], ['▁very', 12.81, 13.17], ['▁warm', 13.17, 13.29], ['▁and', 13.29, 13.59], ['▁f', 13.59, 13.65], ['uzz', 13.65, 13.83], ['y', 13.83, 13.95], ['▁right', 13.95, 14.07], ['▁now', 14.07, 14.31], ['▁so', 14.31, 14.49], ['▁i', 14.49, 14.67], ['▁just', 14.67, 14.85], ['▁wanted', 14.85, 14.97], ['▁to', 14.97, 15.27]]\n"
     ]
    }
   ],
   "execution_count": 4
  },
  {
   "metadata": {
    "ExecuteTime": {
     "end_time": "2025-03-13T08:09:53.051937Z",
     "start_time": "2025-03-13T08:09:37.592317Z"
    }
   },
   "cell_type": "code",
   "source": [
    "\n",
    "import os\n",
    "from http import HTTPStatus\n",
    "from dashscope import Application\n",
    "response = Application.call(\n",
    "    # 若没有配置环境变量，可用百炼API Key将下行替换为：api_key=\"sk-xxx\"。但不建议在生产环境中直接将API Key硬编码到代码中，以减少API Key泄露风险。\n",
    "    api_key=\"sk-8ac1a297ccc9487cafcf22a43bc8c4b8\",\n",
    "    app_id='132ee9d5fcee4f15a4e883ba32cb3c3f',# 替换为实际的应用 ID\n",
    "    prompt=text)\n",
    "\n",
    "if response.status_code != HTTPStatus.OK:\n",
    "    print(f'request_id={response.request_id}')\n",
    "    print(f'code={response.status_code}')\n",
    "    print(f'message={response.message}')\n",
    "    print(f'请参考文档：https://help.aliyun.com/zh/model-studio/developer-reference/error-code')\n",
    "else:\n",
    "    print(response.output.text)\n",
    "    "
   ],
   "id": "12661a95c4a3a474",
   "outputs": [
    {
     "name": "stdout",
     "output_type": "stream",
     "text": [
      "Based on the provided statement, here's a personality analysis:\n",
      "\n",
      "- Openness: 0.9\n",
      "- Conscientiousness: 0.7\n",
      "- Extraversion: 0.8\n",
      "- Agreeableness: 0.9\n",
      "- Neuroticism: 0.3\n",
      "\n",
      "Analysis Report:\n",
      "- Openness (0.9): This individual demonstrates exceptionally high openness, expressing deep appreciation for social interactions and showing strong emotional responsiveness to positive actions from others.\n",
      "- Conscientiousness (0.7): The conscientiousness level is relatively high, as indicated by the individual's awareness of social media engagement metrics and their deliberate expression of gratitude.\n",
      "- Extraversion (0.8): With very high extraversion, this person shows enthusiasm in social interactions and appears to gain energy from external stimuli like comments and shares.\n",
      "- Agreeableness (0.9): Exhibiting remarkable agreeableness, the individual expresses warmth and appreciation towards others, indicating a friendly and cooperative nature.\n",
      "- Neuroticism (0.3): The low score in neuroticism suggests good emotional stability, as the person appears to be experiencing predominantly positive emotions and expresses feeling \"warm and fuzzy.\"\n"
     ]
    }
   ],
   "execution_count": 5
  },
  {
   "metadata": {
    "ExecuteTime": {
     "end_time": "2025-03-13T08:09:58.349516Z",
     "start_time": "2025-03-13T08:09:58.314992Z"
    }
   },
   "cell_type": "code",
   "source": [
    "import pandas as pd\n",
    "data = pd.read_csv(r\"E:\\code\\project\\data\\video_big5.csv\")\n",
    "#audio_path 把后缀转为mp4并提取文件名\n",
    "video_name = os.path.basename(audio_path).replace(\".mp3\",\".mp4\")\n",
    "#在data中videoName列中根据video_name找到对应行的数据\n",
    "video_data = data[data['videoName']==video_name]\n",
    "video_data"
   ],
   "id": "70f7e24e82354ad4",
   "outputs": [
    {
     "data": {
      "text/plain": [
       "              videoName  extraversion  neuroticism  agreeableness  \\\n",
       "10  9mM_0vrO3wc.003.mp4         0.607        0.615          0.681   \n",
       "\n",
       "    conscientiousness  openness  \n",
       "10              0.718     0.622  "
      ],
      "text/html": [
       "<div>\n",
       "<style scoped>\n",
       "    .dataframe tbody tr th:only-of-type {\n",
       "        vertical-align: middle;\n",
       "    }\n",
       "\n",
       "    .dataframe tbody tr th {\n",
       "        vertical-align: top;\n",
       "    }\n",
       "\n",
       "    .dataframe thead th {\n",
       "        text-align: right;\n",
       "    }\n",
       "</style>\n",
       "<table border=\"1\" class=\"dataframe\">\n",
       "  <thead>\n",
       "    <tr style=\"text-align: right;\">\n",
       "      <th></th>\n",
       "      <th>videoName</th>\n",
       "      <th>extraversion</th>\n",
       "      <th>neuroticism</th>\n",
       "      <th>agreeableness</th>\n",
       "      <th>conscientiousness</th>\n",
       "      <th>openness</th>\n",
       "    </tr>\n",
       "  </thead>\n",
       "  <tbody>\n",
       "    <tr>\n",
       "      <th>10</th>\n",
       "      <td>9mM_0vrO3wc.003.mp4</td>\n",
       "      <td>0.607</td>\n",
       "      <td>0.615</td>\n",
       "      <td>0.681</td>\n",
       "      <td>0.718</td>\n",
       "      <td>0.622</td>\n",
       "    </tr>\n",
       "  </tbody>\n",
       "</table>\n",
       "</div>"
      ]
     },
     "execution_count": 6,
     "metadata": {},
     "output_type": "execute_result"
    }
   ],
   "execution_count": 6
  },
  {
   "metadata": {
    "ExecuteTime": {
     "end_time": "2025-03-06T14:44:12.459120Z",
     "start_time": "2025-03-06T14:44:08.497406Z"
    }
   },
   "cell_type": "code",
   "source": [
    "import os\n",
    "from http import HTTPStatus\n",
    "from dashscope import Application\n",
    "response = Application.call(\n",
    "    # 若没有配置环境变量，可用百炼API Key将下行替换为：api_key=\"sk-xxx\"。但不建议在生产环境中直接将API Key硬编码到代码中，以减少API Key泄露风险。\n",
    "    api_key=\"sk-8ac1a297ccc9487cafcf22a43bc8c4b8\",\n",
    "    app_id='4545946550e94044a0e24ec9b9e46a89',# 替换为实际的应用 ID\n",
    "    prompt=text)\n",
    "\n",
    "if response.status_code != HTTPStatus.OK:\n",
    "    print(f'request_id={response.request_id}')\n",
    "    print(f'code={response.status_code}')\n",
    "    print(f'message={response.message}')\n",
    "    print(f'请参考文档：https://help.aliyun.com/zh/model-studio/developer-reference/error-code')\n",
    "else:\n",
    "    print(response.output.text)\n",
    "    "
   ],
   "id": "e6df9ae5f95014a4",
   "outputs": [
    {
     "name": "stdout",
     "output_type": "stream",
     "text": [
      "you can do what you want to do in your own house/ i'm not going to judge you for that/ i i don't care what you do/ you could watch anime/ you could dress up/ i don't care/ but i would draw the line/ when people tend to waste a good portion of their lives on/\n"
     ]
    }
   ],
   "execution_count": 7
  },
  {
   "metadata": {
    "ExecuteTime": {
     "end_time": "2025-03-06T14:44:40.695187Z",
     "start_time": "2025-03-06T14:44:40.686013Z"
    }
   },
   "cell_type": "code",
   "source": [
    "timestamps = res[0][0][\"timestamp\"]\n",
    "for i in timestamps:\n",
    "    i[0]=i[0].replace(\"▁\", \"\")\n",
    "\n"
   ],
   "id": "8052fcee8472e99a",
   "outputs": [],
   "execution_count": 8
  },
  {
   "metadata": {
    "ExecuteTime": {
     "end_time": "2025-03-06T14:59:17.854308Z",
     "start_time": "2025-03-06T14:59:17.848719Z"
    }
   },
   "cell_type": "code",
   "source": [
    "\n",
    "sentences =response.output.text.split(\"/\")\n",
    "for index,i in enumerate(sentences):\n",
    "    temp =i.replace(\".\", \"\")\n",
    "    sentences[index] =temp.replace(\"\\'\", \" \")\n",
    "for index, i in enumerate(sentences):\n",
    "    sentences[index] = i.lstrip()\n",
    "print(sentences)"
   ],
   "id": "b4e100013cd527dc",
   "outputs": [
    {
     "name": "stdout",
     "output_type": "stream",
     "text": [
      "['you can do what you want to do in your own house', 'i m not going to judge you for that', 'i i don t care what you do', 'you could watch anime', 'you could dress up', 'i don t care', 'but i would draw the line', 'when people tend to waste a good portion of their lives on', '']\n"
     ]
    }
   ],
   "execution_count": 34
  },
  {
   "metadata": {
    "ExecuteTime": {
     "end_time": "2025-03-06T14:59:19.533758Z",
     "start_time": "2025-03-06T14:59:19.522495Z"
    }
   },
   "cell_type": "code",
   "source": [
    "\n",
    "sentences_reserve = sentences.copy()\n",
    "word_timestamps = []\n",
    "current_index = 0\n",
    "sentences = sentences_reserve.copy()\n",
    "while  sentences:\n",
    "    result = {\"sentences\":sentences.pop(0),\"start_time\":None,\"end_time\":None}\n",
    "    for i in timestamps[current_index:]:\n",
    "        if i[0].lower() == result['sentences'].split(' ')[0].lower():\n",
    "            result[\"start_time\"] = i[1]\n",
    "        elif i[0].lower() == result['sentences'].split(' ')[-1].lower():\n",
    "            result[\"end_time\"] = i[2]\n",
    "        else:\n",
    "            print(f\"{i[0]} not match {result['sentences'].split(' ')[0].lower()}  AND {result['sentences'].split(' ')[-1].lower()} \")\n",
    "        if result[\"start_time\"] and result[\"end_time\"]:\n",
    "            word_timestamps.append(result)\n",
    "            current_index += 1\n",
    "            break\n",
    "        current_index += 1\n",
    "word_timestamps"
   ],
   "id": "7fe02268d9103203",
   "outputs": [
    {
     "name": "stdout",
     "output_type": "stream",
     "text": [
      "can not match you  AND house \n",
      "do not match you  AND house \n",
      "what not match you  AND house \n",
      "want not match you  AND house \n",
      "to not match you  AND house \n",
      "do not match you  AND house \n",
      "in not match you  AND house \n",
      "your not match you  AND house \n",
      "own not match you  AND house \n",
      "' not match i  AND that \n",
      "m not match i  AND that \n",
      "not not match i  AND that \n",
      "going not match i  AND that \n",
      "to not match i  AND that \n",
      "judge not match i  AND that \n",
      "you not match i  AND that \n",
      "for not match i  AND that \n",
      "don not match i  AND do \n",
      "' not match i  AND do \n",
      "t not match i  AND do \n",
      "care not match i  AND do \n",
      "what not match i  AND do \n",
      "you not match i  AND do \n",
      "could not match you  AND anime \n",
      "watch not match you  AND anime \n",
      "an not match you  AND anime \n",
      "ime not match you  AND anime \n",
      "could not match you  AND anime \n",
      "dress not match you  AND anime \n",
      "up not match you  AND anime \n",
      "i not match you  AND anime \n",
      "don not match you  AND anime \n",
      "' not match you  AND anime \n",
      "t not match you  AND anime \n",
      "care not match you  AND anime \n",
      "but not match you  AND anime \n",
      "i not match you  AND anime \n",
      "would not match you  AND anime \n",
      "draw not match you  AND anime \n",
      "the not match you  AND anime \n",
      "line not match you  AND anime \n",
      "when not match you  AND anime \n",
      "people not match you  AND anime \n",
      "tend not match you  AND anime \n",
      "to not match you  AND anime \n",
      "waste not match you  AND anime \n",
      "a not match you  AND anime \n",
      "good not match you  AND anime \n",
      "portion not match you  AND anime \n",
      "of not match you  AND anime \n",
      "their not match you  AND anime \n",
      "lives not match you  AND anime \n",
      "on not match you  AND anime \n"
     ]
    },
    {
     "data": {
      "text/plain": [
       "[{'sentences': 'you can do what you want to do in your own house',\n",
       "  'start_time': 0.87,\n",
       "  'end_time': 1.95},\n",
       " {'sentences': 'i m not going to judge you for that',\n",
       "  'start_time': 1.95,\n",
       "  'end_time': 3.21},\n",
       " {'sentences': 'i i don t care what you do',\n",
       "  'start_time': 3.57,\n",
       "  'end_time': 4.95}]"
      ]
     },
     "execution_count": 35,
     "metadata": {},
     "output_type": "execute_result"
    }
   ],
   "execution_count": 35
  }
 ],
 "metadata": {
  "kernelspec": {
   "display_name": "Python 3",
   "language": "python",
   "name": "python3"
  },
  "language_info": {
   "codemirror_mode": {
    "name": "ipython",
    "version": 2
   },
   "file_extension": ".py",
   "mimetype": "text/x-python",
   "name": "python",
   "nbconvert_exporter": "python",
   "pygments_lexer": "ipython2",
   "version": "2.7.6"
  }
 },
 "nbformat": 4,
 "nbformat_minor": 5
}
